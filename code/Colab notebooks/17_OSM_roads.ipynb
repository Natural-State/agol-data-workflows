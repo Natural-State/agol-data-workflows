{
  "nbformat": 4,
  "nbformat_minor": 0,
  "metadata": {
    "colab": {
      "provenance": [],
      "toc_visible": true,
      "mount_file_id": "14O_Bpw_eunkgbBMfdwTaIU1j10qaHAgV",
      "authorship_tag": "ABX9TyPqQm4Yg2MUrwQjnIOHVvJE",
      "include_colab_link": true
    },
    "kernelspec": {
      "name": "python3",
      "display_name": "Python 3"
    },
    "language_info": {
      "name": "python"
    }
  },
  "cells": [
    {
      "cell_type": "markdown",
      "metadata": {
        "id": "view-in-github",
        "colab_type": "text"
      },
      "source": [
        "<a href=\"https://colab.research.google.com/github/Natural-State/agol-data-workflows/blob/master/code/Colab%20notebooks/17_OSM_roads.ipynb\" target=\"_parent\"><img src=\"https://colab.research.google.com/assets/colab-badge.svg\" alt=\"Open In Colab\"/></a>"
      ]
    },
    {
      "cell_type": "code",
      "execution_count": null,
      "metadata": {
        "id": "vAuqwji8QZgh"
      },
      "outputs": [],
      "source": [
        "pip install osmnx --quiet"
      ]
    },
    {
      "cell_type": "code",
      "source": [
        "## Need to fix this issue so that I don't have to restart runtime after every installation"
      ],
      "metadata": {
        "id": "_eAnA3u2jMzR"
      },
      "execution_count": null,
      "outputs": []
    },
    {
      "cell_type": "markdown",
      "source": [
        "ERROR: pip's dependency resolver does not currently take into account all the packages that are installed. This behaviour is the source of the following dependency conflicts.\n",
        "google-colab 1.0.0 requires requests==2.27.1, but you have requests 2.31.0 which is incompatible.\n",
        "numba 0.56.4 requires numpy<1.24,>=1.18, but you have numpy 1.24.3 which is incompatible.\n",
        "tensorflow 2.12.0 requires numpy<1.24,>=1.22, but you have numpy 1.24.3 which is incompatible."
      ],
      "metadata": {
        "id": "eN4Ovy734xhp"
      }
    },
    {
      "cell_type": "code",
      "source": [
        "import osmnx"
      ],
      "metadata": {
        "id": "ylkkjCFKSBbk"
      },
      "execution_count": null,
      "outputs": []
    },
    {
      "cell_type": "code",
      "source": [
        "import ee\n",
        "\n",
        "# Trigger the authentication flow.\n",
        "ee.Authenticate()\n",
        "\n",
        "# Initialize the library.\n",
        "ee.Initialize()"
      ],
      "metadata": {
        "id": "R1IBxcEzViWD"
      },
      "execution_count": null,
      "outputs": []
    },
    {
      "cell_type": "code",
      "source": [
        "# Mount Google Drive\n",
        "from google.colab import drive\n",
        "\n",
        "ROOT = '/content/drive'\n",
        "drive.mount(ROOT, force_remount=True)"
      ],
      "metadata": {
        "id": "0qkq-UEF6d18",
        "colab": {
          "base_uri": "https://localhost:8080/"
        },
        "outputId": "24c37d87-ffb9-49ea-8b2c-591d7e425350"
      },
      "execution_count": null,
      "outputs": [
        {
          "output_type": "stream",
          "name": "stdout",
          "text": [
            "Mounted at /content/drive\n"
          ]
        }
      ]
    },
    {
      "cell_type": "code",
      "source": [
        "# Area of interest\n",
        "# aoi = ee.FeatureCollection(\"projects/ns-agol-rs-data/assets/MKR_NS_buff_5km\")\n",
        "# aoi_name = \"MKR_NS_buff_5km\"\n",
        "\n",
        "aoi = ee.FeatureCollection(\"projects/ns-agol-rs-data/assets/MKR_PACE\")\n",
        "aoi_name = \"MKR_PACE\"\n",
        "\n",
        "layer_name = \"RS_053\"\n",
        "\n",
        "bounds = aoi.geometry().bounds().getInfo()\n",
        "print(aoi.geometry().bounds().getInfo())"
      ],
      "metadata": {
        "colab": {
          "base_uri": "https://localhost:8080/"
        },
        "id": "dYjWuC4TWua9",
        "outputId": "97be8f3f-c027-4223-f691-8d54e1a62245"
      },
      "execution_count": null,
      "outputs": [
        {
          "output_type": "stream",
          "name": "stdout",
          "text": [
            "{'geodesic': False, 'type': 'Polygon', 'coordinates': [[[36.31796821328338, -0.30999048448447153], [38.0817585165564, -0.30999048448447153], [38.0817585165564, 1.0798379763172006], [36.31796821328338, 1.0798379763172006], [36.31796821328338, -0.30999048448447153]]]}\n"
          ]
        }
      ]
    },
    {
      "cell_type": "code",
      "source": [
        "coords = [item for items in bounds[\"coordinates\"] for item in items]\n",
        "coords = [item for items in coords for item in items]\n",
        "\n",
        "for i in coords:\n",
        "  print(i)\n",
        "\n",
        "north = coords[5]\n",
        "south = coords[1]\n",
        "east = coords[2]\n",
        "west = coords[0]\n",
        "\n",
        "# north (float) – northern latitude of bounding box\n",
        "# south (float) – southern latitude of bounding box\n",
        "# east (float) – eastern longitude of bounding box\n",
        "# west (float) – western longitude of bounding box\n"
      ],
      "metadata": {
        "colab": {
          "base_uri": "https://localhost:8080/"
        },
        "id": "zzMEd0CtULVI",
        "outputId": "633961ba-5f3f-494f-8c36-4337202fa06a"
      },
      "execution_count": null,
      "outputs": [
        {
          "output_type": "stream",
          "name": "stdout",
          "text": [
            "36.31796821328338\n",
            "-0.30999048448447153\n",
            "38.0817585165564\n",
            "-0.30999048448447153\n",
            "38.0817585165564\n",
            "1.0798379763172006\n",
            "36.31796821328338\n",
            "1.0798379763172006\n",
            "36.31796821328338\n",
            "-0.30999048448447153\n"
          ]
        }
      ]
    },
    {
      "cell_type": "code",
      "source": [
        "graph = osmnx.graph.graph_from_bbox(north = north, south = south,\n",
        "                                    east = east, west = west,\n",
        "                                    network_type=\"all_private\")"
      ],
      "metadata": {
        "id": "WryGT1F5Vllz"
      },
      "execution_count": null,
      "outputs": []
    },
    {
      "cell_type": "code",
      "source": [
        "# GEOPACKAGE\n",
        "outname = f\"/content/drive/MyDrive/GEE_exports/{layer_name}_{aoi_name}.gpkg\"\n",
        "osmnx.io.save_graph_geopackage(G=graph, filepath=outname, encoding='utf-8', directed=False)"
      ],
      "metadata": {
        "id": "Mp_oA1e_5TYA"
      },
      "execution_count": null,
      "outputs": []
    },
    {
      "cell_type": "code",
      "source": [
        "# SHAPEFILE (DEPRECATED)\n",
        "# outname = f\"/content/drive/MyDrive/GEE_exports/{layer_name}_{aoi_name}\"\n",
        "# osmnx.io.save_graph_shapefile(G=graph, filepath=outname)"
      ],
      "metadata": {
        "id": "JU0a9iHfWHrk"
      },
      "execution_count": null,
      "outputs": []
    },
    {
      "cell_type": "markdown",
      "source": [
        "Order of bounds"
      ],
      "metadata": {
        "id": "sA08s3EZWLTd"
      }
    },
    {
      "cell_type": "code",
      "source": [
        "print(bounds[\"coordinates\"])\n",
        "\n",
        "# # BOTTOM LEFT\n",
        "# 37.02680170330024\n",
        "# 0.05485123989574424\n",
        "\n",
        "# # BOTTOM RIGHT\n",
        "# 37.57276420028336\n",
        "# 0.05485123989574424\n",
        "\n",
        "# # TOP RIGHT\n",
        "# 37.57276420028336\n",
        "# 0.5646830146787256\n",
        "\n",
        "# # TOP LEFT\n",
        "# 37.02680170330024\n",
        "# 0.5646830146787256\n",
        "\n",
        "# # REPEAT BOTTOM LEFT\n",
        "# 37.02680170330024\n",
        "# 0.05485123989574424"
      ],
      "metadata": {
        "colab": {
          "base_uri": "https://localhost:8080/"
        },
        "id": "qA2Fj9StXtAo",
        "outputId": "3ffe49a1-3508-4c90-f2cf-b285ab59ff64"
      },
      "execution_count": null,
      "outputs": [
        {
          "output_type": "stream",
          "name": "stdout",
          "text": [
            "[[[37.02680170330024, 0.05485123989574424], [37.57276420028336, 0.05485123989574424], [37.57276420028336, 0.5646830146787256], [37.02680170330024, 0.5646830146787256], [37.02680170330024, 0.05485123989574424]]]\n"
          ]
        }
      ]
    }
  ]
}
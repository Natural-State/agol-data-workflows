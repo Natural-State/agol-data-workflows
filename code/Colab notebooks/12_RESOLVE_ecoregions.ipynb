{
  "nbformat": 4,
  "nbformat_minor": 0,
  "metadata": {
    "colab": {
      "provenance": [],
      "toc_visible": true,
      "mount_file_id": "1JK2Bt52NRaE_oWYNyouZQQwZyniBWvpk",
      "authorship_tag": "ABX9TyNUFPe8BfKAfO90/2E8zg8b",
      "include_colab_link": true
    },
    "kernelspec": {
      "name": "python3",
      "display_name": "Python 3"
    },
    "language_info": {
      "name": "python"
    }
  },
  "cells": [
    {
      "cell_type": "markdown",
      "metadata": {
        "id": "view-in-github",
        "colab_type": "text"
      },
      "source": [
        "<a href=\"https://colab.research.google.com/github/Natural-State/agol-data-workflows/blob/master/code/Colab%20notebooks/12_RESOLVE_ecoregions.ipynb\" target=\"_parent\"><img src=\"https://colab.research.google.com/assets/colab-badge.svg\" alt=\"Open In Colab\"/></a>"
      ]
    },
    {
      "cell_type": "markdown",
      "source": [
        "# Extract RESOLVE Ecoregions"
      ],
      "metadata": {
        "id": "dJXp2XHuX66D"
      }
    },
    {
      "cell_type": "markdown",
      "source": [
        "## Import gee and authenticate"
      ],
      "metadata": {
        "id": "7yUMLQBfYG9B"
      }
    },
    {
      "cell_type": "code",
      "source": [
        "import ee\n",
        "import geemap"
      ],
      "metadata": {
        "id": "sPyB17KKeLUM"
      },
      "execution_count": null,
      "outputs": []
    },
    {
      "cell_type": "code",
      "execution_count": null,
      "metadata": {
        "id": "sOoUxFdhSmti"
      },
      "outputs": [],
      "source": [
        "# Trigger the authentication flow.\n",
        "ee.Authenticate()\n",
        "\n",
        "# Initialize the library.\n",
        "ee.Initialize()"
      ]
    },
    {
      "cell_type": "markdown",
      "source": [
        "## Input arguments for data extraction"
      ],
      "metadata": {
        "id": "0zGM4Zvf_Gal"
      }
    },
    {
      "cell_type": "code",
      "source": [
        "# Area of interest\n",
        "aoi = ee.FeatureCollection(\"projects/ns-agol-rs-data/assets/LLBN\")\n",
        "aoi_name = \"LLBN\"\n",
        "\n",
        "layer_name = \"RS_039\"\n",
        "\n",
        "ecoregions = ee.FeatureCollection(\"RESOLVE/ECOREGIONS/2017\").filterBounds(aoi)\n",
        "output_name = f\"{layer_name}_{aoi_name}\"\n"
      ],
      "metadata": {
        "id": "HJpF8Lo0_PD1"
      },
      "execution_count": null,
      "outputs": []
    },
    {
      "cell_type": "markdown",
      "source": [
        "## Process and extract Ecoregion data"
      ],
      "metadata": {
        "id": "1NU94hEyiQG-"
      }
    },
    {
      "cell_type": "code",
      "source": [
        "# Data set contains linestrings and polygons. Export can only handle one geometry\n",
        "\n",
        "# Filter out line strings and only keep multipolygons (change the ee.Filter.equals to \"Polygon\" if there are no multiparts)\n",
        "\n",
        "# Map over the features and set the 'geometry_type' property (then filter to only include desired geoms)\n",
        "polygons = ecoregions.map(\n",
        "    lambda f: ee.Feature(f).set('geometry_type', ee.Feature(f).geometry().type())\n",
        ").filter(ee.Filter.equals('geometry_type', 'MultiPolygon'))\n",
        "\n",
        "ecoregions = ee.FeatureCollection(polygons)\n"
      ],
      "metadata": {
        "id": "Zz_0489w7TRo"
      },
      "execution_count": null,
      "outputs": []
    },
    {
      "cell_type": "code",
      "source": [
        "task = ee.batch.Export.table.toDrive(\n",
        "    collection = ecoregions,\n",
        "    description = \"EXPORT IMAGE TO DRIVE\",\n",
        "    fileFormat = \"SHP\",\n",
        "    fileNamePrefix = output_name,\n",
        "    folder = \"GEE_exports\"\n",
        "    )\n",
        "\n",
        "task.start()"
      ],
      "metadata": {
        "id": "w4q_gID25dVU"
      },
      "execution_count": null,
      "outputs": []
    },
    {
      "cell_type": "code",
      "source": [
        "task.status()"
      ],
      "metadata": {
        "id": "r7Hpgt_N9bQA"
      },
      "execution_count": null,
      "outputs": []
    },
    {
      "cell_type": "markdown",
      "source": [
        "## Ad hoc analysis\n",
        "\n",
        "Used this for developing the PACE buffer"
      ],
      "metadata": {
        "id": "RBJGBDmyBid4"
      }
    },
    {
      "cell_type": "code",
      "source": [
        "mkr = ee.FeatureCollection(\"projects/ns-agol-rs-data/assets/MKR_NS_buff_5km\")\n",
        "aoi = ee.FeatureCollection(\"WWF/HydroATLAS/v1/Basins/level06\").filterBounds(mkr)\n",
        "ecoregions = ee.FeatureCollection(\"RESOLVE/ECOREGIONS/2017\").filterBounds(aoi)"
      ],
      "metadata": {
        "id": "UJ0NYQCcBiEB"
      },
      "execution_count": null,
      "outputs": []
    },
    {
      "cell_type": "code",
      "source": [
        "# Filter out line strings and only keep multipolygons (change the ee.Filter.equals to \"Polygon\" if there are no multiparts)\n",
        "\n",
        "# Map over the features and set the 'geometry_type' property (then filter to only include desired geoms)\n",
        "polygons = ecoregions.map(\n",
        "    lambda f: ee.Feature(f).set('geometry_type', ee.Feature(f).geometry().type())\n",
        ").filter(ee.Filter.equals('geometry_type', 'MultiPolygon'))\n",
        "\n",
        "eco_polygons = ee.FeatureCollection(polygons)"
      ],
      "metadata": {
        "id": "ycl-am2XS6Y7"
      },
      "execution_count": null,
      "outputs": []
    },
    {
      "cell_type": "code",
      "source": [
        "Map = geemap.Map()\n",
        "Map.addLayer(aoi, {}, \"aoi\")\n",
        "Map.addLayer(eco_polygons, {}, \"ecoregions\")\n",
        "Map.center_object(eco_polygons, zoom = 10)\n",
        "Map"
      ],
      "metadata": {
        "id": "ceJ1pkp8bHX1"
      },
      "execution_count": null,
      "outputs": []
    },
    {
      "cell_type": "code",
      "source": [
        "task = ee.batch.Export.table.toDrive(\n",
        "    collection = eco_polygons,\n",
        "    description = \"EXPORT IMAGE TO DRIVE\",\n",
        "    fileFormat = \"SHP\",\n",
        "    fileNamePrefix = \"ecoregions_basin_level06\",\n",
        "    folder = \"GEE_exports\"\n",
        "    )\n",
        "\n",
        "task.start()"
      ],
      "metadata": {
        "id": "_RkIkXARJ8Zi"
      },
      "execution_count": null,
      "outputs": []
    },
    {
      "cell_type": "code",
      "source": [
        "task.status()"
      ],
      "metadata": {
        "id": "71Jt22H3C9FK"
      },
      "execution_count": null,
      "outputs": []
    }
  ]
}
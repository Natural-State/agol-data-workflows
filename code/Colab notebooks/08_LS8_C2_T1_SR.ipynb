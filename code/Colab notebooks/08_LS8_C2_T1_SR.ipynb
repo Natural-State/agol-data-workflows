{
  "nbformat": 4,
  "nbformat_minor": 0,
  "metadata": {
    "colab": {
      "provenance": [],
      "toc_visible": true,
      "mount_file_id": "1JK2Bt52NRaE_oWYNyouZQQwZyniBWvpk",
      "authorship_tag": "ABX9TyO5SZxI7SAplyhWvD7A558y",
      "include_colab_link": true
    },
    "kernelspec": {
      "name": "python3",
      "display_name": "Python 3"
    },
    "language_info": {
      "name": "python"
    }
  },
  "cells": [
    {
      "cell_type": "markdown",
      "metadata": {
        "id": "view-in-github",
        "colab_type": "text"
      },
      "source": [
        "<a href=\"https://colab.research.google.com/github/Natural-State/agol-data-workflows/blob/master/code/Colab%20notebooks/08_LS8_C2_T1_SR.ipynb\" target=\"_parent\"><img src=\"https://colab.research.google.com/assets/colab-badge.svg\" alt=\"Open In Colab\"/></a>"
      ]
    },
    {
      "cell_type": "markdown",
      "source": [
        "# Extract primary productivity indicies from Landsat 8, Collection 2, Tier 1, Surface Reflection (Level 2) data"
      ],
      "metadata": {
        "id": "dJXp2XHuX66D"
      }
    },
    {
      "cell_type": "markdown",
      "source": [
        "## Import gee and authenticate"
      ],
      "metadata": {
        "id": "7yUMLQBfYG9B"
      }
    },
    {
      "cell_type": "code",
      "source": [
        "!pip install geemap --quiet"
      ],
      "metadata": {
        "id": "2lZlUiAipVXs"
      },
      "execution_count": null,
      "outputs": []
    },
    {
      "cell_type": "code",
      "source": [
        "import geemap"
      ],
      "metadata": {
        "id": "sPyB17KKeLUM"
      },
      "execution_count": null,
      "outputs": []
    },
    {
      "cell_type": "code",
      "execution_count": null,
      "metadata": {
        "id": "sOoUxFdhSmti"
      },
      "outputs": [],
      "source": [
        "# This doesn't really work, it's only valid for the current runtime...\n",
        "\n",
        "import os\n",
        "\n",
        "# If credentials file doesn't exist, authenticate and store credentials\n",
        "# Else if credentials file does exist, use stored credentials and initialise\n",
        "if not os.path.exists(os.path.expanduser(\"~/.config/earthengine/credentials\")):\n",
        "  import ee\n",
        "  ee.Authenticate()\n",
        "  ee.Initialize()\n",
        "else:\n",
        "  import ee\n",
        "  ee.Initialize()"
      ]
    },
    {
      "cell_type": "markdown",
      "source": [
        "## Input arguments for data extraction"
      ],
      "metadata": {
        "id": "0zGM4Zvf_Gal"
      }
    },
    {
      "cell_type": "code",
      "source": [
        "# Area of interest\n",
        "aoi = ee.FeatureCollection(\"projects/ns-agol-rs-data/assets/MKR\")\n",
        "aoi_name = \"MKR\"\n",
        "\n",
        "# Layer (options: NDVI, EVI, MSAVI)\n",
        "band_layer = \"EVI\"\n",
        "\n",
        "# GEE layer ID\n",
        "layer_dict = {\n",
        "  \"NDVI\": \"RS_017\",\n",
        "  \"EVI\": \"RS_018\",\n",
        "  \"MSAVI\":\"RS_019\"\n",
        "}\n",
        "\n",
        "layer_name = layer_dict[band_layer]\n",
        "\n",
        "# Image reducer (options: mean, median, min, max, stdDev, sum, product)\n",
        "img_col_reducer = \"mean\"\n",
        "\n",
        "# Date parameters\n",
        "start_year = 2013\n",
        "end_year = 2022\n",
        "\n",
        "# Range doesn't include the stop value\n",
        "year_list = ee.List(list(range(start_year, end_year+1)))\n",
        "\n",
        "# Season parameters (months)\n",
        "rain_start = 3\n",
        "rain_end = 5\n",
        "dry_start = 7\n",
        "dry_end = 10"
      ],
      "metadata": {
        "id": "HJpF8Lo0_PD1"
      },
      "execution_count": null,
      "outputs": []
    },
    {
      "cell_type": "markdown",
      "source": [
        "## Functions for Landsat processing"
      ],
      "metadata": {
        "id": "pLd2fttmeN32"
      }
    },
    {
      "cell_type": "code",
      "source": [
        "# Scaling factors\n",
        "def applyScaleFactors(image):\n",
        "  opticalBands = image.select('SR_B.').multiply(0.0000275).add(-0.2)\n",
        "  return image.addBands(opticalBands, None, True)\n",
        "\n",
        "# Function to get and rename bands of interest from OLI.\n",
        "def renameOLI(image):\n",
        "    return image.select(\n",
        "        ['SR_B2', 'SR_B3', 'SR_B4', 'SR_B5', 'SR_B6', 'SR_B7', 'QA_PIXEL'],\n",
        "        ['Blue', 'Green', 'Red', 'NIR', 'SWIR1', 'SWIR2', 'QA_PIXEL'])\n",
        "\n",
        "# Define function to mask out clouds and cloud shadows.\n",
        "def fmask(image):\n",
        "    cloudShadowBitMask = 1 << 3\n",
        "    cloudsBitMask = 1 << 4\n",
        "    qa = image.select('QA_PIXEL')\n",
        "    mask = qa.bitwiseAnd(cloudShadowBitMask).eq(0).And(qa.bitwiseAnd(cloudsBitMask).eq(0))\n",
        "    return image.updateMask(mask)\n",
        "\n",
        "# Calculate and add NDVI band\n",
        "def addNDVI(image):\n",
        "    ndvi = image.normalizedDifference(['NIR', 'Red']).rename('NDVI')\n",
        "    return image.addBands(ndvi)\n",
        "\n",
        "# Calculate and add EVI\n",
        "def addEVI(image):\n",
        "  evi = image.expression(\n",
        "    '2.5 * ((NIR - RED) / (NIR + 6 * RED - 7.5 * BLUE + 1))', {\n",
        "        'NIR': image.select('NIR'),\n",
        "        'RED': image.select('Red'),\n",
        "        'BLUE': image.select('Blue')\n",
        "    }).rename('EVI')\n",
        "  return image.addBands(evi)\n",
        "\n",
        "# Calculate and add MSAVI\n",
        "def addMSAVI(image):\n",
        "  msavi = image.expression(\n",
        "    '(2 * NIR + 1 - sqrt(pow((2 * NIR + 1), 2) - 8 * (NIR - RED))) / 2', {\n",
        "        'NIR': image.select('NIR'),\n",
        "        'RED': image.select('Red')\n",
        "    }).rename('MSAVI')\n",
        "  return image.addBands(msavi)\n",
        "\n",
        "# Prepare OLI mage (Landsat 8)\n",
        "def prepOLI(image):\n",
        "  orig = image\n",
        "  image = applyScaleFactors(image)\n",
        "  image = renameOLI(image)\n",
        "  image = fmask(image)\n",
        "  image = addNDVI(image)\n",
        "  image = addEVI(image)\n",
        "  image = addMSAVI(image)\n",
        "  return ee.Image(image.copyProperties(orig, orig.propertyNames()))\n",
        "\n",
        "#  Filter bounds needs to be first otherwise calculations take forever\n",
        "l8 = ee.ImageCollection(\"LANDSAT/LC08/C02/T1_L2\")\n",
        "l8 = l8.filterBounds(aoi).map(prepOLI)\n",
        "\n",
        "bandname = ee.String(l8.first().bandNames())\n",
        "print(bandname.getInfo())\n",
        "print(l8.first().getInfo())"
      ],
      "metadata": {
        "id": "OxcJJv8aeUb1"
      },
      "execution_count": null,
      "outputs": []
    },
    {
      "cell_type": "markdown",
      "source": [
        "## NDVI/MSAVI/EVI processing"
      ],
      "metadata": {
        "id": "MF4OJJGka6Kd"
      }
    },
    {
      "cell_type": "code",
      "source": [
        "reducer_list = ee.Reducer.mean() \\\n",
        ".combine(reducer2 = ee.Reducer.median(), sharedInputs=True) \\\n",
        ".combine(reducer2 = ee.Reducer.min(), sharedInputs=True) \\\n",
        ".combine(reducer2 = ee.Reducer.max(), sharedInputs=True) \\\n",
        ".combine(reducer2 = ee.Reducer.stdDev(), sharedInputs=True) \\\n",
        ".combine(reducer2 = ee.Reducer.sum(), sharedInputs=True) \\\n",
        ".combine(reducer2 = ee.Reducer.product(), sharedInputs=True)\n",
        "\n",
        "\n",
        "def annual_image(year_date):\n",
        "  start = ee.Date.fromYMD(year_date, 1, 1)\n",
        "  end = ee.Date.fromYMD(year_date, 12, 31)\n",
        "  date_range = ee.DateRange(start, end)\n",
        "  name = start.format('YYYY_MM').cat('_to_').cat(end.format('YYYY_MM'))\n",
        "  return l8 \\\n",
        "        .filterDate(date_range) \\\n",
        "        .select(band_layer) \\\n",
        "        .reduce(reducer = reducer_list) \\\n",
        "        .clip(aoi) \\\n",
        "        .set({'name': name})\n",
        "\n",
        "annual_image = year_list.map(annual_image)\n",
        "\n",
        "## Check an element of list\n",
        "year_mosaic = ee.Image(annual_image.get(1))\n",
        "label = ee.String(year_mosaic.get('name')).getInfo()\n",
        "print(label)\n",
        "print(year_mosaic.getInfo())\n",
        "print(year_mosaic.bandNames().getInfo())\n",
        "\n",
        "## Check a reducer band\n",
        "band_select = \".*\" + img_col_reducer\n",
        "print(band_select)\n",
        "print(year_mosaic.select(band_select).getInfo())"
      ],
      "metadata": {
        "id": "5ME5rPTOuOPn"
      },
      "execution_count": null,
      "outputs": []
    },
    {
      "cell_type": "code",
      "source": [
        "def annual_seasonal_image(year_date, season_start, season_end):\n",
        "  start = ee.Date.fromYMD(year_date, season_start, 1)\n",
        "  end = ee.Date.fromYMD(year_date, season_end, 30)\n",
        "  date_range = ee.DateRange(start, end)\n",
        "  season_label = \"dry\" if season_start == 7 else \"wet\"\n",
        "  return l8 \\\n",
        "        .filterDate(date_range) \\\n",
        "        .select(band_layer) \\\n",
        "        .reduce(reducer = reducer_list) \\\n",
        "        .clip(aoi)  \\\n",
        "        .set({'season': season_label,\n",
        "              'year': year_date})\n",
        "\n",
        "def map_seasonal_dry(year):\n",
        "  return annual_seasonal_image(year, dry_start, dry_end)\n",
        "\n",
        "annual_dry = year_list.map(map_seasonal_dry)\n",
        "\n",
        "def map_seasonal_rain(year):\n",
        "  return annual_seasonal_image(year, rain_start, rain_end)\n",
        "\n",
        "annual_rain = year_list.map(map_seasonal_rain)"
      ],
      "metadata": {
        "id": "D3oojkqxK1i7"
      },
      "execution_count": null,
      "outputs": []
    },
    {
      "cell_type": "markdown",
      "source": [
        "## Map check"
      ],
      "metadata": {
        "id": "yis568ZvpJA9"
      }
    },
    {
      "cell_type": "code",
      "source": [
        "ndvi_vis_params = {\"min\": 0.0, \"max\": 1.0,\n",
        "                \"palette\": ['FFFFFF', 'CE7E45', 'DF923D', 'F1B555', 'FCD163', '99B718', '74A901',\n",
        "                            '66A000', '529400', '3E8601', '207401', '056201', '004C00', '023B01',\n",
        "                            '012E01', '011D01', '011301']\n",
        "                  }\n",
        "\n",
        "Map = geemap.Map()\n",
        "Map.addLayer(year_mosaic.select(band_select), ndvi_vis_params, 'NDVI')\n",
        "\n",
        "# Map.addLayer(ndvi2011, ndvi_vis_params, 'NDVI-2011')\n",
        "# Map.addLayer(ndvi2014, ndvi_vis_params, 'NDVI-2014')\n",
        "\n",
        "Map.centerObject(aoi, zoom=10)\n",
        "Map"
      ],
      "metadata": {
        "id": "DY6Yq_2gpLaM"
      },
      "execution_count": null,
      "outputs": []
    },
    {
      "cell_type": "markdown",
      "source": [
        "## Export data - create task"
      ],
      "metadata": {
        "id": "i5vQjmLxemR7"
      }
    },
    {
      "cell_type": "code",
      "source": [
        "# Annual images\n",
        "for i in  range(ee.List.length(annual_image).getInfo()):\n",
        "  band_select = \".*\" + img_col_reducer\n",
        "  output_img =  ee.Image(annual_image.get(i))\n",
        "  output_img = output_img.select(band_select)\n",
        "  output_name = f\"{layer_name}_{img_col_reducer}_{aoi_name}_{ee.String(output_img.get('name')).getInfo()}\"\n",
        "\n",
        "  task = ee.batch.Export.image.toDrive(image = output_img,\n",
        "                                      region = aoi.geometry(),\n",
        "                                      description = \"EXPORT IMAGE TO DRIVE\",\n",
        "                                      folder = \"GEE_exports\",\n",
        "                                      fileNamePrefix = output_name,\n",
        "                                      scale = 30,\n",
        "                                      maxPixels = 10e12,\n",
        "                                      crs = \"EPSG:4326\"\n",
        "                                      )\n",
        "  task.start()\n",
        "  print(\"STARTED TASK \", i+1)"
      ],
      "metadata": {
        "id": "IGK70Xg1hdPh"
      },
      "execution_count": null,
      "outputs": []
    },
    {
      "cell_type": "code",
      "source": [
        "# Seasonal images - DRY\n",
        "for i in range(ee.List.length(annual_dry).getInfo()):\n",
        "  band_select = \".*\" + img_col_reducer\n",
        "  output_img =  ee.Image(annual_dry.get(i))\n",
        "  output_img = output_img.select(band_select)\n",
        "  output_name = f\"{layer_name}_{img_col_reducer}_{aoi_name}_{ee.String(output_img.get('year')).getInfo()}_{ee.String(output_img.get('season')).getInfo()}\"\n",
        "\n",
        "  task = ee.batch.Export.image.toDrive(image = output_img,\n",
        "                                     region = aoi.geometry(),\n",
        "                                     description = \"EXPORT IMAGE TO DRIVE\",\n",
        "                                     folder = \"GEE_exports\",\n",
        "                                     fileNamePrefix = output_name,\n",
        "                                     scale = 30,\n",
        "                                     maxPixels = 10e12,\n",
        "                                     crs = \"EPSG:4326\"\n",
        "                                     )\n",
        "  task.start()\n",
        "  print(\"STARTED TASK \", \"DRY \", i+1)"
      ],
      "metadata": {
        "id": "j0bU19lVU8QA"
      },
      "execution_count": null,
      "outputs": []
    },
    {
      "cell_type": "code",
      "source": [
        "# Seasonal images - RAIN\n",
        "for i in range(ee.List.length(annual_rain).getInfo()):\n",
        "  band_select = \".*\" + img_col_reducer\n",
        "  output_img =  ee.Image(annual_rain.get(i))\n",
        "  output_img = output_img.select(band_select)\n",
        "  output_name = f\"{layer_name}_{img_col_reducer}_{aoi_name}_{ee.String(output_img.get('year')).getInfo()}_{ee.String(output_img.get('season')).getInfo()}\"\n",
        "\n",
        "  task = ee.batch.Export.image.toDrive(image = output_img,\n",
        "                                     region = aoi.geometry(),\n",
        "                                     description = \"EXPORT IMAGE TO DRIVE\",\n",
        "                                     folder = \"GEE_exports\",\n",
        "                                     fileNamePrefix = output_name,\n",
        "                                     scale = 30,\n",
        "                                     maxPixels = 10e12,\n",
        "                                     crs = \"EPSG:4326\"\n",
        "                                     )\n",
        "  task.start()\n",
        "  print(\"STARTED TASK \", \"RAIN \", i+1)"
      ],
      "metadata": {
        "id": "MUGklfXkVtSn"
      },
      "execution_count": null,
      "outputs": []
    },
    {
      "cell_type": "markdown",
      "source": [
        "## Check task status\n",
        "\n",
        "[List](https://developers.google.com/earth-engine/guides/processing_environments#list-of-task-states) of task status messages (state field)\n"
      ],
      "metadata": {
        "id": "JTou0uwZf07f"
      }
    },
    {
      "cell_type": "code",
      "source": [
        "tasks = ee.batch.Task.list()\n",
        "for task in tasks[0:ee.List.length(year_list).getInfo()]:\n",
        "  task_id = task.status()['id']\n",
        "  task_state = task.status()['state']\n",
        "  print(task_id, task_state)"
      ],
      "metadata": {
        "id": "pW1XtRbvszlI"
      },
      "execution_count": null,
      "outputs": []
    }
  ]
}
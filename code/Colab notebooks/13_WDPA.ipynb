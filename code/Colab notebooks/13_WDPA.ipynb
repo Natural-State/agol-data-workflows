{
  "nbformat": 4,
  "nbformat_minor": 0,
  "metadata": {
    "colab": {
      "provenance": [],
      "toc_visible": true,
      "mount_file_id": "1JK2Bt52NRaE_oWYNyouZQQwZyniBWvpk",
      "authorship_tag": "ABX9TyPtLNEmy6Tk0XN7rUhVsiQL",
      "include_colab_link": true
    },
    "kernelspec": {
      "name": "python3",
      "display_name": "Python 3"
    },
    "language_info": {
      "name": "python"
    }
  },
  "cells": [
    {
      "cell_type": "markdown",
      "metadata": {
        "id": "view-in-github",
        "colab_type": "text"
      },
      "source": [
        "<a href=\"https://colab.research.google.com/github/Natural-State/agol-data-workflows/blob/master/code/Colab%20notebooks/13_WDPA.ipynb\" target=\"_parent\"><img src=\"https://colab.research.google.com/assets/colab-badge.svg\" alt=\"Open In Colab\"/></a>"
      ]
    },
    {
      "cell_type": "markdown",
      "source": [
        "# Extract Protected Areas from World Database"
      ],
      "metadata": {
        "id": "dJXp2XHuX66D"
      }
    },
    {
      "cell_type": "markdown",
      "source": [
        "## Import gee and authenticate"
      ],
      "metadata": {
        "id": "7yUMLQBfYG9B"
      }
    },
    {
      "cell_type": "code",
      "source": [
        "import ee"
      ],
      "metadata": {
        "id": "sPyB17KKeLUM"
      },
      "execution_count": null,
      "outputs": []
    },
    {
      "cell_type": "code",
      "execution_count": null,
      "metadata": {
        "id": "sOoUxFdhSmti"
      },
      "outputs": [],
      "source": [
        "# Trigger the authentication flow.\n",
        "ee.Authenticate()\n",
        "\n",
        "# Initialize the library.\n",
        "ee.Initialize()"
      ]
    },
    {
      "cell_type": "markdown",
      "source": [
        "## Input arguments for data extraction"
      ],
      "metadata": {
        "id": "0zGM4Zvf_Gal"
      }
    },
    {
      "cell_type": "code",
      "source": [
        "# Area of interest\n",
        "aoi = ee.FeatureCollection(\"projects/ns-agol-rs-data/assets/MKR_NS_buff_5km\")\n",
        "aoi_name = \"MKR_NS_buff_5km\"\n",
        "layer_name = \"RS_040\"\n",
        "\n",
        "PAs = ee.FeatureCollection(\"WCMC/WDPA/current/polygons\").filterBounds(aoi)\n",
        "output_name = f\"{layer_name}_{aoi_name}\"\n"
      ],
      "metadata": {
        "id": "HJpF8Lo0_PD1"
      },
      "execution_count": null,
      "outputs": []
    },
    {
      "cell_type": "markdown",
      "source": [
        "## Process and extract PAs"
      ],
      "metadata": {
        "id": "1NU94hEyiQG-"
      }
    },
    {
      "cell_type": "code",
      "source": [
        "# Data set contains linestrings and polygons. Export can only handle one geometry\n",
        "# Assign geometry and then filter only polygons\n",
        "\n",
        "def assign_geoms(fc):\n",
        "  return fc.set('geom_type', fc.geometry().type())\n",
        "\n",
        "PAs = PAs.map(assign_geoms)\n",
        "\n",
        "PA_polygons = PAs.filter(ee.Filter.equals(\"geom_type\", \"Polygon\"))\n"
      ],
      "metadata": {
        "id": "Zz_0489w7TRo"
      },
      "execution_count": null,
      "outputs": []
    },
    {
      "cell_type": "code",
      "source": [
        "print(PAs.geometry().type().getInfo())\n",
        "print(PA_polygons.geometry().type().getInfo())"
      ],
      "metadata": {
        "id": "lKyhXgAyn9fG"
      },
      "execution_count": null,
      "outputs": []
    },
    {
      "cell_type": "code",
      "source": [
        "task = ee.batch.Export.table.toDrive(\n",
        "    collection = PA_polygons,\n",
        "    description = \"EXPORT IMAGE TO DRIVE\",\n",
        "    fileFormat = \"SHP\",\n",
        "    fileNamePrefix = output_name,\n",
        "    folder = \"GEE_exports\"\n",
        "    )\n",
        "\n",
        "task.start()"
      ],
      "metadata": {
        "id": "w4q_gID25dVU"
      },
      "execution_count": null,
      "outputs": []
    },
    {
      "cell_type": "code",
      "source": [
        "task.status()"
      ],
      "metadata": {
        "id": "r7Hpgt_N9bQA"
      },
      "execution_count": null,
      "outputs": []
    }
  ]
}
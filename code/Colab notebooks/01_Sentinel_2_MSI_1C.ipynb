{
  "nbformat": 4,
  "nbformat_minor": 0,
  "metadata": {
    "colab": {
      "provenance": [],
      "toc_visible": true,
      "mount_file_id": "1n8lSJ7mgfEt8S34QlN7fkZtWn9wUK4Ur",
      "authorship_tag": "ABX9TyNQglbNlNLyL9lsE39w0ehg",
      "include_colab_link": true
    },
    "kernelspec": {
      "name": "python3",
      "display_name": "Python 3"
    },
    "language_info": {
      "name": "python"
    }
  },
  "cells": [
    {
      "cell_type": "markdown",
      "metadata": {
        "id": "view-in-github",
        "colab_type": "text"
      },
      "source": [
        "<a href=\"https://colab.research.google.com/github/Natural-State/agol-data-workflows/blob/master/code/Colab%20notebooks/01_Sentinel_2_MSI_1C.ipynb\" target=\"_parent\"><img src=\"https://colab.research.google.com/assets/colab-badge.svg\" alt=\"Open In Colab\"/></a>"
      ]
    },
    {
      "cell_type": "markdown",
      "source": [
        "# Extract seasonal and annual NDVI from Sentinel 2"
      ],
      "metadata": {
        "id": "dJXp2XHuX66D"
      }
    },
    {
      "cell_type": "markdown",
      "source": [
        "See [here](https://developers.google.com/earth-engine/guides/python_install#syntax) for differences between Javascript and Python syntax\n",
        "\n",
        "Main [tutorial](https://courses.spatialthoughts.com/end-to-end-gee.html#module-6-google-earth-engine-python-api) here"
      ],
      "metadata": {
        "id": "87txRFNsithD"
      }
    },
    {
      "cell_type": "markdown",
      "source": [
        "## Import gee and authenticate\n",
        "\n",
        "Expiry period: the granted permissions will expire in a week, after which you'll need to call ee.Authenticate() again."
      ],
      "metadata": {
        "id": "7yUMLQBfYG9B"
      }
    },
    {
      "cell_type": "code",
      "source": [
        "# This doesn't really work, it's only valid for the current runtime...\n",
        "import os\n",
        "\n",
        "# If credentials file doesn't exist, authenticate and store credentials\n",
        "# Else if credentials file does exist, use stored credentials and initialise\n",
        "if not os.path.exists(os.path.expanduser(\"~/.config/earthengine/credentials\")):\n",
        "  import ee\n",
        "  ee.Authenticate()\n",
        "  ee.Initialize()\n",
        "else:\n",
        "  import ee\n",
        "  ee.Initialize()"
      ],
      "metadata": {
        "id": "B6_MBI9vfpdf"
      },
      "execution_count": null,
      "outputs": []
    },
    {
      "cell_type": "markdown",
      "source": [
        "## Input arguments for data extraction"
      ],
      "metadata": {
        "id": "0zGM4Zvf_Gal"
      }
    },
    {
      "cell_type": "code",
      "source": [
        "# Area of interest\n",
        "# aoi = ee.FeatureCollection(\"projects/ns-agol-rs-data/assets/MKR_NS_buff_5km\")\n",
        "# aoi_name = \"MKR_NS_buff_5km\"\n",
        "\n",
        "aoi = ee.FeatureCollection(\"projects/ns-agol-rs-data/assets/MKR_PACE\")\n",
        "aoi_name = \"MKR_PACE\"\n",
        "\n",
        "# GEE layer ID\n",
        "layer_name = \"RS_001\"\n",
        "\n",
        "# Image reducer (options: mean, median, min, max, stdDev, sum, product)\n",
        "img_col_reducer = \"mean\"\n",
        "\n",
        "# Date parameters (for sentinel there aren't 10 years of data available)\n",
        "start_year = 2016\n",
        "end_year = 2022\n",
        "\n",
        "# Range doesn't include the stop value\n",
        "year_list = ee.List(list(range(start_year, end_year+1)))\n",
        "\n",
        "# Season parameters (months)\n",
        "rain_start = 3\n",
        "rain_end = 5 \n",
        "dry_start = 7\n",
        "dry_end = 10"
      ],
      "metadata": {
        "id": "HJpF8Lo0_PD1"
      },
      "execution_count": null,
      "outputs": []
    },
    {
      "cell_type": "markdown",
      "source": [
        "## Import Sentinel 2 image collection\n",
        "\n",
        "Dataset starts in June 2015\n",
        "Clouds can be mostly removed by using [COPERNICUS/S2_CLOUD_PROBABILITY](https://developers.google.com/earth-engine/datasets/catalog/COPERNICUS_S2_CLOUD_PROBABILITY). See [this tutorial](https://developers.google.com/earth-engine/tutorials/community/sentinel-2-s2cloudless) explaining how to apply the cloud mask.\n",
        "\n",
        "\n",
        "\n",
        "---\n",
        "\n",
        "\n",
        "Sentinel-2 MSI: MultiSpectral Instrument, Level-1C\n",
        "```ee.ImageCollection(\"COPERNICUS/S2\")```\n",
        "\n",
        "\n",
        "\n",
        "---\n",
        "\n",
        "\n",
        "Harmonized Sentinel-2 MSI: MultiSpectral Instrument, Level-2A\n",
        "```ee.ImageCollection(\"COPERNICUS/S2_SR_HARMONIZED\")```\n",
        "\n",
        "\n",
        "\n",
        "---\n",
        "\n",
        "\n",
        "Sentinel-2 MSI: MultiSpectral Instrument, Level-2A\n",
        "```ee.ImageCollection(\"COPERNICUS/S2_SR\")```"
      ],
      "metadata": {
        "id": "k7gU47wyao17"
      }
    },
    {
      "cell_type": "code",
      "source": [
        "sentinel2 = ee.ImageCollection(\"COPERNICUS/S2_SR_HARMONIZED\")"
      ],
      "metadata": {
        "id": "moid-7byasZq"
      },
      "execution_count": null,
      "outputs": []
    },
    {
      "cell_type": "markdown",
      "source": [
        "## NDVI processing"
      ],
      "metadata": {
        "id": "MF4OJJGka6Kd"
      }
    },
    {
      "cell_type": "markdown",
      "source": [
        "### Helper functions"
      ],
      "metadata": {
        "id": "BRlwgBVuRf1U"
      }
    },
    {
      "cell_type": "code",
      "source": [
        "def maskS2clouds(image):\n",
        "  qa = image.select('QA60')\n",
        "  # Bits 10 and 11 are clouds and cirrus, respectively.\n",
        "  cloudBitMask = 1 << 10\n",
        "  cirrusBitMask = 1 << 11\n",
        "  # Both flags should be set to zero, indicating clear conditions.\n",
        "  mask = qa.bitwiseAnd(cloudBitMask).eq(0).And(qa.bitwiseAnd(cirrusBitMask).eq(0))\n",
        "  return image.updateMask(mask).divide(10000)\n",
        "\n",
        "\n",
        "def addNDVI(image):\n",
        "  imgb = image.select('B.*')\n",
        "  ndvi = imgb.normalizedDifference(['B8','B4']).rename('NDVI')\n",
        "  return image.addBands(ndvi)\n",
        "\n",
        "reducer_list = ee.Reducer.mean() \\\n",
        ".combine(reducer2 = ee.Reducer.median(), sharedInputs=True) \\\n",
        ".combine(reducer2 = ee.Reducer.min(), sharedInputs=True) \\\n",
        ".combine(reducer2 = ee.Reducer.max(), sharedInputs=True) \\\n",
        ".combine(reducer2 = ee.Reducer.stdDev(), sharedInputs=True) \\\n",
        ".combine(reducer2 = ee.Reducer.sum(), sharedInputs=True) \\\n",
        ".combine(reducer2 = ee.Reducer.product(), sharedInputs=True)"
      ],
      "metadata": {
        "id": "ceDuT-aqRdWd"
      },
      "execution_count": null,
      "outputs": []
    },
    {
      "cell_type": "markdown",
      "source": [
        "### Annual NDVI"
      ],
      "metadata": {
        "id": "5M5ReWueRlH-"
      }
    },
    {
      "cell_type": "code",
      "source": [
        "def annual_NDVI(year_date):\n",
        "  start = ee.Date.fromYMD(year_date, 1, 1)\n",
        "  end = ee.Date.fromYMD(year_date, 12, 31)\n",
        "  date_range = ee.DateRange(start, end)\n",
        "  name = start.format('YYYY_MM').cat('_to_').cat(end.format('YYYY_MM'))\n",
        "  return ee.ImageCollection(\"COPERNICUS/S2\") \\\n",
        "        .filterDate(date_range) \\\n",
        "        .filter(ee.Filter.lt('CLOUDY_PIXEL_PERCENTAGE', 20)) \\\n",
        "        .map(maskS2clouds) \\\n",
        "        .map(addNDVI) \\\n",
        "        .select('NDVI') \\\n",
        "        .reduce(reducer = reducer_list) \\\n",
        "        .clip(aoi) \\\n",
        "        .set({'name': name})\n",
        "\n",
        "annual_ndvi = year_list.map(annual_NDVI)\n",
        "\n",
        "## Check an element of list\n",
        "year_mosaic  = ee.Image(annual_ndvi.get(2))\n",
        "label = ee.String(year_mosaic.get('name')).getInfo()\n",
        "print(label)\n",
        "print(year_mosaic.getInfo())\n",
        "\n",
        "## Check a reducer band\n",
        "band_select = \".*\" + img_col_reducer\n",
        "print(band_select)\n",
        "print(year_mosaic.select(band_select).getInfo())"
      ],
      "metadata": {
        "id": "VBthfSn8RvMV"
      },
      "execution_count": null,
      "outputs": []
    },
    {
      "cell_type": "markdown",
      "source": [
        "### Seasonal NDVI"
      ],
      "metadata": {
        "id": "N7RCyRwJRpvr"
      }
    },
    {
      "cell_type": "code",
      "source": [
        "def annual_seasonal_NDVI(year_date, season_start, season_end):\n",
        "  start = ee.Date.fromYMD(year_date, season_start, 1)\n",
        "  end = ee.Date.fromYMD(year_date, season_end, 30)\n",
        "  date_range = ee.DateRange(start, end)\n",
        "  season_label = \"dry\" if season_start == 7 else \"wet\" \n",
        "  return ee.ImageCollection(\"COPERNICUS/S2\") \\\n",
        "        .filterDate(date_range) \\\n",
        "        .filter(ee.Filter.lt('CLOUDY_PIXEL_PERCENTAGE', 20)) \\\n",
        "        .map(maskS2clouds) \\\n",
        "        .map(addNDVI) \\\n",
        "        .select('NDVI') \\\n",
        "        .reduce(reducer = reducer_list) \\\n",
        "        .clip(aoi) \\\n",
        "        .set({'season': season_label,\n",
        "              'year': year_date})\n",
        "\n",
        "def map_seasonal_dry(year):\n",
        "  return annual_seasonal_NDVI(year, dry_start, dry_end)\n",
        "\n",
        "annual_dry = year_list.map(map_seasonal_dry)\n",
        "\n",
        "def map_seasonal_rain(year):\n",
        "  return annual_seasonal_NDVI(year, rain_start, rain_end)\n",
        "\n",
        "annual_rain = year_list.map(map_seasonal_rain)\n",
        "\n",
        "## Check an element of list\n",
        "year_mosaic = ee.Image(annual_rain.get(0))\n",
        "label = ee.String(year_mosaic.get('season')).getInfo() + str(ee.String(year_mosaic.get('year')).getInfo())\n",
        "print(label)\n",
        "print(year_mosaic.getInfo())\n",
        "print(year_mosaic.bandNames().getInfo())"
      ],
      "metadata": {
        "id": "CjwEcDU5RurW"
      },
      "execution_count": null,
      "outputs": []
    },
    {
      "cell_type": "markdown",
      "source": [
        "## Export data - create task\n",
        "\n",
        "`filenamePrefix` should be in format: place_layer_timeperiod"
      ],
      "metadata": {
        "id": "i5vQjmLxemR7"
      }
    },
    {
      "cell_type": "code",
      "source": [
        "# Annual images\n",
        "for i in range(ee.List.length(annual_ndvi).getInfo()):\n",
        "  band_select = \".*\" + img_col_reducer\n",
        "  output_img =  ee.Image(annual_ndvi.get(i))\n",
        "  output_img = output_img.select(band_select)\n",
        "  output_name = f\"{layer_name}_{img_col_reducer}_{aoi_name}_{ee.String(output_img.get('name')).getInfo()}\"\n",
        "\n",
        "  task = ee.batch.Export.image.toDrive(image = output_img,\n",
        "                                     region = aoi.geometry(),\n",
        "                                     description = \"EXPORT IMAGE TO DRIVE\",\n",
        "                                     folder = \"GEE_exports\",\n",
        "                                     fileNamePrefix = output_name,\n",
        "                                     scale = 30,\n",
        "                                     maxPixels = 10e12\n",
        "                                     )\n",
        "  task.start()\n",
        "  print(\"STARTED TASK \", i+1)"
      ],
      "metadata": {
        "id": "IGK70Xg1hdPh"
      },
      "execution_count": null,
      "outputs": []
    },
    {
      "cell_type": "code",
      "source": [
        "# Seasonal images - DRY\n",
        "for i in range(ee.List.length(annual_dry).getInfo()):\n",
        "  band_select = \".*\" + img_col_reducer\n",
        "  output_img =  ee.Image(annual_dry.get(i))\n",
        "  output_img = output_img.select(band_select)\n",
        "  output_name = f\"{layer_name}_{img_col_reducer}_{aoi_name}_{ee.String(output_img.get('year')).getInfo()}_{ee.String(output_img.get('season')).getInfo()}\"\n",
        "\n",
        "  task = ee.batch.Export.image.toDrive(image = output_img,\n",
        "                                     region = aoi.geometry(),\n",
        "                                     description = \"EXPORT IMAGE TO DRIVE\",\n",
        "                                     folder = \"GEE_exports\",\n",
        "                                     fileNamePrefix = output_name,\n",
        "                                     scale = 30,\n",
        "                                     maxPixels = 10e12\n",
        "                                     )\n",
        "  task.start()\n",
        "  print(\"STARTED TASK \", \"DRY \", i+1)"
      ],
      "metadata": {
        "id": "j0bU19lVU8QA"
      },
      "execution_count": null,
      "outputs": []
    },
    {
      "cell_type": "code",
      "source": [
        "# Seasonal images - RAIN\n",
        "for i in range(ee.List.length(annual_rain).getInfo()):\n",
        "  band_select = \".*\" + img_col_reducer\n",
        "  output_img =  ee.Image(annual_rain.get(i))\n",
        "  output_img = output_img.select(band_select)\n",
        "  output_name = f\"{layer_name}_{img_col_reducer}_{aoi_name}_{ee.String(output_img.get('year')).getInfo()}_{ee.String(output_img.get('season')).getInfo()}\"\n",
        "\n",
        "  task = ee.batch.Export.image.toDrive(image = output_img,\n",
        "                                     region = aoi.geometry(),\n",
        "                                     description = \"EXPORT IMAGE TO DRIVE\",\n",
        "                                     folder = \"GEE_exports\",\n",
        "                                     fileNamePrefix = output_name,\n",
        "                                     scale = 30,\n",
        "                                     maxPixels = 10e12\n",
        "                                     )\n",
        "  task.start()\n",
        "  print(\"STARTED TASK \", \"RAIN \", i+1)"
      ],
      "metadata": {
        "id": "MUGklfXkVtSn"
      },
      "execution_count": null,
      "outputs": []
    },
    {
      "cell_type": "markdown",
      "source": [
        "## Check task status\n",
        "\n",
        "[List](https://developers.google.com/earth-engine/guides/processing_environments#list-of-task-states) of task status messages (state field)\n"
      ],
      "metadata": {
        "id": "JTou0uwZf07f"
      }
    },
    {
      "cell_type": "code",
      "source": [
        "tasks = ee.batch.Task.list()\n",
        "for task in tasks[0:ee.List.length(year_list).getInfo()]:\n",
        "  task_id = task.status()['id']\n",
        "  task_state = task.status()['state']\n",
        "  print(task_id, task_state)"
      ],
      "metadata": {
        "id": "pW1XtRbvszlI"
      },
      "execution_count": null,
      "outputs": []
    },
    {
      "cell_type": "markdown",
      "source": [
        "## Mount and unmount Google Drive\n"
      ],
      "metadata": {
        "id": "TEKiuAzDoxbj"
      }
    },
    {
      "cell_type": "code",
      "source": [
        "# Mount\n",
        "#from google.colab import drive\n",
        "\n",
        "#ROOT = '/content/drive' \n",
        "#drive.mount(ROOT, force_remount=True) \n"
      ],
      "metadata": {
        "id": "W-m1KHblpPLX"
      },
      "execution_count": null,
      "outputs": []
    },
    {
      "cell_type": "code",
      "source": [
        "# Unmount\n",
        "#drive.flush_and_unmount() "
      ],
      "metadata": {
        "id": "3XAfLgvHo5Oh"
      },
      "execution_count": null,
      "outputs": []
    }
  ]
}
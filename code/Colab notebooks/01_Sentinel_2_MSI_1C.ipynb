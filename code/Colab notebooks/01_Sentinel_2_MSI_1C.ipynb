{
  "cells": [
    {
      "cell_type": "markdown",
      "metadata": {
        "id": "view-in-github",
        "colab_type": "text"
      },
      "source": [
        "<a href=\"https://colab.research.google.com/github/Natural-State/agol-data-workflows/blob/master/code/Colab%20notebooks/01_Sentinel_2_MSI_1C.ipynb\" target=\"_parent\"><img src=\"https://colab.research.google.com/assets/colab-badge.svg\" alt=\"Open In Colab\"/></a>"
      ]
    },
    {
      "cell_type": "markdown",
      "metadata": {
        "id": "dJXp2XHuX66D"
      },
      "source": [
        "# Extract seasonal and annual NDVI from Sentinel 2"
      ]
    },
    {
      "cell_type": "markdown",
      "metadata": {
        "id": "87txRFNsithD"
      },
      "source": [
        "See [here](https://developers.google.com/earth-engine/guides/python_install#syntax) for differences between Javascript and Python syntax\n",
        "\n",
        "Main [tutorial](https://courses.spatialthoughts.com/end-to-end-gee.html#module-6-google-earth-engine-python-api) here"
      ]
    },
    {
      "cell_type": "markdown",
      "metadata": {
        "id": "7yUMLQBfYG9B"
      },
      "source": [
        "## Import gee and authenticate"
      ]
    },
    {
      "cell_type": "code",
      "source": [
        "import ee"
      ],
      "metadata": {
        "id": "sPyB17KKeLUM"
      },
      "execution_count": null,
      "outputs": []
    },
    {
      "cell_type": "code",
      "execution_count": null,
      "metadata": {
        "id": "B6_MBI9vfpdf"
      },
      "outputs": [],
      "source": [
        "# Trigger the authentication flow.\n",
        "ee.Authenticate()\n",
        "\n",
        "# Initialize the library.\n",
        "ee.Initialize()"
      ]
    },
    {
      "cell_type": "markdown",
      "metadata": {
        "id": "0zGM4Zvf_Gal"
      },
      "source": [
        "## Input arguments for data extraction"
      ]
    },
    {
      "cell_type": "code",
      "execution_count": null,
      "metadata": {
        "id": "HJpF8Lo0_PD1"
      },
      "outputs": [],
      "source": [
        "# Area of interest\n",
        "aoi = ee.FeatureCollection(\"projects/ns-agol-rs-data/assets/LLBN\")\n",
        "aoi_name = \"LLBN\"\n",
        "\n",
        "# GEE layer ID\n",
        "layer_name = \"RS_001\"\n",
        "\n",
        "# Image reducer (options: mean, median, min, max, stdDev, sum, product)\n",
        "img_col_reducer = \"mean\"\n",
        "\n",
        "# Date parameters (for sentinel there aren't 10 years of data available)\n",
        "start_year = 2016\n",
        "end_year = 2022\n",
        "\n",
        "# Range doesn't include the stop value\n",
        "year_list = ee.List(list(range(start_year, end_year+1)))\n",
        "\n",
        "# Season parameters (months)\n",
        "rain_start = 3\n",
        "rain_end = 5\n",
        "dry_start = 7\n",
        "dry_end = 10"
      ]
    },
    {
      "cell_type": "markdown",
      "metadata": {
        "id": "k7gU47wyao17"
      },
      "source": [
        "## Import Sentinel 2 image collection\n",
        "\n",
        "Dataset starts in June 2015\n",
        "Clouds can be mostly removed by using [COPERNICUS/S2_CLOUD_PROBABILITY](https://developers.google.com/earth-engine/datasets/catalog/COPERNICUS_S2_CLOUD_PROBABILITY). See [this tutorial](https://developers.google.com/earth-engine/tutorials/community/sentinel-2-s2cloudless) explaining how to apply the cloud mask.\n",
        "\n",
        "\n",
        "\n",
        "---\n",
        "\n",
        "\n",
        "Sentinel-2 MSI: MultiSpectral Instrument, Level-1C\n",
        "```ee.ImageCollection(\"COPERNICUS/S2\")```\n",
        "\n",
        "\n",
        "\n",
        "---\n",
        "\n",
        "\n",
        "Harmonized Sentinel-2 MSI: MultiSpectral Instrument, Level-2A\n",
        "```ee.ImageCollection(\"COPERNICUS/S2_SR_HARMONIZED\")```\n",
        "\n",
        "\n",
        "\n",
        "---\n",
        "\n",
        "\n",
        "Sentinel-2 MSI: MultiSpectral Instrument, Level-2A\n",
        "```ee.ImageCollection(\"COPERNICUS/S2_SR\")```"
      ]
    },
    {
      "cell_type": "code",
      "execution_count": null,
      "metadata": {
        "id": "moid-7byasZq"
      },
      "outputs": [],
      "source": [
        "sentinel2 = ee.ImageCollection(\"COPERNICUS/S2_SR_HARMONIZED\")"
      ]
    },
    {
      "cell_type": "markdown",
      "metadata": {
        "id": "MF4OJJGka6Kd"
      },
      "source": [
        "## NDVI processing"
      ]
    },
    {
      "cell_type": "markdown",
      "metadata": {
        "id": "BRlwgBVuRf1U"
      },
      "source": [
        "### Helper functions"
      ]
    },
    {
      "cell_type": "code",
      "execution_count": null,
      "metadata": {
        "id": "ceDuT-aqRdWd"
      },
      "outputs": [],
      "source": [
        "def maskS2clouds(image):\n",
        "  qa = image.select('QA60')\n",
        "  # Bits 10 and 11 are clouds and cirrus, respectively.\n",
        "  cloudBitMask = 1 << 10\n",
        "  cirrusBitMask = 1 << 11\n",
        "  # Both flags should be set to zero, indicating clear conditions.\n",
        "  mask = qa.bitwiseAnd(cloudBitMask).eq(0).And(qa.bitwiseAnd(cirrusBitMask).eq(0))\n",
        "  return image.updateMask(mask).divide(10000)\n",
        "\n",
        "\n",
        "def addNDVI(image):\n",
        "  imgb = image.select('B.*')\n",
        "  ndvi = imgb.normalizedDifference(['B8','B4']).rename('NDVI')\n",
        "  return image.addBands(ndvi)\n",
        "\n",
        "reducer_list = ee.Reducer.mean() \\\n",
        ".combine(reducer2 = ee.Reducer.median(), sharedInputs=True) \\\n",
        ".combine(reducer2 = ee.Reducer.min(), sharedInputs=True) \\\n",
        ".combine(reducer2 = ee.Reducer.max(), sharedInputs=True) \\\n",
        ".combine(reducer2 = ee.Reducer.stdDev(), sharedInputs=True) \\\n",
        ".combine(reducer2 = ee.Reducer.sum(), sharedInputs=True) \\\n",
        ".combine(reducer2 = ee.Reducer.product(), sharedInputs=True)"
      ]
    },
    {
      "cell_type": "markdown",
      "metadata": {
        "id": "5M5ReWueRlH-"
      },
      "source": [
        "### Annual NDVI"
      ]
    },
    {
      "cell_type": "code",
      "execution_count": null,
      "metadata": {
        "id": "VBthfSn8RvMV"
      },
      "outputs": [],
      "source": [
        "def annual_NDVI(year_date):\n",
        "  start = ee.Date.fromYMD(year_date, 1, 1)\n",
        "  end = ee.Date.fromYMD(year_date, 12, 31)\n",
        "  date_range = ee.DateRange(start, end)\n",
        "  name = start.format('YYYY_MM').cat('_to_').cat(end.format('YYYY_MM'))\n",
        "  return ee.ImageCollection(\"COPERNICUS/S2\") \\\n",
        "        .filterDate(date_range) \\\n",
        "        .filter(ee.Filter.lt('CLOUDY_PIXEL_PERCENTAGE', 20)) \\\n",
        "        .map(maskS2clouds) \\\n",
        "        .map(addNDVI) \\\n",
        "        .select('NDVI') \\\n",
        "        .reduce(reducer = reducer_list) \\\n",
        "        .clip(aoi) \\\n",
        "        .set({'name': name})\n",
        "\n",
        "annual_ndvi = year_list.map(annual_NDVI)\n",
        "\n",
        "## Check an element of list\n",
        "year_mosaic  = ee.Image(annual_ndvi.get(2))\n",
        "label = ee.String(year_mosaic.get('name')).getInfo()\n",
        "print(label)\n",
        "print(year_mosaic.getInfo())\n",
        "\n",
        "## Check a reducer band\n",
        "band_select = \".*\" + img_col_reducer\n",
        "print(band_select)\n",
        "print(year_mosaic.select(band_select).getInfo())"
      ]
    },
    {
      "cell_type": "markdown",
      "metadata": {
        "id": "N7RCyRwJRpvr"
      },
      "source": [
        "### Seasonal NDVI"
      ]
    },
    {
      "cell_type": "code",
      "execution_count": null,
      "metadata": {
        "id": "CjwEcDU5RurW"
      },
      "outputs": [],
      "source": [
        "def annual_seasonal_NDVI(year_date, season_start, season_end):\n",
        "  start = ee.Date.fromYMD(year_date, season_start, 1)\n",
        "  end = ee.Date.fromYMD(year_date, season_end, 30)\n",
        "  date_range = ee.DateRange(start, end)\n",
        "  season_label = \"dry\" if season_start == 7 else \"wet\"\n",
        "  return ee.ImageCollection(\"COPERNICUS/S2\") \\\n",
        "        .filterDate(date_range) \\\n",
        "        .filter(ee.Filter.lt('CLOUDY_PIXEL_PERCENTAGE', 20)) \\\n",
        "        .map(maskS2clouds) \\\n",
        "        .map(addNDVI) \\\n",
        "        .select('NDVI') \\\n",
        "        .reduce(reducer = reducer_list) \\\n",
        "        .clip(aoi) \\\n",
        "        .set({'season': season_label,\n",
        "              'year': year_date})\n",
        "\n",
        "def map_seasonal_dry(year):\n",
        "  return annual_seasonal_NDVI(year, dry_start, dry_end)\n",
        "\n",
        "annual_dry = year_list.map(map_seasonal_dry)\n",
        "\n",
        "def map_seasonal_rain(year):\n",
        "  return annual_seasonal_NDVI(year, rain_start, rain_end)\n",
        "\n",
        "annual_rain = year_list.map(map_seasonal_rain)\n",
        "\n",
        "## Check an element of list\n",
        "year_mosaic = ee.Image(annual_rain.get(0))\n",
        "label = ee.String(year_mosaic.get('season')).getInfo() + str(ee.String(year_mosaic.get('year')).getInfo())\n",
        "print(label)\n",
        "print(year_mosaic.getInfo())\n",
        "print(year_mosaic.bandNames().getInfo())"
      ]
    },
    {
      "cell_type": "markdown",
      "metadata": {
        "id": "i5vQjmLxemR7"
      },
      "source": [
        "## Export data - create task\n",
        "\n",
        "`filenamePrefix` should be in format: place_layer_timeperiod"
      ]
    },
    {
      "cell_type": "code",
      "execution_count": null,
      "metadata": {
        "id": "IGK70Xg1hdPh"
      },
      "outputs": [],
      "source": [
        "# Annual images\n",
        "for i in range(ee.List.length(annual_ndvi).getInfo()):\n",
        "  band_select = \".*\" + img_col_reducer\n",
        "  output_img =  ee.Image(annual_ndvi.get(i))\n",
        "  output_img = output_img.select(band_select)\n",
        "  output_name = f\"{layer_name}_{aoi_name}_{img_col_reducer}_{ee.String(output_img.get('name')).getInfo()}\"\n",
        "\n",
        "  task = ee.batch.Export.image.toDrive(image = output_img,\n",
        "                                     region = aoi.geometry(),\n",
        "                                     description = \"EXPORT IMAGE TO DRIVE\",\n",
        "                                     folder = \"GEE_exports\",\n",
        "                                     fileNamePrefix = output_name,\n",
        "                                     scale = 30,\n",
        "                                     maxPixels = 10e12,\n",
        "                                     crs = \"EPSG:4326\"\n",
        "                                     )\n",
        "  task.start()\n",
        "  print(\"STARTED TASK \", i+1)"
      ]
    },
    {
      "cell_type": "code",
      "execution_count": null,
      "metadata": {
        "id": "j0bU19lVU8QA"
      },
      "outputs": [],
      "source": [
        "# Seasonal images - DRY\n",
        "for i in range(ee.List.length(annual_dry).getInfo()):\n",
        "  band_select = \".*\" + img_col_reducer\n",
        "  output_img =  ee.Image(annual_dry.get(i))\n",
        "  output_img = output_img.select(band_select)\n",
        "  output_name = f\"{layer_name}_{aoi_name}_{img_col_reducer}_{ee.String(output_img.get('year')).getInfo()}_{ee.String(output_img.get('season')).getInfo()}\"\n",
        "\n",
        "  task = ee.batch.Export.image.toDrive(image = output_img,\n",
        "                                     region = aoi.geometry(),\n",
        "                                     description = \"EXPORT IMAGE TO DRIVE\",\n",
        "                                     folder = \"GEE_exports\",\n",
        "                                     fileNamePrefix = output_name,\n",
        "                                     scale = 30,\n",
        "                                     maxPixels = 10e12,\n",
        "                                     crs = \"EPSG:4326\"\n",
        "                                     )\n",
        "  task.start()\n",
        "  print(\"STARTED TASK \", \"DRY \", i+1)"
      ]
    },
    {
      "cell_type": "code",
      "execution_count": null,
      "metadata": {
        "id": "MUGklfXkVtSn"
      },
      "outputs": [],
      "source": [
        "# Seasonal images - RAIN\n",
        "for i in range(ee.List.length(annual_rain).getInfo()):\n",
        "  band_select = \".*\" + img_col_reducer\n",
        "  output_img =  ee.Image(annual_rain.get(i))\n",
        "  output_img = output_img.select(band_select)\n",
        "  output_name = f\"{layer_name}_{aoi_name}_{img_col_reducer}_{ee.String(output_img.get('year')).getInfo()}_{ee.String(output_img.get('season')).getInfo()}\"\n",
        "\n",
        "  task = ee.batch.Export.image.toDrive(image = output_img,\n",
        "                                     region = aoi.geometry(),\n",
        "                                     description = \"EXPORT IMAGE TO DRIVE\",\n",
        "                                     folder = \"GEE_exports\",\n",
        "                                     fileNamePrefix = output_name,\n",
        "                                     scale = 30,\n",
        "                                     maxPixels = 10e12,\n",
        "                                     crs = \"EPSG:4326\"\n",
        "                                     )\n",
        "  task.start()\n",
        "  print(\"STARTED TASK \", \"RAIN \", i+1)"
      ]
    },
    {
      "cell_type": "markdown",
      "metadata": {
        "id": "JTou0uwZf07f"
      },
      "source": [
        "## Check task status\n",
        "\n",
        "[List](https://developers.google.com/earth-engine/guides/processing_environments#list-of-task-states) of task status messages (state field)\n"
      ]
    },
    {
      "cell_type": "code",
      "execution_count": null,
      "metadata": {
        "id": "pW1XtRbvszlI"
      },
      "outputs": [],
      "source": [
        "tasks = ee.batch.Task.list()\n",
        "for task in tasks[0:ee.List.length(year_list).getInfo()]:\n",
        "  task_id = task.status()['id']\n",
        "  task_state = task.status()['state']\n",
        "  print(task_id, task_state)"
      ]
    },
    {
      "cell_type": "markdown",
      "metadata": {
        "id": "TEKiuAzDoxbj"
      },
      "source": [
        "## Mount and unmount Google Drive\n"
      ]
    },
    {
      "cell_type": "code",
      "execution_count": null,
      "metadata": {
        "id": "W-m1KHblpPLX"
      },
      "outputs": [],
      "source": [
        "# Mount\n",
        "#from google.colab import drive\n",
        "\n",
        "#ROOT = '/content/drive'\n",
        "#drive.mount(ROOT, force_remount=True)\n"
      ]
    },
    {
      "cell_type": "code",
      "execution_count": null,
      "metadata": {
        "id": "3XAfLgvHo5Oh"
      },
      "outputs": [],
      "source": [
        "# Unmount\n",
        "#drive.flush_and_unmount()"
      ]
    }
  ],
  "metadata": {
    "colab": {
      "provenance": [],
      "toc_visible": true,
      "mount_file_id": "1n8lSJ7mgfEt8S34QlN7fkZtWn9wUK4Ur",
      "authorship_tag": "ABX9TyOQaxp/EJ0KIhcHXUCUVa99",
      "include_colab_link": true
    },
    "kernelspec": {
      "display_name": "Python 3",
      "name": "python3"
    },
    "language_info": {
      "name": "python"
    }
  },
  "nbformat": 4,
  "nbformat_minor": 0
}
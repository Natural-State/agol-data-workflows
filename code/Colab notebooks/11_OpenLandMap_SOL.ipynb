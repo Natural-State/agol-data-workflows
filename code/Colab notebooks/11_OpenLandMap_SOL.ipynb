{
  "nbformat": 4,
  "nbformat_minor": 0,
  "metadata": {
    "colab": {
      "provenance": [],
      "toc_visible": true,
      "mount_file_id": "1JK2Bt52NRaE_oWYNyouZQQwZyniBWvpk",
      "authorship_tag": "ABX9TyNsugpoScoch0izBwfSemGj",
      "include_colab_link": true
    },
    "kernelspec": {
      "name": "python3",
      "display_name": "Python 3"
    },
    "language_info": {
      "name": "python"
    }
  },
  "cells": [
    {
      "cell_type": "markdown",
      "metadata": {
        "id": "view-in-github",
        "colab_type": "text"
      },
      "source": [
        "<a href=\"https://colab.research.google.com/github/Natural-State/agol-data-workflows/blob/master/code/Colab%20notebooks/11_OpenLandMap_SOL.ipynb\" target=\"_parent\"><img src=\"https://colab.research.google.com/assets/colab-badge.svg\" alt=\"Open In Colab\"/></a>"
      ]
    },
    {
      "cell_type": "markdown",
      "source": [
        "# Extract soil measures from OpenLandMap platform"
      ],
      "metadata": {
        "id": "dJXp2XHuX66D"
      }
    },
    {
      "cell_type": "markdown",
      "source": [
        "## Import gee and authenticate"
      ],
      "metadata": {
        "id": "7yUMLQBfYG9B"
      }
    },
    {
      "cell_type": "code",
      "source": [
        "import ee"
      ],
      "metadata": {
        "id": "sPyB17KKeLUM"
      },
      "execution_count": null,
      "outputs": []
    },
    {
      "cell_type": "code",
      "execution_count": null,
      "metadata": {
        "id": "sOoUxFdhSmti"
      },
      "outputs": [],
      "source": [
        "# Trigger the authentication flow.\n",
        "ee.Authenticate()\n",
        "\n",
        "# Initialize the library.\n",
        "ee.Initialize()"
      ]
    },
    {
      "cell_type": "markdown",
      "source": [
        "## Input arguments for data extraction"
      ],
      "metadata": {
        "id": "0zGM4Zvf_Gal"
      }
    },
    {
      "cell_type": "code",
      "source": [
        "# Area of interest\n",
        "# aoi = ee.FeatureCollection(\"projects/ns-agol-rs-data/assets/MKR_NS_buff_5km\")\n",
        "# aoi_name = \"MKR_NS_buff_5km\"\n",
        "\n",
        "# aoi = ee.FeatureCollection(\"projects/ns-agol-rs-data/assets/carbon_rs_aoi\")\n",
        "# aoi_name = \"carbon_rs_aoi\"\n",
        "\n",
        "# aoi = ee.FeatureCollection(\"projects/ns-agol-rs-data/assets/MKR_PACE\")\n",
        "# aoi_name = \"MKR_PACE\"\n",
        "\n",
        "aoi = ee.FeatureCollection(\"projects/ns-agol-rs-data/assets/MKR\")\n",
        "aoi_name = \"MKR\"\n",
        "\n",
        "# GEE layer ID\n",
        "layer_dict = {\n",
        "  \"b0\": \"RS_032\",\n",
        "  \"b10\": \"RS_033\",\n",
        "  \"b30\": \"RS_034\",\n",
        "  \"b60\": \"RS_035\"\n",
        "}\n"
      ],
      "metadata": {
        "id": "HJpF8Lo0_PD1"
      },
      "execution_count": null,
      "outputs": []
    },
    {
      "cell_type": "markdown",
      "source": [
        "## Sand content processing\n",
        "\n"
      ],
      "metadata": {
        "id": "k7gU47wyao17"
      }
    },
    {
      "cell_type": "code",
      "source": [
        "sand = ee.Image(\"OpenLandMap/SOL/SOL_SAND-WFRACTION_USDA-3A1A1A_M/v02\") \\\n",
        "  .select('b0', 'b10', 'b30', 'b60') \\\n",
        "  .clip(aoi)\n",
        "\n",
        "print(sand.getInfo())\n",
        "band_list = sand.bandNames().getInfo()\n",
        "print(type(band_list))\n",
        "print(band_list)\n"
      ],
      "metadata": {
        "id": "5ME5rPTOuOPn"
      },
      "execution_count": null,
      "outputs": []
    },
    {
      "cell_type": "markdown",
      "source": [
        "## Export data - create task\n",
        "\n",
        "`filenamePrefix` should be in format: place_layer_timeperiod"
      ],
      "metadata": {
        "id": "i5vQjmLxemR7"
      }
    },
    {
      "cell_type": "code",
      "source": [
        "for i in band_list:\n",
        "  print(i)\n",
        "  print(layer_dict[i])"
      ],
      "metadata": {
        "id": "csRqEzZTTtDr"
      },
      "execution_count": null,
      "outputs": []
    },
    {
      "cell_type": "code",
      "source": [
        "for i in band_list:\n",
        "  output_img =  sand.select(i)\n",
        "  output_name = f\"{layer_dict[i]}_{aoi_name}\"\n",
        "  task = ee.batch.Export.image.toDrive(image = output_img,\n",
        "                                     region = aoi.geometry(),\n",
        "                                     description = \"EXPORT IMAGE TO DRIVE\",\n",
        "                                     folder = \"GEE_exports\",\n",
        "                                     fileNamePrefix = output_name,\n",
        "                                     scale = 30,\n",
        "                                     maxPixels = 10e12,\n",
        "                                     crs = \"EPSG:4326\"\n",
        "                                     )\n",
        "  task.start()\n",
        "  print(\"STARTED TASK \", i)"
      ],
      "metadata": {
        "id": "IGK70Xg1hdPh"
      },
      "execution_count": null,
      "outputs": []
    },
    {
      "cell_type": "markdown",
      "source": [
        "## Check task status\n",
        "\n",
        "[List](https://developers.google.com/earth-engine/guides/processing_environments#list-of-task-states) of task status messages (state field)\n"
      ],
      "metadata": {
        "id": "JTou0uwZf07f"
      }
    },
    {
      "cell_type": "code",
      "source": [
        "tasks = ee.batch.Task.list()\n",
        "for task in tasks[0:len(band_list)]:\n",
        "  task_id = task.status()['id']\n",
        "  task_state = task.status()['state']\n",
        "  print(task_id, task_state)"
      ],
      "metadata": {
        "id": "pW1XtRbvszlI"
      },
      "execution_count": null,
      "outputs": []
    },
    {
      "cell_type": "code",
      "source": [
        "!pip install geemap --quiet"
      ],
      "metadata": {
        "id": "-vQX70eJVRNU"
      },
      "execution_count": null,
      "outputs": []
    },
    {
      "cell_type": "code",
      "source": [
        "import geemap"
      ],
      "metadata": {
        "id": "d12dDIkSV_Rb"
      },
      "execution_count": null,
      "outputs": []
    },
    {
      "cell_type": "code",
      "source": [
        "vis_params = {\"min\": 0.0, \"max\": 100,\n",
        "                \"palette\": ['FFFF00','F8F806','F1F10C','EBEB13','E4E419','DDDD20',\n",
        "    'D7D726','D0D02D','CACA33','C3C33A','BCBC41','B6B647',\n",
        "    'B0B04E','A9A954','A3A35A','9C9C61','959568','8F8F6E',\n",
        "    '898975','82827B','7B7B82','757589','6E6E8F','686895',\n",
        "    '61619C','5A5AA3','5454A9','4D4DB0','4747B6','4141BC',\n",
        "    '3A3AC3','3333CA','2D2DD0','2626D7','2020DD','1919E4',\n",
        "    '1212EB','0C0CF1','0606F8','0000FF']\n",
        "                  }\n",
        "\n",
        "\n",
        "Map = geemap.Map()\n",
        "Map.addLayer(sand.select('b0'), vis_params, 'NDVI')\n",
        "\n",
        "# Map.addLayer(ndvi2011, ndvi_vis_params, 'NDVI-2011')\n",
        "# Map.addLayer(ndvi2014, ndvi_vis_params, 'NDVI-2014')\n",
        "\n",
        "Map.centerObject(aoi, zoom=10)\n",
        "Map"
      ],
      "metadata": {
        "id": "JebD8iSrWL5h"
      },
      "execution_count": null,
      "outputs": []
    }
  ]
}
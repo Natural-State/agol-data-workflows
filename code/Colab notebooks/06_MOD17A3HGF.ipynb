{
  "nbformat": 4,
  "nbformat_minor": 0,
  "metadata": {
    "colab": {
      "provenance": [],
      "toc_visible": true,
      "mount_file_id": "1JK2Bt52NRaE_oWYNyouZQQwZyniBWvpk",
      "authorship_tag": "ABX9TyORRN9EZnjG65QMUYX43MBj",
      "include_colab_link": true
    },
    "kernelspec": {
      "name": "python3",
      "display_name": "Python 3"
    },
    "language_info": {
      "name": "python"
    }
  },
  "cells": [
    {
      "cell_type": "markdown",
      "metadata": {
        "id": "view-in-github",
        "colab_type": "text"
      },
      "source": [
        "<a href=\"https://colab.research.google.com/github/Natural-State/agol-data-workflows/blob/master/code/Colab%20notebooks/06_MOD17A3HGF.ipynb\" target=\"_parent\"><img src=\"https://colab.research.google.com/assets/colab-badge.svg\" alt=\"Open In Colab\"/></a>"
      ]
    },
    {
      "cell_type": "markdown",
      "source": [
        "# Extract annual NPP from MODIS"
      ],
      "metadata": {
        "id": "dJXp2XHuX66D"
      }
    },
    {
      "cell_type": "markdown",
      "source": [
        "## Import gee and authenticate"
      ],
      "metadata": {
        "id": "7yUMLQBfYG9B"
      }
    },
    {
      "cell_type": "code",
      "source": [
        "import ee"
      ],
      "metadata": {
        "id": "sPyB17KKeLUM"
      },
      "execution_count": null,
      "outputs": []
    },
    {
      "cell_type": "code",
      "execution_count": null,
      "metadata": {
        "id": "sOoUxFdhSmti"
      },
      "outputs": [],
      "source": [
        "# Trigger the authentication flow.\n",
        "ee.Authenticate()\n",
        "\n",
        "# Initialize the library.\n",
        "ee.Initialize()"
      ]
    },
    {
      "cell_type": "markdown",
      "source": [
        "## Input arguments for data extraction"
      ],
      "metadata": {
        "id": "0zGM4Zvf_Gal"
      }
    },
    {
      "cell_type": "code",
      "source": [
        "# Area of interest\n",
        "aoi = ee.FeatureCollection(\"projects/ns-agol-rs-data/assets/LLBN\")\n",
        "aoi_name = \"LLBN\"\n",
        "\n",
        "# GEE layer ID\n",
        "layer_name = \"RS_013\"\n",
        "\n",
        "# Date parameters\n",
        "start_year = 2012\n",
        "end_year = 2022\n",
        "\n",
        "# Range doesn't include the stop value\n",
        "year_list = ee.List(list(range(start_year, end_year+1)))"
      ],
      "metadata": {
        "id": "HJpF8Lo0_PD1"
      },
      "execution_count": null,
      "outputs": []
    },
    {
      "cell_type": "markdown",
      "source": [
        "## MOD17A3HGF.061: Terra Net Primary Production Gap-Filled Yearly Global 500m\n",
        "\n"
      ],
      "metadata": {
        "id": "k7gU47wyao17"
      }
    },
    {
      "cell_type": "code",
      "source": [
        "modis = ee.ImageCollection(\"MODIS/061/MOD17A3HGF\")"
      ],
      "metadata": {
        "id": "moid-7byasZq"
      },
      "execution_count": null,
      "outputs": []
    },
    {
      "cell_type": "markdown",
      "source": [
        "## NPP processing"
      ],
      "metadata": {
        "id": "MF4OJJGka6Kd"
      }
    },
    {
      "cell_type": "code",
      "source": [
        "years = ee.List.sequence(start_year, end_year)\n",
        "\n",
        "def yearly_NPP(focal_year):\n",
        "  start = ee.Date.fromYMD(focal_year, 1, 1)\n",
        "  end = ee.Date.fromYMD(focal_year, 12, 31)\n",
        "  date_range = ee.DateRange(start, end)\n",
        "  return modis \\\n",
        "        .select(\"Npp\") \\\n",
        "        .filterDate(date_range) \\\n",
        "        .first() \\\n",
        "        .multiply(0.0001) \\\n",
        "        .set({\"name\": focal_year}) \\\n",
        "        .clip(aoi)\n",
        "\n",
        "\n",
        "annual_image = years.map(yearly_NPP)\n",
        "print(annual_image.getInfo())\n",
        "\n",
        "## Check an element of list\n",
        "year_mosaic  = ee.Image(annual_image.get(0))\n",
        "label = ee.String(year_mosaic.get('name')).getInfo()\n",
        "print(label)\n",
        "print(year_mosaic.getInfo())\n"
      ],
      "metadata": {
        "id": "5ME5rPTOuOPn"
      },
      "execution_count": null,
      "outputs": []
    },
    {
      "cell_type": "markdown",
      "source": [
        "## Export data - create task\n",
        "\n",
        "`filenamePrefix` should be in format: place_layer_timeperiod"
      ],
      "metadata": {
        "id": "i5vQjmLxemR7"
      }
    },
    {
      "cell_type": "code",
      "source": [
        "for i in  range(ee.List.length(annual_image).getInfo()):\n",
        "\n",
        "  output_img =  ee.Image(annual_image.get(i))\n",
        "  output_name = f\"{layer_name}_{aoi_name}_{ee.String(output_img.get('name')).getInfo()}\"\n",
        "\n",
        "  task = ee.batch.Export.image.toDrive(image = output_img,\n",
        "                                     region = aoi.geometry().bounds(),\n",
        "                                     description = \"EXPORT IMAGE TO DRIVE\",\n",
        "                                     folder = \"GEE_exports\",\n",
        "                                     fileNamePrefix = output_name,\n",
        "                                     scale = 30,\n",
        "                                     maxPixels = 10e12,\n",
        "                                     crs = \"EPSG:4326\"\n",
        "                                     )\n",
        "  task.start()\n",
        "  print(\"STARTED TASK \", i+1)"
      ],
      "metadata": {
        "id": "IGK70Xg1hdPh"
      },
      "execution_count": null,
      "outputs": []
    },
    {
      "cell_type": "markdown",
      "source": [
        "## Check task status\n",
        "\n",
        "[List](https://developers.google.com/earth-engine/guides/processing_environments#list-of-task-states) of task status messages (state field)\n"
      ],
      "metadata": {
        "id": "JTou0uwZf07f"
      }
    },
    {
      "cell_type": "code",
      "source": [
        "tasks = ee.batch.Task.list()\n",
        "for task in tasks[0:ee.List.length(year_list).getInfo()]:\n",
        "  task_id = task.status()['id']\n",
        "  task_state = task.status()['state']\n",
        "  print(task_id, task_state)"
      ],
      "metadata": {
        "id": "pW1XtRbvszlI"
      },
      "execution_count": null,
      "outputs": []
    }
  ]
}
{
  "nbformat": 4,
  "nbformat_minor": 0,
  "metadata": {
    "colab": {
      "provenance": [],
      "collapsed_sections": [
        "rjs-6uszlxX4"
      ],
      "toc_visible": true,
      "mount_file_id": "1JK2Bt52NRaE_oWYNyouZQQwZyniBWvpk",
      "authorship_tag": "ABX9TyP9HIlY2pa9v6bguFqMDojx",
      "include_colab_link": true
    },
    "kernelspec": {
      "name": "python3",
      "display_name": "Python 3"
    },
    "language_info": {
      "name": "python"
    }
  },
  "cells": [
    {
      "cell_type": "markdown",
      "metadata": {
        "id": "view-in-github",
        "colab_type": "text"
      },
      "source": [
        "<a href=\"https://colab.research.google.com/github/Natural-State/agol-data-workflows/blob/master/code/Colab%20notebooks/06_MOD17A3HGF.ipynb\" target=\"_parent\"><img src=\"https://colab.research.google.com/assets/colab-badge.svg\" alt=\"Open In Colab\"/></a>"
      ]
    },
    {
      "cell_type": "markdown",
      "source": [
        "# Extract annual NPP from MODIS"
      ],
      "metadata": {
        "id": "dJXp2XHuX66D"
      }
    },
    {
      "cell_type": "markdown",
      "source": [
        "## Import gee and authenticate"
      ],
      "metadata": {
        "id": "7yUMLQBfYG9B"
      }
    },
    {
      "cell_type": "code",
      "source": [
        "import ee"
      ],
      "metadata": {
        "id": "sPyB17KKeLUM"
      },
      "execution_count": null,
      "outputs": []
    },
    {
      "cell_type": "code",
      "execution_count": null,
      "metadata": {
        "id": "sOoUxFdhSmti",
        "colab": {
          "base_uri": "https://localhost:8080/"
        },
        "outputId": "67be2eca-b142-436a-bcea-99696625bead"
      },
      "outputs": [
        {
          "output_type": "stream",
          "name": "stdout",
          "text": [
            "To authorize access needed by Earth Engine, open the following URL in a web browser and follow the instructions. If the web browser does not start automatically, please manually browse the URL below.\n",
            "\n",
            "    https://code.earthengine.google.com/client-auth?scopes=https%3A//www.googleapis.com/auth/earthengine%20https%3A//www.googleapis.com/auth/devstorage.full_control&request_id=ufKPA1qADUkTt9Oy_OOvCAAuTE3fsGYzcsnzl266zn4&tc=_rySMZ2YhjU_XpNTgC6KyKsAYFf9stpBC391Ynlj_Vw&cc=MmY8sMMA8X_Xbt0HZNy4wEG2tVW3mwGDXLoT-Gwv2vI\n",
            "\n",
            "The authorization workflow will generate a code, which you should paste in the box below.\n",
            "Enter verification code: 4/1AbUR2VOmGuhHv2WtW_nyWM2PmSeVyZ6gnMttJkNRM2bXKXmkqqaGLd24HGk\n",
            "\n",
            "Successfully saved authorization token.\n"
          ]
        }
      ],
      "source": [
        "# Trigger the authentication flow.\n",
        "ee.Authenticate()\n",
        "\n",
        "# Initialize the library.\n",
        "ee.Initialize()"
      ]
    },
    {
      "cell_type": "markdown",
      "source": [
        "## Input arguments for data extraction"
      ],
      "metadata": {
        "id": "0zGM4Zvf_Gal"
      }
    },
    {
      "cell_type": "code",
      "source": [
        "# Area of interest\n",
        "# aoi = ee.FeatureCollection(\"projects/ns-agol-rs-data/assets/MKR_NS_buff_5km\")\n",
        "# aoi_name = \"MKR_NS_buff_5km\"\n",
        "\n",
        "aoi = ee.FeatureCollection(\"projects/ns-agol-rs-data/assets/MKR_PACE\")\n",
        "aoi_name = \"MKR_PACE\"\n",
        "\n",
        "# GEE layer ID\n",
        "layer_name = \"RS_013\"\n",
        "\n",
        "# Date parameters\n",
        "start_year = 2012\n",
        "end_year = 2022\n",
        "\n",
        "# Range doesn't include the stop value\n",
        "year_list = ee.List(list(range(start_year, end_year+1)))"
      ],
      "metadata": {
        "id": "HJpF8Lo0_PD1"
      },
      "execution_count": null,
      "outputs": []
    },
    {
      "cell_type": "markdown",
      "source": [
        "## MOD17A3HGF.061: Terra Net Primary Production Gap-Filled Yearly Global 500m\n",
        "\n"
      ],
      "metadata": {
        "id": "k7gU47wyao17"
      }
    },
    {
      "cell_type": "code",
      "source": [
        "modis = ee.ImageCollection(\"MODIS/061/MOD17A3HGF\")"
      ],
      "metadata": {
        "id": "moid-7byasZq"
      },
      "execution_count": null,
      "outputs": []
    },
    {
      "cell_type": "markdown",
      "source": [
        "## NPP processing"
      ],
      "metadata": {
        "id": "MF4OJJGka6Kd"
      }
    },
    {
      "cell_type": "code",
      "source": [
        "years = ee.List.sequence(start_year, end_year)\n",
        "\n",
        "def yearly_NPP(focal_year):\n",
        "  start = ee.Date.fromYMD(focal_year, 1, 1)\n",
        "  end = ee.Date.fromYMD(focal_year, 12, 31)\n",
        "  date_range = ee.DateRange(start, end)\n",
        "  return modis \\\n",
        "        .select(\"Npp\") \\\n",
        "        .filterDate(date_range) \\\n",
        "        .first() \\\n",
        "        .multiply(0.0001) \\\n",
        "        .set({\"name\": focal_year}) \\\n",
        "        .clip(aoi)\n",
        "\n",
        "\n",
        "annual_image = years.map(yearly_NPP)\n",
        "print(annual_image.getInfo())\n",
        "\n",
        "## Check an element of list\n",
        "year_mosaic  = ee.Image(annual_image.get(0))\n",
        "label = ee.String(year_mosaic.get('name')).getInfo()\n",
        "print(label)\n",
        "print(year_mosaic.getInfo())\n"
      ],
      "metadata": {
        "colab": {
          "base_uri": "https://localhost:8080/"
        },
        "id": "5ME5rPTOuOPn",
        "outputId": "3732ec67-9f95-4cbf-b66e-47441247f435"
      },
      "execution_count": null,
      "outputs": [
        {
          "output_type": "stream",
          "name": "stdout",
          "text": [
            "[{'type': 'Image', 'bands': [{'id': 'Npp', 'data_type': {'type': 'PixelType', 'precision': 'double', 'min': -3.2768, 'max': 3.2767}, 'dimensions': [86400, 36000], 'crs': 'SR-ORG:6974', 'crs_transform': [463.3127165279165, 0, -20015109.354, 0, -463.3127165279167, 10007554.677003]}], 'properties': {'name': 2012}}, {'type': 'Image', 'bands': [{'id': 'Npp', 'data_type': {'type': 'PixelType', 'precision': 'double', 'min': -3.2768, 'max': 3.2767}, 'dimensions': [86400, 36000], 'crs': 'SR-ORG:6974', 'crs_transform': [463.3127165279165, 0, -20015109.354, 0, -463.3127165279167, 10007554.677003]}], 'properties': {'name': 2013}}, {'type': 'Image', 'bands': [{'id': 'Npp', 'data_type': {'type': 'PixelType', 'precision': 'double', 'min': -3.2768, 'max': 3.2767}, 'dimensions': [86400, 36000], 'crs': 'SR-ORG:6974', 'crs_transform': [463.3127165279165, 0, -20015109.354, 0, -463.3127165279167, 10007554.677003]}], 'properties': {'name': 2014}}, {'type': 'Image', 'bands': [{'id': 'Npp', 'data_type': {'type': 'PixelType', 'precision': 'double', 'min': -3.2768, 'max': 3.2767}, 'dimensions': [86400, 36000], 'crs': 'SR-ORG:6974', 'crs_transform': [463.3127165279165, 0, -20015109.354, 0, -463.3127165279167, 10007554.677003]}], 'properties': {'name': 2015}}, {'type': 'Image', 'bands': [{'id': 'Npp', 'data_type': {'type': 'PixelType', 'precision': 'double', 'min': -3.2768, 'max': 3.2767}, 'dimensions': [86400, 36000], 'crs': 'SR-ORG:6974', 'crs_transform': [463.3127165279165, 0, -20015109.354, 0, -463.3127165279167, 10007554.677003]}], 'properties': {'name': 2016}}, {'type': 'Image', 'bands': [{'id': 'Npp', 'data_type': {'type': 'PixelType', 'precision': 'double', 'min': -3.2768, 'max': 3.2767}, 'dimensions': [86400, 36000], 'crs': 'SR-ORG:6974', 'crs_transform': [463.3127165279165, 0, -20015109.354, 0, -463.3127165279167, 10007554.677003]}], 'properties': {'name': 2017}}, {'type': 'Image', 'bands': [{'id': 'Npp', 'data_type': {'type': 'PixelType', 'precision': 'double', 'min': -3.2768, 'max': 3.2767}, 'dimensions': [86400, 36000], 'crs': 'SR-ORG:6974', 'crs_transform': [463.3127165279165, 0, -20015109.354, 0, -463.3127165279167, 10007554.677003]}], 'properties': {'name': 2018}}, {'type': 'Image', 'bands': [{'id': 'Npp', 'data_type': {'type': 'PixelType', 'precision': 'double', 'min': -3.2768, 'max': 3.2767}, 'dimensions': [86400, 36000], 'crs': 'SR-ORG:6974', 'crs_transform': [463.3127165279165, 0, -20015109.354, 0, -463.3127165279167, 10007554.677003]}], 'properties': {'name': 2019}}, {'type': 'Image', 'bands': [{'id': 'Npp', 'data_type': {'type': 'PixelType', 'precision': 'double', 'min': -3.2768, 'max': 3.2767}, 'dimensions': [86400, 36000], 'crs': 'SR-ORG:6974', 'crs_transform': [463.3127165279165, 0, -20015109.354, 0, -463.3127165279167, 10007554.677003]}], 'properties': {'name': 2020}}, {'type': 'Image', 'bands': [{'id': 'Npp', 'data_type': {'type': 'PixelType', 'precision': 'double', 'min': -3.2768, 'max': 3.2767}, 'dimensions': [86400, 36000], 'crs': 'SR-ORG:6974', 'crs_transform': [463.3127165279165, 0, -20015109.354, 0, -463.3127165279167, 10007554.677003]}], 'properties': {'name': 2021}}, {'type': 'Image', 'bands': [{'id': 'Npp', 'data_type': {'type': 'PixelType', 'precision': 'double', 'min': -3.2768, 'max': 3.2767}, 'dimensions': [86400, 36000], 'crs': 'SR-ORG:6974', 'crs_transform': [463.3127165279165, 0, -20015109.354, 0, -463.3127165279167, 10007554.677003]}], 'properties': {'name': 2022}}]\n",
            "2012\n",
            "{'type': 'Image', 'bands': [{'id': 'Npp', 'data_type': {'type': 'PixelType', 'precision': 'double', 'min': -3.2768, 'max': 3.2767}, 'dimensions': [86400, 36000], 'crs': 'SR-ORG:6974', 'crs_transform': [463.3127165279165, 0, -20015109.354, 0, -463.3127165279167, 10007554.677003]}], 'properties': {'name': 2012}}\n"
          ]
        }
      ]
    },
    {
      "cell_type": "markdown",
      "source": [
        "## Export data - create task\n",
        "\n",
        "`filenamePrefix` should be in format: place_layer_timeperiod"
      ],
      "metadata": {
        "id": "i5vQjmLxemR7"
      }
    },
    {
      "cell_type": "code",
      "source": [
        "for i in  range(ee.List.length(annual_image).getInfo()):\n",
        "\n",
        "  output_img =  ee.Image(annual_image.get(i))\n",
        "  output_name = f\"{layer_name}_{aoi_name}_{ee.String(output_img.get('name')).getInfo()}\"\n",
        "\n",
        "  task = ee.batch.Export.image.toDrive(image = output_img,\n",
        "                                     region = aoi.geometry().bounds(),\n",
        "                                     description = \"EXPORT IMAGE TO DRIVE\",\n",
        "                                     folder = \"GEE_exports\",\n",
        "                                     fileNamePrefix = output_name,\n",
        "                                     scale = 30,\n",
        "                                     maxPixels = 10e12\n",
        "                                     )\n",
        "  task.start()\n",
        "  print(\"STARTED TASK \", i+1)"
      ],
      "metadata": {
        "id": "IGK70Xg1hdPh",
        "colab": {
          "base_uri": "https://localhost:8080/"
        },
        "outputId": "35d31fa2-f9f0-43b2-bdf0-ebb09dfa71d5"
      },
      "execution_count": null,
      "outputs": [
        {
          "output_type": "stream",
          "name": "stdout",
          "text": [
            "STARTED TASK  1\n",
            "STARTED TASK  2\n",
            "STARTED TASK  3\n",
            "STARTED TASK  4\n",
            "STARTED TASK  5\n",
            "STARTED TASK  6\n",
            "STARTED TASK  7\n",
            "STARTED TASK  8\n",
            "STARTED TASK  9\n",
            "STARTED TASK  10\n",
            "STARTED TASK  11\n"
          ]
        }
      ]
    },
    {
      "cell_type": "markdown",
      "source": [
        "## Check task status\n",
        "\n",
        "[List](https://developers.google.com/earth-engine/guides/processing_environments#list-of-task-states) of task status messages (state field)\n"
      ],
      "metadata": {
        "id": "JTou0uwZf07f"
      }
    },
    {
      "cell_type": "code",
      "source": [
        "tasks = ee.batch.Task.list()\n",
        "for task in tasks[0:ee.List.length(year_list).getInfo()]:\n",
        "  task_id = task.status()['id']\n",
        "  task_state = task.status()['state']\n",
        "  print(task_id, task_state)"
      ],
      "metadata": {
        "id": "pW1XtRbvszlI",
        "colab": {
          "base_uri": "https://localhost:8080/"
        },
        "outputId": "9eb5bcfe-8c0a-4711-b533-bdfdfe19428e"
      },
      "execution_count": null,
      "outputs": [
        {
          "output_type": "stream",
          "name": "stdout",
          "text": [
            "MXBNCLAION2RWVMZ2OMQM7F2 COMPLETED\n",
            "TT5H5MXPB2BRHDWMGBCDQ5SS COMPLETED\n",
            "E2PIQHL7U2X4J2BS6RN3AFRP COMPLETED\n",
            "D6RDMOYWPX55HNVYIE672H3V COMPLETED\n",
            "QXMN7OUZHHC2E3GC6FQ4YXFN COMPLETED\n",
            "X54XI2Q4PIYPI2QHIJ5UQ7RN COMPLETED\n",
            "JM7NCCO4KSMMVCNR7D7RCKMB COMPLETED\n",
            "UTMMHMBYAVYFFEVYWKJKFCKS COMPLETED\n",
            "HLG6KN5ML6PZ5JBBHJA2PN73 COMPLETED\n",
            "JU4YUDHE4XVQLI5GVEHSRGWE COMPLETED\n",
            "62LDCIF3OKXJ646BA3O3H3EW COMPLETED\n"
          ]
        }
      ]
    }
  ]
}
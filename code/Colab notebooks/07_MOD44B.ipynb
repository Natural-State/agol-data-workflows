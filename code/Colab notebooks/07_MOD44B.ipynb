{
  "nbformat": 4,
  "nbformat_minor": 0,
  "metadata": {
    "colab": {
      "provenance": [],
      "toc_visible": true,
      "mount_file_id": "1JK2Bt52NRaE_oWYNyouZQQwZyniBWvpk",
      "authorship_tag": "ABX9TyO3YEnKvwVdRU8dX9JUBpwN",
      "include_colab_link": true
    },
    "kernelspec": {
      "name": "python3",
      "display_name": "Python 3"
    },
    "language_info": {
      "name": "python"
    }
  },
  "cells": [
    {
      "cell_type": "markdown",
      "metadata": {
        "id": "view-in-github",
        "colab_type": "text"
      },
      "source": [
        "<a href=\"https://colab.research.google.com/github/Natural-State/agol-data-workflows/blob/master/code/Colab%20notebooks/07_MOD44B.ipynb\" target=\"_parent\"><img src=\"https://colab.research.google.com/assets/colab-badge.svg\" alt=\"Open In Colab\"/></a>"
      ]
    },
    {
      "cell_type": "markdown",
      "source": [
        "# Extract percentage tree, non-tree veg, and bare ground measures from MODIS VCF platform"
      ],
      "metadata": {
        "id": "dJXp2XHuX66D"
      }
    },
    {
      "cell_type": "markdown",
      "source": [
        "## Import gee and authenticate"
      ],
      "metadata": {
        "id": "7yUMLQBfYG9B"
      }
    },
    {
      "cell_type": "code",
      "source": [
        "import ee"
      ],
      "metadata": {
        "id": "sPyB17KKeLUM"
      },
      "execution_count": null,
      "outputs": []
    },
    {
      "cell_type": "code",
      "execution_count": null,
      "metadata": {
        "id": "sOoUxFdhSmti"
      },
      "outputs": [],
      "source": [
        "# Trigger the authentication flow.\n",
        "ee.Authenticate()\n",
        "\n",
        "# Initialize the library.\n",
        "ee.Initialize()"
      ]
    },
    {
      "cell_type": "markdown",
      "source": [
        "## Input arguments for data extraction"
      ],
      "metadata": {
        "id": "0zGM4Zvf_Gal"
      }
    },
    {
      "cell_type": "code",
      "source": [
        "# Area of interest\n",
        "aoi = ee.FeatureCollection(\"projects/ns-agol-rs-data/assets/LLBN\")\n",
        "aoi_name = \"LLBN\"\n",
        "\n",
        "# GEE layer ID\n",
        "layer_name_tc = \"RS_014\" # Percentage tree cover\n",
        "layer_name_ntc = \"RS_015\" # Percentage non-tree vegetation cover\n",
        "layer_name_nvc = \"RS_016\" # Percentage non-vegetated cover\n",
        "\n",
        "# Date parameters\n",
        "start_year = 2012\n",
        "end_year = 2022\n",
        "\n",
        "# Range doesn't include the stop value\n",
        "year_list = ee.List(list(range(start_year, end_year+1)))"
      ],
      "metadata": {
        "id": "HJpF8Lo0_PD1"
      },
      "execution_count": null,
      "outputs": []
    },
    {
      "cell_type": "markdown",
      "source": [
        "## MOD44B.006 Terra Vegetation Continuous Fields Yearly Global 250m\n",
        "\n"
      ],
      "metadata": {
        "id": "k7gU47wyao17"
      }
    },
    {
      "cell_type": "code",
      "source": [
        "modis = ee.ImageCollection(\"MODIS/006/MOD44B\")"
      ],
      "metadata": {
        "id": "moid-7byasZq"
      },
      "execution_count": null,
      "outputs": []
    },
    {
      "cell_type": "markdown",
      "source": [
        "## VCF processing"
      ],
      "metadata": {
        "id": "MF4OJJGka6Kd"
      }
    },
    {
      "cell_type": "code",
      "source": [
        "years = ee.List.sequence(start_year, end_year)\n",
        "\n",
        "# Band names\n",
        "# Percent_Tree_Cover\n",
        "# Percent_NonTree_Vegetation\n",
        "# Percent_NonVegetated\n",
        "\n",
        "def yearly_cover(focal_year, metric):\n",
        "  start = ee.Date.fromYMD(focal_year, 1, 1)\n",
        "  end = ee.Date.fromYMD(focal_year, 12, 31)\n",
        "  date_range = ee.DateRange(start, end)\n",
        "  return modis \\\n",
        "        .filterDate(date_range) \\\n",
        "        .select(metric) \\\n",
        "        .mean() \\\n",
        "        .set({\"name\": focal_year, \"metric\": metric}) \\\n",
        "        .clip(aoi)\n",
        "\n",
        "annual_tc = years.map(lambda focal_year: yearly_cover(focal_year, metric = \"Percent_Tree_Cover\"))\n",
        "print(annual_tc.getInfo())\n",
        "\n",
        "annual_ntc = years.map(lambda focal_year: yearly_cover(focal_year, metric = \"Percent_NonTree_Vegetation\"))\n",
        "print(annual_ntc.getInfo())\n",
        "\n",
        "annual_nvc = years.map(lambda focal_year: yearly_cover(focal_year, metric = \"Percent_NonVegetated\"))\n",
        "print(annual_nvc.getInfo())\n",
        "\n",
        "## Check an element of list\n",
        "annual  = ee.Image(annual_tc.get(0))\n",
        "label1 = ee.String(annual.get('name')).getInfo()\n",
        "label2 = ee.String(annual.get('metric')).getInfo()\n",
        "print(str(label1) + label2)\n",
        "print(annual.getInfo())\n"
      ],
      "metadata": {
        "id": "5ME5rPTOuOPn"
      },
      "execution_count": null,
      "outputs": []
    },
    {
      "cell_type": "code",
      "source": [
        "ee.List.length(annual_tc).getInfo()"
      ],
      "metadata": {
        "id": "aSvDoPDABnk9"
      },
      "execution_count": null,
      "outputs": []
    },
    {
      "cell_type": "markdown",
      "source": [
        "## Mapping images"
      ],
      "metadata": {
        "id": "rjs-6uszlxX4"
      }
    },
    {
      "cell_type": "code",
      "source": [
        "# Import the Folium library.\n",
        "import folium\n",
        "\n",
        "# Define a method for displaying Earth Engine image tiles to folium map.\n",
        "def add_ee_layer(self, ee_image_object, vis_params, name):\n",
        "  map_id_dict = ee.Image(ee_image_object).getMapId(vis_params)\n",
        "  folium.raster_layers.TileLayer(\n",
        "    tiles = map_id_dict['tile_fetcher'].url_format,\n",
        "    attr = 'Map Data &copy; <a href=\"https://earthengine.google.com/\">Google Earth Engine</a>',\n",
        "    name = name,\n",
        "    overlay = True,\n",
        "    control = True\n",
        "  ).add_to(self)\n",
        "\n",
        " # Add EE drawing method to folium.\n",
        "folium.Map.add_ee_layer = add_ee_layer\n",
        "\n",
        "# Set visualization parameters.\n",
        "vis_params = {\n",
        "  'min': 0,\n",
        "  'max': 50,\n",
        "  'palette': ['#FF0000', '#FF6600', '#FFCC00', '#99FF66', '#00FF00']\n",
        "  }\n",
        "\n",
        "# Create a folium map object.\n",
        "my_map = folium.Map(location=[0.1591, 37.3729], zoom_start=12)\n",
        "\n",
        "# Add layers\n",
        "\n",
        "annual_image = annual_tc\n",
        "# annual_image = annual_ntc\n",
        "# annual_image = annual_nvc\n",
        "\n",
        "# for i in range(ee.List.length(annual_image).getInfo()):\n",
        "for i in range(5):\n",
        "  print(i)\n",
        "  year_mosaic = ee.Image(annual_image.get(i))\n",
        "  label = ee.String(year_mosaic.get('name')).getInfo()\n",
        "  my_map.add_ee_layer(year_mosaic, vis_params, label)\n",
        "\n",
        "# Add a layer control panel to the map.\n",
        "my_map.add_child(folium.LayerControl())\n",
        "\n",
        "# Display the map.\n",
        "display(my_map)"
      ],
      "metadata": {
        "id": "R4j3Z14yl2bC"
      },
      "execution_count": null,
      "outputs": []
    },
    {
      "cell_type": "markdown",
      "source": [
        "## Export data - create task\n",
        "\n",
        "`filenamePrefix` should be in format: place_layer_timeperiod"
      ],
      "metadata": {
        "id": "i5vQjmLxemR7"
      }
    },
    {
      "cell_type": "code",
      "source": [
        "def export_vcf_images(annual_img, layer_name):\n",
        "  for i in  range(ee.List.length(annual_img).getInfo()):\n",
        "    output_img =  ee.Image(annual_img.get(i))\n",
        "    output_name = f\"{layer_name}_{aoi_name}_{ee.String(output_img.get('name')).getInfo()}\"\n",
        "    task = ee.batch.Export.image.toDrive(image = output_img,\n",
        "                                     region = aoi.geometry().bounds(),\n",
        "                                     description = \"EXPORT IMAGE TO DRIVE\",\n",
        "                                     folder = \"GEE_exports\",\n",
        "                                     fileNamePrefix = output_name,\n",
        "                                     scale = 250,\n",
        "                                     maxPixels = 10e12,\n",
        "                                     crs = \"EPSG:4326\"\n",
        "                                     )\n",
        "    task.start()\n",
        "    print(\"STARTED TASK \", i+1)\n",
        "\n",
        "export_vcf_images(annual_tc, \"RS_014\")  # Percentage tree cover\n",
        "export_vcf_images(annual_ntc, \"RS_015\") # Percentage non-tree vegetation cover\n",
        "export_vcf_images(annual_nvc, \"RS_016\") # Percentage non-vegetated cover\n",
        "\n"
      ],
      "metadata": {
        "id": "IGK70Xg1hdPh"
      },
      "execution_count": null,
      "outputs": []
    },
    {
      "cell_type": "markdown",
      "source": [
        "## Check task status\n",
        "\n",
        "[List](https://developers.google.com/earth-engine/guides/processing_environments#list-of-task-states) of task status messages (state field)\n"
      ],
      "metadata": {
        "id": "JTou0uwZf07f"
      }
    },
    {
      "cell_type": "code",
      "source": [
        "tasks = ee.batch.Task.list()\n",
        "for task in tasks[0:ee.List.length(year_list).getInfo()]:\n",
        "  task_id = task.status()['id']\n",
        "  task_state = task.status()['state']\n",
        "  print(task_id, task_state)"
      ],
      "metadata": {
        "id": "pW1XtRbvszlI"
      },
      "execution_count": null,
      "outputs": []
    }
  ]
}
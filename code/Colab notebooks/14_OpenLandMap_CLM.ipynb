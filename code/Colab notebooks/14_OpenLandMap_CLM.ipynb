{
  "cells": [
    {
      "cell_type": "markdown",
      "metadata": {
        "id": "view-in-github",
        "colab_type": "text"
      },
      "source": [
        "<a href=\"https://colab.research.google.com/github/Natural-State/agol-data-workflows/blob/master/code/Colab%20notebooks/14_OpenLandMap_CLM.ipynb\" target=\"_parent\"><img src=\"https://colab.research.google.com/assets/colab-badge.svg\" alt=\"Open In Colab\"/></a>"
      ]
    },
    {
      "cell_type": "markdown",
      "metadata": {
        "id": "dJXp2XHuX66D"
      },
      "source": [
        "# Extract rainfall from OpenLandMap"
      ]
    },
    {
      "cell_type": "markdown",
      "metadata": {
        "id": "7yUMLQBfYG9B"
      },
      "source": [
        "## Import gee and authenticate"
      ]
    },
    {
      "cell_type": "code",
      "execution_count": null,
      "metadata": {
        "id": "sPyB17KKeLUM"
      },
      "outputs": [],
      "source": [
        "import ee"
      ]
    },
    {
      "cell_type": "code",
      "execution_count": null,
      "metadata": {
        "id": "sOoUxFdhSmti"
      },
      "outputs": [],
      "source": [
        "# Trigger the authentication flow.\n",
        "ee.Authenticate()\n",
        "\n",
        "# Initialize the library.\n",
        "ee.Initialize()"
      ]
    },
    {
      "cell_type": "markdown",
      "metadata": {
        "id": "0zGM4Zvf_Gal"
      },
      "source": [
        "## Input arguments for data extraction"
      ]
    },
    {
      "cell_type": "code",
      "execution_count": null,
      "metadata": {
        "id": "HJpF8Lo0_PD1"
      },
      "outputs": [],
      "source": [
        "# Area of interest\n",
        "# aoi = ee.FeatureCollection(\"projects/ns-agol-rs-data/assets/MKR_NS_buff_5km\")\n",
        "# aoi_name = \"MKR_NS_buff_5km\"\n",
        "\n",
        "# aoi = ee.FeatureCollection(\"projects/ns-agol-rs-data/assets/carbon_rs_aoi\")\n",
        "# aoi_name = \"carbon_rs_aoi\"\n",
        "\n",
        "aoi = ee.FeatureCollection(\"projects/ns-agol-rs-data/assets/MKR\")\n",
        "aoi_name = \"MKR\"\n",
        "\n",
        "# GEE layer ID\n",
        "layer_name = \"RS_047\""
      ]
    },
    {
      "cell_type": "markdown",
      "metadata": {
        "id": "k7gU47wyao17"
      },
      "source": [
        "## OpenLandMap Precipitation Monthly\n",
        "\n"
      ]
    },
    {
      "cell_type": "code",
      "execution_count": null,
      "metadata": {
        "id": "moid-7byasZq"
      },
      "outputs": [],
      "source": [
        "rainfall = ee.Image(\"OpenLandMap/CLM/CLM_PRECIPITATION_SM2RAIN_M/v01\") \\\n",
        "  .clip(aoi)"
      ]
    },
    {
      "cell_type": "markdown",
      "metadata": {
        "id": "MF4OJJGka6Kd"
      },
      "source": [
        "## Rainfall processing"
      ]
    },
    {
      "cell_type": "code",
      "execution_count": null,
      "metadata": {
        "id": "3EhDIXCK-bhj"
      },
      "outputs": [],
      "source": [
        "print(rainfall.getInfo())\n",
        "\n",
        "band_list = rainfall.bandNames().getInfo()\n",
        "print(type(band_list))\n",
        "print(band_list)"
      ]
    },
    {
      "cell_type": "markdown",
      "metadata": {
        "id": "i5vQjmLxemR7"
      },
      "source": [
        "## Export data - create task"
      ]
    },
    {
      "cell_type": "code",
      "execution_count": null,
      "metadata": {
        "id": "IGK70Xg1hdPh"
      },
      "outputs": [],
      "source": [
        "for i in band_list:\n",
        "  output_img =  rainfall.select(i)\n",
        "  output_name = f\"{layer_name}_{aoi_name}_{i}\"\n",
        "  task = ee.batch.Export.image.toDrive(image = output_img,\n",
        "                                     region = aoi.geometry(),\n",
        "                                     description = \"EXPORT IMAGE TO DRIVE\",\n",
        "                                     folder = \"GEE_exports\",\n",
        "                                     fileNamePrefix = output_name,\n",
        "                                     scale = 1000,\n",
        "                                     maxPixels = 10e12,\n",
        "                                     crs = \"EPSG:4326\"\n",
        "                                     )\n",
        "  task.start()\n",
        "  print(\"STARTED TASK \", i)"
      ]
    },
    {
      "cell_type": "markdown",
      "metadata": {
        "id": "JTou0uwZf07f"
      },
      "source": [
        "## Check task status"
      ]
    },
    {
      "cell_type": "code",
      "execution_count": null,
      "metadata": {
        "colab": {
          "background_save": true
        },
        "id": "pW1XtRbvszlI"
      },
      "outputs": [],
      "source": [
        "tasks = ee.batch.Task.list()\n",
        "for task in tasks[0:len(band_list)]:\n",
        "  task_id = task.status()['id']\n",
        "  task_state = task.status()['state']\n",
        "  print(task_id, task_state)"
      ]
    }
  ],
  "metadata": {
    "colab": {
      "provenance": [],
      "toc_visible": true,
      "mount_file_id": "1JK2Bt52NRaE_oWYNyouZQQwZyniBWvpk",
      "authorship_tag": "ABX9TyOgyFRn2sdwTQzB69j4YLFZ",
      "include_colab_link": true
    },
    "kernelspec": {
      "display_name": "Python 3",
      "name": "python3"
    },
    "language_info": {
      "name": "python"
    }
  },
  "nbformat": 4,
  "nbformat_minor": 0
}
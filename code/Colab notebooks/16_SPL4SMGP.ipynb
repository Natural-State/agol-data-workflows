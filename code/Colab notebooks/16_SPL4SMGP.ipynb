{
  "nbformat": 4,
  "nbformat_minor": 0,
  "metadata": {
    "colab": {
      "provenance": [],
      "toc_visible": true,
      "include_colab_link": true
    },
    "kernelspec": {
      "name": "python3",
      "display_name": "Python 3"
    },
    "language_info": {
      "name": "python"
    }
  },
  "cells": [
    {
      "cell_type": "markdown",
      "metadata": {
        "id": "view-in-github",
        "colab_type": "text"
      },
      "source": [
        "<a href=\"https://colab.research.google.com/github/Natural-State/agol-data-workflows/blob/master/code/Colab%20notebooks/16_SPL4SMGP.ipynb\" target=\"_parent\"><img src=\"https://colab.research.google.com/assets/colab-badge.svg\" alt=\"Open In Colab\"/></a>"
      ]
    },
    {
      "cell_type": "markdown",
      "source": [
        "# Extract Soil moisture measure from SMAP Level-4 platform"
      ],
      "metadata": {
        "id": "dJXp2XHuX66D"
      }
    },
    {
      "cell_type": "markdown",
      "source": [
        "## Import gee and authenticate"
      ],
      "metadata": {
        "id": "7yUMLQBfYG9B"
      }
    },
    {
      "cell_type": "code",
      "source": [
        "import os\n",
        "\n",
        "# If credentials file doesn't exist, authenticate and store credentials\n",
        "# Else if credentials file does exist, use stored credentials and initialise\n",
        "if not os.path.exists(os.path.expanduser(\"~/.config/earthengine/credentials\")):\n",
        "  import ee\n",
        "  ee.Authenticate()\n",
        "  ee.Initialize()\n",
        "else:\n",
        "  import ee\n",
        "  ee.Initialize()"
      ],
      "metadata": {
        "id": "p-nufxUkc3gu"
      },
      "execution_count": null,
      "outputs": []
    },
    {
      "cell_type": "markdown",
      "source": [
        "## Input arguments for data extraction"
      ],
      "metadata": {
        "id": "0zGM4Zvf_Gal"
      }
    },
    {
      "cell_type": "code",
      "source": [
        "# Area of interest\n",
        "aoi = ee.FeatureCollection(\"projects/ns-agol-rs-data/assets/MKR_NS_buff_5km\")\n",
        "aoi_name = \"MKR_NS_buff_5km\"\n",
        "\n",
        "# GEE layer ID\n",
        "layer_dict = {\n",
        "  \"sm_surface\": \"RS_049\",\n",
        "  \"sm_rootzone\": \"RS_050\",\n",
        "  \"sm_surface_wetness\": \"RS_051\",\n",
        "  \"sm_rootzone_wetness\": \"RS_052\"\n",
        "}\n",
        "\n",
        "# Date parameters\n",
        "start_year = 2018\n",
        "end_year = 2022\n",
        "\n",
        "# Range doesn't include the stop value\n",
        "year_list = ee.List(list(range(start_year, end_year+1)))\n",
        "\n",
        "# Season parameters (months)\n",
        "rain_start = 3\n",
        "rain_end = 5\n",
        "dry_start = 7\n",
        "dry_end = 10\n",
        "\n",
        "# Image reducer (options: mean, median, min, max, stdDev, sum, product)\n",
        "img_col_reducer = \"mean\""
      ],
      "metadata": {
        "id": "HJpF8Lo0_PD1"
      },
      "execution_count": null,
      "outputs": []
    },
    {
      "cell_type": "markdown",
      "source": [
        "## SMAP L4 Global 3-hourly 9 km EASE-Grid Surface and Root Zone Soil Moisture Geophysical Data, Version 7\n"
      ],
      "metadata": {
        "id": "k7gU47wyao17"
      }
    },
    {
      "cell_type": "code",
      "source": [
        "smap = ee.ImageCollection(\"NASA/SMAP/SPL4SMGP/007\") \\\n",
        "  .filterBounds(aoi)"
      ],
      "metadata": {
        "id": "moid-7byasZq"
      },
      "execution_count": null,
      "outputs": []
    },
    {
      "cell_type": "markdown",
      "source": [
        "## Create reducer list"
      ],
      "metadata": {
        "id": "Av8ttAEAvHHy"
      }
    },
    {
      "cell_type": "code",
      "source": [
        "reducer_list = ee.Reducer.mean() \\\n",
        ".combine(reducer2 = ee.Reducer.median(), sharedInputs=True) \\\n",
        ".combine(reducer2 = ee.Reducer.min(), sharedInputs=True) \\\n",
        ".combine(reducer2 = ee.Reducer.max(), sharedInputs=True) \\\n",
        ".combine(reducer2 = ee.Reducer.stdDev(), sharedInputs=True) \\\n",
        ".combine(reducer2 = ee.Reducer.sum(), sharedInputs=True) \\\n",
        ".combine(reducer2 = ee.Reducer.product(), sharedInputs=True)"
      ],
      "metadata": {
        "id": "dhkhjJaVvJyX"
      },
      "execution_count": null,
      "outputs": []
    },
    {
      "cell_type": "markdown",
      "source": [
        "## Soil moisture processing"
      ],
      "metadata": {
        "id": "MF4OJJGka6Kd"
      }
    },
    {
      "cell_type": "code",
      "source": [
        "# Function to get mean soil moisture values for each year and season\n",
        "\n",
        "def annual_seasonal_mean(soil_band, year_date, season_start, season_end):\n",
        "  start = ee.Date.fromYMD(year_date, season_start, 1)\n",
        "  end = ee.Date.fromYMD(year_date, season_end, 30)\n",
        "  date_range = ee.DateRange(start, end)\n",
        "  return smap \\\n",
        "        .filterDate(date_range) \\\n",
        "        .select(soil_band) \\\n",
        "        .reduce(reducer = reducer_list) \\\n",
        "        .clip(aoi) \\\n",
        "        .set({'year': year_date,\n",
        "             'season_start': season_start,\n",
        "             'season_end': season_end})\n",
        "\n",
        "#\n",
        "def map_annual_1(year_date):\n",
        "  return annual_seasonal_mean(\"sm_surface\", year_date, rain_start, rain_end)\n",
        "\n",
        "annual_surf_wet = year_list.map(map_annual_1)\n",
        "\n",
        "#\n",
        "def map_annual_2(year_date):\n",
        "  return annual_seasonal_mean(\"sm_surface\", year_date, dry_start, dry_end)\n",
        "\n",
        "annual_surf_dry = year_list.map(map_annual_2)\n",
        "\n",
        "#\n",
        "def map_annual_3(year_date):\n",
        "  return annual_seasonal_mean(\"sm_rootzone\", year_date, rain_start, rain_end)\n",
        "\n",
        "annual_root_wet = year_list.map(map_annual_3)\n",
        "\n",
        "#\n",
        "def map_annual_4(year_date):\n",
        "  return annual_seasonal_mean(\"sm_rootzone\", year_date, dry_start, dry_end)\n",
        "\n",
        "annual_root_dry = year_list.map(map_annual_4)\n",
        "\n",
        "#\n",
        "def map_annual_5(year_date):\n",
        "  return annual_seasonal_mean(\"sm_surface_wetness\", year_date, rain_start, rain_end)\n",
        "\n",
        "annual_surfWI_wet = year_list.map(map_annual_5)\n",
        "\n",
        "#\n",
        "def map_annual_6(year_date):\n",
        "  return annual_seasonal_mean(\"sm_surface_wetness\", year_date, dry_start, dry_end)\n",
        "\n",
        "annual_surfWI_dry = year_list.map(map_annual_6)\n",
        "\n",
        "#\n",
        "def map_annual_7(year_date):\n",
        "  return annual_seasonal_mean(\"sm_rootzone_wetness\", year_date, rain_start, rain_end)\n",
        "\n",
        "annual_rootWI_wet = year_list.map(map_annual_7)\n",
        "\n",
        "#\n",
        "def map_annual_8(year_date):\n",
        "  return annual_seasonal_mean(\"sm_rootzone_wetness\", year_date, dry_start, dry_end)\n",
        "\n",
        "annual_rootWI_dry = year_list.map(map_annual_8)"
      ],
      "metadata": {
        "id": "5ME5rPTOuOPn"
      },
      "execution_count": null,
      "outputs": []
    },
    {
      "cell_type": "markdown",
      "source": [
        "## Output checks"
      ],
      "metadata": {
        "id": "iDzz352avcNX"
      }
    },
    {
      "cell_type": "code",
      "source": [
        "## Check an element of list\n",
        "year_mosaic = ee.Image(annual_surf_wet.get(0))\n",
        "label = ee.String(year_mosaic.get('year')).getInfo()\n",
        "print(label)\n",
        "print(year_mosaic.getInfo())\n",
        "print(year_mosaic.bandNames().getInfo())\n",
        "\n",
        "## Check a reducer band\n",
        "band_select = \".*\" + img_col_reducer\n",
        "print(band_select)\n",
        "print(year_mosaic.select(band_select).getInfo())\n",
        "\n",
        "## Check an element of list\n",
        "year_mosaic = ee.Image(annual_surfWI_dry.get(0))\n",
        "label = ee.String(year_mosaic.get('year')).getInfo()\n",
        "print(label)\n",
        "print(year_mosaic.getInfo())\n",
        "print(year_mosaic.bandNames().getInfo())\n",
        "\n",
        "## Check a reducer band\n",
        "band_select = \".*\" + img_col_reducer\n",
        "print(band_select)\n",
        "print(year_mosaic.select(band_select).getInfo())"
      ],
      "metadata": {
        "id": "neOWH3dXX90m"
      },
      "execution_count": null,
      "outputs": []
    },
    {
      "cell_type": "markdown",
      "source": [
        "## Export data - create task"
      ],
      "metadata": {
        "id": "i5vQjmLxemR7"
      }
    },
    {
      "cell_type": "code",
      "source": [
        "def export_layers(annual_soil_col, layer_name):\n",
        "\n",
        "  for i in  range(ee.List.length(annual_soil_col).getInfo()):\n",
        "    band_select = \".*\" + img_col_reducer\n",
        "    output_img =  ee.Image(annual_soil_col.get(i))\n",
        "    output_img = output_img.select(band_select)\n",
        "    year_label = ee.String(output_img.get('year')).getInfo()\n",
        "    season =  ee.String(output_img.get('season_start')).getInfo()\n",
        "    season_label = \"dry\" if season == dry_start else \"wet\"\n",
        "    output_name = f\"{layer_name}_{img_col_reducer}_{aoi_name}_{ee.String(output_img.get('year')).getInfo()}_{season_label}\"\n",
        "\n",
        "    task = ee.batch.Export.image.toDrive(image = output_img,\n",
        "                                        region = aoi.geometry(),\n",
        "                                        description = \"EXPORT IMAGE TO DRIVE\",\n",
        "                                        folder = \"GEE_exports\",\n",
        "                                        fileNamePrefix = output_name,\n",
        "                                        scale = 10000,\n",
        "                                        maxPixels = 10e12\n",
        "                                      )\n",
        "    task.start()\n",
        "    print(\"STARTED TASK \", i+1, layer_name)"
      ],
      "metadata": {
        "id": "wee0SIoTiCce"
      },
      "execution_count": null,
      "outputs": []
    },
    {
      "cell_type": "code",
      "source": [
        "export_layers(annual_surf_wet, \"RS_049\")\n",
        "export_layers(annual_surf_dry, \"RS_049\")\n",
        "export_layers(annual_root_wet, \"RS_050\")\n",
        "export_layers(annual_root_dry, \"RS_050\")\n",
        "\n",
        "export_layers(annual_surfWI_wet, \"RS_051\")\n",
        "export_layers(annual_surfWI_dry, \"RS_051\")\n",
        "export_layers(annual_rootWI_wet, \"RS_052\")\n",
        "export_layers(annual_rootWI_dry, \"RS_052\")"
      ],
      "metadata": {
        "id": "GdhVXXpkjDOd"
      },
      "execution_count": null,
      "outputs": []
    },
    {
      "cell_type": "code",
      "source": [
        "# Print the list of variable/object names\n",
        "variable_names = [var for var in dir() if not var.startswith('_')]\n",
        "for v in variable_names:\n",
        "  print(v)"
      ],
      "metadata": {
        "id": "k2HSCAjfovd9"
      },
      "execution_count": null,
      "outputs": []
    },
    {
      "cell_type": "markdown",
      "source": [
        "## Check task status\n",
        "\n",
        "[List](https://developers.google.com/earth-engine/guides/processing_environments#list-of-task-states) of task status messages (state field)\n"
      ],
      "metadata": {
        "id": "JTou0uwZf07f"
      }
    },
    {
      "cell_type": "code",
      "source": [
        "tasks = ee.batch.Task.list()\n",
        "for task in tasks[0:ee.List.length(year_list).getInfo()]:\n",
        "  task_id = task.status()['id']\n",
        "  task_state = task.status()['state']\n",
        "  print(task_id, task_state)"
      ],
      "metadata": {
        "id": "pW1XtRbvszlI"
      },
      "execution_count": null,
      "outputs": []
    }
  ]
}
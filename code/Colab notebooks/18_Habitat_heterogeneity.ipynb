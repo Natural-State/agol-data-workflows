{
  "nbformat": 4,
  "nbformat_minor": 0,
  "metadata": {
    "colab": {
      "provenance": [],
      "toc_visible": true,
      "mount_file_id": "1JK2Bt52NRaE_oWYNyouZQQwZyniBWvpk",
      "authorship_tag": "ABX9TyOAWdsWVyTG4LvMgXo/jBMk",
      "include_colab_link": true
    },
    "kernelspec": {
      "name": "python3",
      "display_name": "Python 3"
    },
    "language_info": {
      "name": "python"
    }
  },
  "cells": [
    {
      "cell_type": "markdown",
      "metadata": {
        "id": "view-in-github",
        "colab_type": "text"
      },
      "source": [
        "<a href=\"https://colab.research.google.com/github/Natural-State/agol-data-workflows/blob/master/code/Colab%20notebooks/18_Habitat_heterogeneity.ipynb\" target=\"_parent\"><img src=\"https://colab.research.google.com/assets/colab-badge.svg\" alt=\"Open In Colab\"/></a>"
      ]
    },
    {
      "cell_type": "markdown",
      "source": [
        "# Calculate habitat heterogeneity metrics for NDVI using Sentinel imagery"
      ],
      "metadata": {
        "id": "dJXp2XHuX66D"
      }
    },
    {
      "cell_type": "markdown",
      "source": [
        "See [here](https://developers.google.com/earth-engine/guides/python_install#syntax) for differences between Javascript and Python syntax\n",
        "\n",
        "Main [tutorial](https://courses.spatialthoughts.com/end-to-end-gee.html#module-6-google-earth-engine-python-api) here"
      ],
      "metadata": {
        "id": "87txRFNsithD"
      }
    },
    {
      "cell_type": "markdown",
      "source": [
        "## Import gee and authenticate"
      ],
      "metadata": {
        "id": "7yUMLQBfYG9B"
      }
    },
    {
      "cell_type": "code",
      "source": [
        "import ee\n",
        "import re"
      ],
      "metadata": {
        "id": "sPyB17KKeLUM"
      },
      "execution_count": null,
      "outputs": []
    },
    {
      "cell_type": "code",
      "execution_count": null,
      "metadata": {
        "id": "sOoUxFdhSmti"
      },
      "outputs": [],
      "source": [
        "# Trigger the authentication flow.\n",
        "ee.Authenticate()\n",
        "\n",
        "# Initialize the library.\n",
        "ee.Initialize()"
      ]
    },
    {
      "cell_type": "markdown",
      "source": [
        "## Input arguments for data extraction"
      ],
      "metadata": {
        "id": "0zGM4Zvf_Gal"
      }
    },
    {
      "cell_type": "code",
      "source": [
        "# Area of interest\n",
        "aoi = ee.FeatureCollection(\"projects/ns-agol-rs-data/assets/LLBN\")\n",
        "aoi_name = \"LLBN\"\n",
        "\n",
        "\n",
        "# Indice\n",
        "indice = \"NDVI\"\n",
        "\n",
        "# GEE layer ID\n",
        "layer_dict = {\n",
        "    indice + \"_CV\": \"RS_054\",\n",
        "    indice + \"_contrast\": \"RS_055\",\n",
        "    indice + \"_diss\": \"RS_056\",\n",
        "    indice + \"_ent\": \"RS_057\",\n",
        "    indice + \"_idm\": \"RS_058\"\n",
        "}\n",
        "\n",
        "# Date parameters (habitat metrics to be calculated based on averages over the last 5 years)\n",
        "start_year = 2018\n",
        "end_year = 2022"
      ],
      "metadata": {
        "id": "HJpF8Lo0_PD1"
      },
      "execution_count": null,
      "outputs": []
    },
    {
      "cell_type": "markdown",
      "source": [
        "## Import Sentinel 2 image collection\n",
        "\n",
        "Dataset starts in June 2015\n",
        "Clouds can be mostly removed by using [COPERNICUS/S2_CLOUD_PROBABILITY](https://developers.google.com/earth-engine/datasets/catalog/COPERNICUS_S2_CLOUD_PROBABILITY). See [this tutorial](https://developers.google.com/earth-engine/tutorials/community/sentinel-2-s2cloudless) explaining how to apply the cloud mask.\n",
        "\n",
        "\n",
        "\n",
        "---\n",
        "\n",
        "\n",
        "Sentinel-2 MSI: MultiSpectral Instrument, Level-1C\n",
        "```ee.ImageCollection(\"COPERNICUS/S2\")```\n",
        "\n",
        "\n",
        "\n",
        "---\n",
        "\n",
        "\n",
        "Harmonized Sentinel-2 MSI: MultiSpectral Instrument, Level-2A\n",
        "```ee.ImageCollection(\"COPERNICUS/S2_SR_HARMONIZED\")```\n",
        "\n",
        "\n",
        "\n",
        "---\n",
        "\n",
        "\n",
        "Sentinel-2 MSI: MultiSpectral Instrument, Level-2A\n",
        "```ee.ImageCollection(\"COPERNICUS/S2_SR\")```"
      ],
      "metadata": {
        "id": "k7gU47wyao17"
      }
    },
    {
      "cell_type": "code",
      "source": [
        "sentinel2 = ee.ImageCollection(\"COPERNICUS/S2_SR_HARMONIZED\")"
      ],
      "metadata": {
        "id": "moid-7byasZq"
      },
      "execution_count": null,
      "outputs": []
    },
    {
      "cell_type": "markdown",
      "source": [
        "## NDVI processing"
      ],
      "metadata": {
        "id": "MF4OJJGka6Kd"
      }
    },
    {
      "cell_type": "code",
      "source": [
        "def maskS2clouds(image):\n",
        "  qa = image.select('QA60')\n",
        "  # Bits 10 and 11 are clouds and cirrus, respectively.\n",
        "  cloudBitMask = 1 << 10\n",
        "  cirrusBitMask = 1 << 11\n",
        "  # Both flags should be set to zero, indicating clear conditions.\n",
        "  mask = qa.bitwiseAnd(cloudBitMask).eq(0).And(qa.bitwiseAnd(cirrusBitMask).eq(0))\n",
        "  return image.updateMask(mask).divide(10000)\n",
        "\n",
        "def addNDVI(image):\n",
        "  imgb = image.select('B.*')\n",
        "  ndvi = imgb.normalizedDifference(['B8','B4']).rename('NDVI')\n",
        "  return image.addBands(ndvi)\n",
        "\n",
        "start = ee.Date.fromYMD(start_year, 1, 1)\n",
        "end = ee.Date.fromYMD(end_year, 12, 31)\n",
        "date_range = ee.DateRange(start, end)\n",
        "\n",
        "ndvi = ee.ImageCollection(\"COPERNICUS/S2\") \\\n",
        "  .filterDate(date_range) \\\n",
        "  .filter(ee.Filter.lt('CLOUDY_PIXEL_PERCENTAGE', 20)) \\\n",
        "  .map(maskS2clouds) \\\n",
        "  .map(addNDVI) \\\n",
        "  .select('NDVI') \\\n",
        "  .mean() \\\n",
        "  .clip(aoi)\n",
        "\n",
        "print(ndvi.getInfo())"
      ],
      "metadata": {
        "id": "ceDuT-aqRdWd"
      },
      "execution_count": null,
      "outputs": []
    },
    {
      "cell_type": "code",
      "source": [
        "# Mask negative values (water, bare soil)\n",
        "ndvi = ndvi.updateMask(ndvi.gte(0))"
      ],
      "metadata": {
        "id": "Ol0zx5MP4EC0"
      },
      "execution_count": null,
      "outputs": []
    },
    {
      "cell_type": "markdown",
      "source": [
        "## Calculate second-order textture metrics"
      ],
      "metadata": {
        "id": "wJsidCZkJeFJ"
      }
    },
    {
      "cell_type": "code",
      "source": [
        "glcm = ndvi \\\n",
        "  .unitScale(0, 1) \\\n",
        "  .multiply(1000) \\\n",
        "  .toInt() \\\n",
        "  .glcmTexture(size = 2)"
      ],
      "metadata": {
        "id": "T1NnbgmBdZKk"
      },
      "execution_count": null,
      "outputs": []
    },
    {
      "cell_type": "code",
      "source": [
        "# Checks\n",
        "print(glcm.getInfo())\n",
        "print(glcm.bandNames().getInfo())\n",
        "\n",
        "band_names = glcm.bandNames().getInfo()\n",
        "pattern = r\"_contrast|_diss|_ent|_idm\"\n",
        "filtered_band_names = [name for name in band_names if re.search(pattern, name)]\n",
        "print(filtered_band_names)\n",
        "\n",
        "texture_metrics = glcm.select(filtered_band_names)\n",
        "print(texture_metrics.getInfo())"
      ],
      "metadata": {
        "id": "70kk2evqgogQ"
      },
      "execution_count": null,
      "outputs": []
    },
    {
      "cell_type": "markdown",
      "source": [
        "## Calculate CV"
      ],
      "metadata": {
        "id": "rRHAa65fJjpg"
      }
    },
    {
      "cell_type": "code",
      "source": [
        "# Define a neighborhood kernel to compute statistics on neighboring pixels\n",
        "kernelSize = 2  # Adjust the kernel size as needed\n",
        "kernel = ee.Kernel.square(kernelSize)\n",
        "\n",
        "# Compute the mean and standard deviation of the NDVI values within each pixel's neighborhood\n",
        "meanImage = ndvi \\\n",
        "  .reduceNeighborhood(reducer=ee.Reducer.mean(), kernel=kernel)\n",
        "\n",
        "stdDevImage = ndvi \\\n",
        "  .reduceNeighborhood(reducer=ee.Reducer.stdDev(), kernel=kernel)\n",
        "\n",
        "# Calculate the coefficient of variation (CV) using the computed mean and standard deviation\n",
        "cvImage = stdDevImage.divide(meanImage).multiply(100)  # Multiply by 100 for percentage representation"
      ],
      "metadata": {
        "id": "J_zBQXYo1kDs"
      },
      "execution_count": null,
      "outputs": []
    },
    {
      "cell_type": "markdown",
      "source": [
        "## Export data"
      ],
      "metadata": {
        "id": "i5vQjmLxemR7"
      }
    },
    {
      "cell_type": "code",
      "source": [
        "for i in texture_metrics.bandNames().getInfo():\n",
        "  print(layer_dict[i])\n",
        "  output_img = texture_metrics.select(i)\n",
        "  output_name = f\"{layer_dict[i]}_{aoi_name}\"\n",
        "  task = ee.batch.Export.image.toDrive(image = output_img,\n",
        "                                      region = aoi.geometry(),\n",
        "                                      description = \"EXPORT IMAGE TO DRIVE\",\n",
        "                                      folder = \"GEE_exports\",\n",
        "                                      fileNamePrefix = output_name,\n",
        "                                      scale = 30,\n",
        "                                      maxPixels = 10e12,\n",
        "                                      crs = \"EPSG:4326\"\n",
        "                                      )\n",
        "  task.start()\n",
        "  print(\"STARTED TASK \", i)"
      ],
      "metadata": {
        "id": "4V-gHJ5jhwsc"
      },
      "execution_count": null,
      "outputs": []
    },
    {
      "cell_type": "code",
      "source": [
        "layer_id = layer_dict[indice + \"_CV\"]\n",
        "output_name = f\"{layer_id}_{aoi_name}\"\n",
        "\n",
        "task = ee.batch.Export.image.toDrive(image = cvImage,\n",
        "                                      region = aoi.geometry(),\n",
        "                                      description = \"EXPORT IMAGE TO DRIVE\",\n",
        "                                      folder = \"GEE_exports\",\n",
        "                                      fileNamePrefix = output_name,\n",
        "                                      scale = 30,\n",
        "                                      maxPixels = 10e12,\n",
        "                                      crs = \"EPSG:4326\"\n",
        "                                      )\n",
        "task.start()"
      ],
      "metadata": {
        "id": "nN-thAa79N-B"
      },
      "execution_count": null,
      "outputs": []
    },
    {
      "cell_type": "markdown",
      "source": [
        "Layers below just needed for checks, not for inclusion into AGOL"
      ],
      "metadata": {
        "id": "IKdtvy4O-7Bo"
      }
    },
    {
      "cell_type": "code",
      "source": [
        "# task = ee.batch.Export.image.toDrive(image = ndvi,\n",
        "#                                       region = aoi.geometry(),\n",
        "#                                       description = \"EXPORT IMAGE TO DRIVE\",\n",
        "#                                       folder = \"GEE_exports\",\n",
        "#                                       fileNamePrefix = \"ndvi\",\n",
        "#                                       scale = 30,\n",
        "#                                       maxPixels = 10e12\n",
        "#                                       )\n",
        "# task.start()"
      ],
      "metadata": {
        "id": "hbizuPdMopPR"
      },
      "execution_count": null,
      "outputs": []
    },
    {
      "cell_type": "code",
      "source": [
        "# task = ee.batch.Export.image.toDrive(image = meanImage,\n",
        "#                                       region = aoi.geometry(),\n",
        "#                                       description = \"EXPORT IMAGE TO DRIVE\",\n",
        "#                                       folder = \"GEE_exports\",\n",
        "#                                       fileNamePrefix = \"mean\",\n",
        "#                                       scale = 30,\n",
        "#                                       maxPixels = 10e12\n",
        "#                                       )\n",
        "# task.start()"
      ],
      "metadata": {
        "id": "O7OKLDpY14Ct"
      },
      "execution_count": null,
      "outputs": []
    },
    {
      "cell_type": "code",
      "source": [
        "# task = ee.batch.Export.image.toDrive(image = stdDevImage,\n",
        "#                                       region = aoi.geometry(),\n",
        "#                                       description = \"EXPORT IMAGE TO DRIVE\",\n",
        "#                                       folder = \"GEE_exports\",\n",
        "#                                       fileNamePrefix = \"sd\",\n",
        "#                                       scale = 30,\n",
        "#                                       maxPixels = 10e12\n",
        "#                                       )\n",
        "# task.start()"
      ],
      "metadata": {
        "id": "hGi3_eg49SPP"
      },
      "execution_count": null,
      "outputs": []
    },
    {
      "cell_type": "markdown",
      "source": [
        "## Check task status\n",
        "\n",
        "[List](https://developers.google.com/earth-engine/guides/processing_environments#list-of-task-states) of task status messages (state field)\n"
      ],
      "metadata": {
        "id": "JTou0uwZf07f"
      }
    },
    {
      "cell_type": "code",
      "source": [
        "# tasks = ee.batch.Task.list()\n",
        "# for task in tasks[0:ee.List.length(year_list).getInfo()]:\n",
        "#   task_id = task.status()['id']\n",
        "#   task_state = task.status()['state']\n",
        "#   print(task_id, task_state)"
      ],
      "metadata": {
        "id": "pW1XtRbvszlI"
      },
      "execution_count": null,
      "outputs": []
    }
  ]
}
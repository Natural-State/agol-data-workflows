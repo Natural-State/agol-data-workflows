{
  "nbformat": 4,
  "nbformat_minor": 0,
  "metadata": {
    "colab": {
      "provenance": [],
      "toc_visible": true,
      "mount_file_id": "1JK2Bt52NRaE_oWYNyouZQQwZyniBWvpk",
      "authorship_tag": "ABX9TyPy5DuE0+iXEqOhkaGwcgqy",
      "include_colab_link": true
    },
    "kernelspec": {
      "name": "python3",
      "display_name": "Python 3"
    },
    "language_info": {
      "name": "python"
    }
  },
  "cells": [
    {
      "cell_type": "markdown",
      "metadata": {
        "id": "view-in-github",
        "colab_type": "text"
      },
      "source": [
        "<a href=\"https://colab.research.google.com/github/Natural-State/agol-data-workflows/blob/master/code/Colab%20notebooks/05_CHIRPS.ipynb\" target=\"_parent\"><img src=\"https://colab.research.google.com/assets/colab-badge.svg\" alt=\"Open In Colab\"/></a>"
      ]
    },
    {
      "cell_type": "markdown",
      "source": [
        "# Extract monthly rainfall data"
      ],
      "metadata": {
        "id": "dJXp2XHuX66D"
      }
    },
    {
      "cell_type": "markdown",
      "source": [
        "## Import gee and authenticate"
      ],
      "metadata": {
        "id": "7yUMLQBfYG9B"
      }
    },
    {
      "cell_type": "code",
      "source": [
        "import ee"
      ],
      "metadata": {
        "id": "sPyB17KKeLUM"
      },
      "execution_count": 1,
      "outputs": []
    },
    {
      "cell_type": "code",
      "execution_count": 3,
      "metadata": {
        "id": "sOoUxFdhSmti",
        "colab": {
          "base_uri": "https://localhost:8080/"
        },
        "outputId": "54109072-10d9-4f34-f764-deec027deddd"
      },
      "outputs": [
        {
          "output_type": "stream",
          "name": "stdout",
          "text": [
            "To authorize access needed by Earth Engine, open the following URL in a web browser and follow the instructions. If the web browser does not start automatically, please manually browse the URL below.\n",
            "\n",
            "    https://code.earthengine.google.com/client-auth?scopes=https%3A//www.googleapis.com/auth/earthengine%20https%3A//www.googleapis.com/auth/devstorage.full_control&request_id=6bz_TXmj-TpvEseRvPHRpxiopcB3YFHfkypOWHEs8ds&tc=XZFvsrTN6EahsLr47GKvYr1GIXU0aGQzDW_ct7j09IU&cc=dbKtNdHQyhBQC_wrUYfJhxjBzqbdfh7QAUK7fYI4gVg\n",
            "\n",
            "The authorization workflow will generate a code, which you should paste in the box below.\n",
            "Enter verification code: 4/1AbUR2VN3Tq6_OB3amud11b1iD9pM6huGF2MqVEbmA0FddGieiO5BfgMRw-Y\n",
            "\n",
            "Successfully saved authorization token.\n"
          ]
        }
      ],
      "source": [
        "# Trigger the authentication flow.\n",
        "ee.Authenticate()\n",
        "\n",
        "# Initialize the library.\n",
        "ee.Initialize()"
      ]
    },
    {
      "cell_type": "markdown",
      "source": [
        "## Input arguments for data extraction"
      ],
      "metadata": {
        "id": "0zGM4Zvf_Gal"
      }
    },
    {
      "cell_type": "code",
      "source": [
        "# Area of interest\n",
        "# aoi = ee.FeatureCollection(\"projects/ns-agol-rs-data/assets/MKR_NS_buff_5km\")\n",
        "# aoi_name = \"MKR_NS_buff_5km\"\n",
        "\n",
        "aoi = ee.FeatureCollection(\"projects/ns-agol-rs-data/assets/MKR_PACE\")\n",
        "aoi_name = \"MKR_PACE\"\n",
        "\n",
        "# GEE layer ID\n",
        "layer_name = \"RS_012\"\n",
        "\n",
        "# Date parameters\n",
        "start_year = 2012\n",
        "end_year = 2022\n",
        "\n",
        "# Range doesn't include the stop value\n",
        "year_list = ee.List(list(range(start_year, end_year+1)))"
      ],
      "metadata": {
        "id": "HJpF8Lo0_PD1"
      },
      "execution_count": 4,
      "outputs": []
    },
    {
      "cell_type": "markdown",
      "source": [
        "## CHIRPS Daily: Climate Hazards Group InfraRed Precipitation With Station Data (Version 2.0 Final)\n",
        "\n",
        "Spatial resolution is 5km so not sure if Matt is going to find this uesful - check first.\n"
      ],
      "metadata": {
        "id": "k7gU47wyao17"
      }
    },
    {
      "cell_type": "code",
      "source": [
        "chirps = ee.ImageCollection(\"UCSB-CHG/CHIRPS/DAILY\")"
      ],
      "metadata": {
        "id": "moid-7byasZq"
      },
      "execution_count": 5,
      "outputs": []
    },
    {
      "cell_type": "markdown",
      "source": [
        "## Rainfall processing - annual sum"
      ],
      "metadata": {
        "id": "hGODCVtJPSrm"
      }
    },
    {
      "cell_type": "code",
      "source": [
        "chirps = ee.ImageCollection(\"UCSB-CHG/CHIRPS/DAILY\")\n",
        "years = ee.List.sequence(start_year, end_year)\n",
        "\n",
        "def yearly_rain(focal_year):\n",
        "  start = ee.Date.fromYMD(focal_year, 1, 1)\n",
        "  end = ee.Date.fromYMD(focal_year, 12, 31)\n",
        "  date_range = ee.DateRange(start, end)\n",
        "  return chirps \\\n",
        "        .filterDate(date_range) \\\n",
        "        .sum() \\\n",
        "        .clip(aoi)\n",
        "\n",
        "rain_years = ee.ImageCollection.fromImages(years.map(yearly_rain).flatten())\n",
        "print(rain_years.getInfo())\n",
        "rain_bands = rain_years.toBands()\n",
        "print(rain_bands.getInfo())\n",
        "print(rain_bands.bandNames().getInfo())\n",
        "\n",
        "names_from = rain_bands.bandNames().getInfo()\n",
        "names_to = [\"{year}\".format(year=i) for i in range(start_year, end_year + 1)]\n",
        "\n",
        "rain_bands = rain_bands.select(names_from).rename(names_to)\n",
        "print(rain_bands.bandNames().getInfo())\n",
        "print(rain_bands.getInfo())"
      ],
      "metadata": {
        "colab": {
          "base_uri": "https://localhost:8080/"
        },
        "id": "wyD1iLBsPa6N",
        "outputId": "d0a57e92-67ee-43c3-ed2b-dfa62838cc1f"
      },
      "execution_count": 6,
      "outputs": [
        {
          "output_type": "stream",
          "name": "stdout",
          "text": [
            "{'type': 'ImageCollection', 'bands': [], 'features': [{'type': 'Image', 'bands': [{'id': 'precipitation', 'data_type': {'type': 'PixelType', 'precision': 'double'}, 'crs': 'EPSG:4326', 'crs_transform': [1, 0, 0, 0, 1, 0]}], 'properties': {'system:index': '0'}}, {'type': 'Image', 'bands': [{'id': 'precipitation', 'data_type': {'type': 'PixelType', 'precision': 'double'}, 'crs': 'EPSG:4326', 'crs_transform': [1, 0, 0, 0, 1, 0]}], 'properties': {'system:index': '1'}}, {'type': 'Image', 'bands': [{'id': 'precipitation', 'data_type': {'type': 'PixelType', 'precision': 'double'}, 'crs': 'EPSG:4326', 'crs_transform': [1, 0, 0, 0, 1, 0]}], 'properties': {'system:index': '2'}}, {'type': 'Image', 'bands': [{'id': 'precipitation', 'data_type': {'type': 'PixelType', 'precision': 'double'}, 'crs': 'EPSG:4326', 'crs_transform': [1, 0, 0, 0, 1, 0]}], 'properties': {'system:index': '3'}}, {'type': 'Image', 'bands': [{'id': 'precipitation', 'data_type': {'type': 'PixelType', 'precision': 'double'}, 'crs': 'EPSG:4326', 'crs_transform': [1, 0, 0, 0, 1, 0]}], 'properties': {'system:index': '4'}}, {'type': 'Image', 'bands': [{'id': 'precipitation', 'data_type': {'type': 'PixelType', 'precision': 'double'}, 'crs': 'EPSG:4326', 'crs_transform': [1, 0, 0, 0, 1, 0]}], 'properties': {'system:index': '5'}}, {'type': 'Image', 'bands': [{'id': 'precipitation', 'data_type': {'type': 'PixelType', 'precision': 'double'}, 'crs': 'EPSG:4326', 'crs_transform': [1, 0, 0, 0, 1, 0]}], 'properties': {'system:index': '6'}}, {'type': 'Image', 'bands': [{'id': 'precipitation', 'data_type': {'type': 'PixelType', 'precision': 'double'}, 'crs': 'EPSG:4326', 'crs_transform': [1, 0, 0, 0, 1, 0]}], 'properties': {'system:index': '7'}}, {'type': 'Image', 'bands': [{'id': 'precipitation', 'data_type': {'type': 'PixelType', 'precision': 'double'}, 'crs': 'EPSG:4326', 'crs_transform': [1, 0, 0, 0, 1, 0]}], 'properties': {'system:index': '8'}}, {'type': 'Image', 'bands': [{'id': 'precipitation', 'data_type': {'type': 'PixelType', 'precision': 'double'}, 'crs': 'EPSG:4326', 'crs_transform': [1, 0, 0, 0, 1, 0]}], 'properties': {'system:index': '9'}}, {'type': 'Image', 'bands': [{'id': 'precipitation', 'data_type': {'type': 'PixelType', 'precision': 'double'}, 'crs': 'EPSG:4326', 'crs_transform': [1, 0, 0, 0, 1, 0]}], 'properties': {'system:index': '10'}}]}\n",
            "{'type': 'Image', 'bands': [{'id': '0_precipitation', 'data_type': {'type': 'PixelType', 'precision': 'double'}, 'crs': 'EPSG:4326', 'crs_transform': [1, 0, 0, 0, 1, 0]}, {'id': '1_precipitation', 'data_type': {'type': 'PixelType', 'precision': 'double'}, 'crs': 'EPSG:4326', 'crs_transform': [1, 0, 0, 0, 1, 0]}, {'id': '2_precipitation', 'data_type': {'type': 'PixelType', 'precision': 'double'}, 'crs': 'EPSG:4326', 'crs_transform': [1, 0, 0, 0, 1, 0]}, {'id': '3_precipitation', 'data_type': {'type': 'PixelType', 'precision': 'double'}, 'crs': 'EPSG:4326', 'crs_transform': [1, 0, 0, 0, 1, 0]}, {'id': '4_precipitation', 'data_type': {'type': 'PixelType', 'precision': 'double'}, 'crs': 'EPSG:4326', 'crs_transform': [1, 0, 0, 0, 1, 0]}, {'id': '5_precipitation', 'data_type': {'type': 'PixelType', 'precision': 'double'}, 'crs': 'EPSG:4326', 'crs_transform': [1, 0, 0, 0, 1, 0]}, {'id': '6_precipitation', 'data_type': {'type': 'PixelType', 'precision': 'double'}, 'crs': 'EPSG:4326', 'crs_transform': [1, 0, 0, 0, 1, 0]}, {'id': '7_precipitation', 'data_type': {'type': 'PixelType', 'precision': 'double'}, 'crs': 'EPSG:4326', 'crs_transform': [1, 0, 0, 0, 1, 0]}, {'id': '8_precipitation', 'data_type': {'type': 'PixelType', 'precision': 'double'}, 'crs': 'EPSG:4326', 'crs_transform': [1, 0, 0, 0, 1, 0]}, {'id': '9_precipitation', 'data_type': {'type': 'PixelType', 'precision': 'double'}, 'crs': 'EPSG:4326', 'crs_transform': [1, 0, 0, 0, 1, 0]}, {'id': '10_precipitation', 'data_type': {'type': 'PixelType', 'precision': 'double'}, 'crs': 'EPSG:4326', 'crs_transform': [1, 0, 0, 0, 1, 0]}]}\n",
            "['0_precipitation', '1_precipitation', '2_precipitation', '3_precipitation', '4_precipitation', '5_precipitation', '6_precipitation', '7_precipitation', '8_precipitation', '9_precipitation', '10_precipitation']\n",
            "['2012', '2013', '2014', '2015', '2016', '2017', '2018', '2019', '2020', '2021', '2022']\n",
            "{'type': 'Image', 'bands': [{'id': '2012', 'data_type': {'type': 'PixelType', 'precision': 'double'}, 'crs': 'EPSG:4326', 'crs_transform': [1, 0, 0, 0, 1, 0]}, {'id': '2013', 'data_type': {'type': 'PixelType', 'precision': 'double'}, 'crs': 'EPSG:4326', 'crs_transform': [1, 0, 0, 0, 1, 0]}, {'id': '2014', 'data_type': {'type': 'PixelType', 'precision': 'double'}, 'crs': 'EPSG:4326', 'crs_transform': [1, 0, 0, 0, 1, 0]}, {'id': '2015', 'data_type': {'type': 'PixelType', 'precision': 'double'}, 'crs': 'EPSG:4326', 'crs_transform': [1, 0, 0, 0, 1, 0]}, {'id': '2016', 'data_type': {'type': 'PixelType', 'precision': 'double'}, 'crs': 'EPSG:4326', 'crs_transform': [1, 0, 0, 0, 1, 0]}, {'id': '2017', 'data_type': {'type': 'PixelType', 'precision': 'double'}, 'crs': 'EPSG:4326', 'crs_transform': [1, 0, 0, 0, 1, 0]}, {'id': '2018', 'data_type': {'type': 'PixelType', 'precision': 'double'}, 'crs': 'EPSG:4326', 'crs_transform': [1, 0, 0, 0, 1, 0]}, {'id': '2019', 'data_type': {'type': 'PixelType', 'precision': 'double'}, 'crs': 'EPSG:4326', 'crs_transform': [1, 0, 0, 0, 1, 0]}, {'id': '2020', 'data_type': {'type': 'PixelType', 'precision': 'double'}, 'crs': 'EPSG:4326', 'crs_transform': [1, 0, 0, 0, 1, 0]}, {'id': '2021', 'data_type': {'type': 'PixelType', 'precision': 'double'}, 'crs': 'EPSG:4326', 'crs_transform': [1, 0, 0, 0, 1, 0]}, {'id': '2022', 'data_type': {'type': 'PixelType', 'precision': 'double'}, 'crs': 'EPSG:4326', 'crs_transform': [1, 0, 0, 0, 1, 0]}]}\n"
          ]
        }
      ]
    },
    {
      "cell_type": "markdown",
      "source": [
        "## Export data - annual sum"
      ],
      "metadata": {
        "id": "TN3VUkw_YuYr"
      }
    },
    {
      "cell_type": "code",
      "source": [
        "# Get the list of band names\n",
        "band_names = rain_bands.bandNames().getInfo()\n",
        "\n",
        "# Loop through the bands and export each one as a separate image\n",
        "for i in band_names:\n",
        "    # Select the band\n",
        "    band = rain_bands.select(i)\n",
        "    output_name = f\"{layer_name}_sum_{aoi_name}_{i}\"\n",
        "    # Define the export parameters\n",
        "    export_params = {\n",
        "        \"image\": band,\n",
        "        \"description\": \"EXPORT IMAGE TO DRIVE\",\n",
        "        \"folder\": \"GEE_exports\",\n",
        "        \"fileNamePrefix\": output_name,\n",
        "        \"scale\": 500,\n",
        "        \"maxPixels\": 1e13,\n",
        "        \"fileFormat\": \"GeoTIFF\",\n",
        "        \"region\": aoi.geometry().bounds()\n",
        "    }\n",
        "\n",
        "    # Export the image to Google Drive\n",
        "    task = ee.batch.Export.image.toDrive(**export_params)\n",
        "    task.start()\n",
        "    print(\"STARTED TASK \", i)"
      ],
      "metadata": {
        "colab": {
          "base_uri": "https://localhost:8080/"
        },
        "id": "fnAoC5ZXYx8_",
        "outputId": "e3f6e065-064a-40c2-d097-177349af9902"
      },
      "execution_count": 7,
      "outputs": [
        {
          "output_type": "stream",
          "name": "stdout",
          "text": [
            "STARTED TASK  2012\n",
            "STARTED TASK  2013\n",
            "STARTED TASK  2014\n",
            "STARTED TASK  2015\n",
            "STARTED TASK  2016\n",
            "STARTED TASK  2017\n",
            "STARTED TASK  2018\n",
            "STARTED TASK  2019\n",
            "STARTED TASK  2020\n",
            "STARTED TASK  2021\n",
            "STARTED TASK  2022\n"
          ]
        }
      ]
    },
    {
      "cell_type": "markdown",
      "source": [
        "## Check task status\n",
        "\n",
        "[List](https://developers.google.com/earth-engine/guides/processing_environments#list-of-task-states) of task status messages (state field)\n"
      ],
      "metadata": {
        "id": "JTou0uwZf07f"
      }
    },
    {
      "cell_type": "code",
      "source": [
        "tasks = ee.batch.Task.list()\n",
        "for task in tasks[0:ee.List.length(year_list).getInfo()]:\n",
        "  task_id = task.status()['id']\n",
        "  task_state = task.status()['state']\n",
        "  print(task_id, task_state)"
      ],
      "metadata": {
        "id": "pW1XtRbvszlI",
        "colab": {
          "base_uri": "https://localhost:8080/"
        },
        "outputId": "1275498d-d864-440a-9b91-cc9f485bb41e"
      },
      "execution_count": 8,
      "outputs": [
        {
          "output_type": "stream",
          "name": "stdout",
          "text": [
            "C3256DBCPMA7FAQ2W7BXKFOF READY\n",
            "GRIMYQ3T245Q3LWPYEXBYXFL READY\n",
            "DTLN3U3EDSWXUNGADHTI6ZA3 READY\n",
            "7AIKD2EYEJ4TQVMLNOVWGOPC READY\n",
            "5C7NJJV77S44AWTDPLI52L2I READY\n",
            "IWHNYTWAZMRZIHVSYKBPNZAV READY\n",
            "S47Z62666JDJ3SNYJ55VKLB3 READY\n",
            "RG7JYDZ3BIZECXKW2FOPJUA4 RUNNING\n",
            "J6K56F4JD2VY5MBEFUSYF6QN RUNNING\n",
            "4AA7KQ3JTGUPPQDSIT2ZOD55 RUNNING\n",
            "2J5LPVXPTMSVIHNJ4IN6X7KE RUNNING\n"
          ]
        }
      ]
    }
  ]
}
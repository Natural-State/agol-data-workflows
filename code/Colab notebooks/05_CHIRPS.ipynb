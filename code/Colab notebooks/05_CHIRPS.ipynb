{
  "nbformat": 4,
  "nbformat_minor": 0,
  "metadata": {
    "colab": {
      "provenance": [],
      "toc_visible": true,
      "mount_file_id": "1JK2Bt52NRaE_oWYNyouZQQwZyniBWvpk",
      "authorship_tag": "ABX9TyM05XTBH7Qln88BntzwF8A3",
      "include_colab_link": true
    },
    "kernelspec": {
      "name": "python3",
      "display_name": "Python 3"
    },
    "language_info": {
      "name": "python"
    }
  },
  "cells": [
    {
      "cell_type": "markdown",
      "metadata": {
        "id": "view-in-github",
        "colab_type": "text"
      },
      "source": [
        "<a href=\"https://colab.research.google.com/github/Natural-State/agol-data-workflows/blob/master/code/Colab%20notebooks/05_CHIRPS.ipynb\" target=\"_parent\"><img src=\"https://colab.research.google.com/assets/colab-badge.svg\" alt=\"Open In Colab\"/></a>"
      ]
    },
    {
      "cell_type": "markdown",
      "source": [
        "# Extract monthly rainfall data"
      ],
      "metadata": {
        "id": "dJXp2XHuX66D"
      }
    },
    {
      "cell_type": "markdown",
      "source": [
        "## Import gee and authenticate"
      ],
      "metadata": {
        "id": "7yUMLQBfYG9B"
      }
    },
    {
      "cell_type": "code",
      "source": [
        "import ee"
      ],
      "metadata": {
        "id": "sPyB17KKeLUM"
      },
      "execution_count": null,
      "outputs": []
    },
    {
      "cell_type": "code",
      "execution_count": null,
      "metadata": {
        "id": "sOoUxFdhSmti"
      },
      "outputs": [],
      "source": [
        "# Trigger the authentication flow.\n",
        "ee.Authenticate()\n",
        "\n",
        "# Initialize the library.\n",
        "ee.Initialize()"
      ]
    },
    {
      "cell_type": "markdown",
      "source": [
        "## Input arguments for data extraction"
      ],
      "metadata": {
        "id": "0zGM4Zvf_Gal"
      }
    },
    {
      "cell_type": "code",
      "source": [
        "# Area of interest\n",
        "# aoi = ee.FeatureCollection(\"projects/ns-agol-rs-data/assets/MKR_NS_buff_5km\")\n",
        "# aoi_name = \"MKR_NS_buff_5km\"\n",
        "\n",
        "aoi = ee.FeatureCollection(\"projects/ns-agol-rs-data/assets/MKR\")\n",
        "aoi_name = \"MKR\"\n",
        "\n",
        "# GEE layer ID\n",
        "layer_name = \"RS_012\"\n",
        "\n",
        "# Date parameters\n",
        "start_year = 2012\n",
        "end_year = 2022\n",
        "\n",
        "# Range doesn't include the stop value\n",
        "year_list = ee.List(list(range(start_year, end_year+1)))"
      ],
      "metadata": {
        "id": "HJpF8Lo0_PD1"
      },
      "execution_count": null,
      "outputs": []
    },
    {
      "cell_type": "markdown",
      "source": [
        "## CHIRPS Daily: Climate Hazards Group InfraRed Precipitation With Station Data (Version 2.0 Final)\n",
        "\n",
        "Spatial resolution is 5km so not sure if Matt is going to find this uesful - check first.\n"
      ],
      "metadata": {
        "id": "k7gU47wyao17"
      }
    },
    {
      "cell_type": "code",
      "source": [
        "chirps = ee.ImageCollection(\"UCSB-CHG/CHIRPS/DAILY\")"
      ],
      "metadata": {
        "id": "moid-7byasZq"
      },
      "execution_count": null,
      "outputs": []
    },
    {
      "cell_type": "markdown",
      "source": [
        "## Rainfall processing - annual sum"
      ],
      "metadata": {
        "id": "hGODCVtJPSrm"
      }
    },
    {
      "cell_type": "code",
      "source": [
        "chirps = ee.ImageCollection(\"UCSB-CHG/CHIRPS/DAILY\")\n",
        "years = ee.List.sequence(start_year, end_year)\n",
        "\n",
        "def yearly_rain(focal_year):\n",
        "  start = ee.Date.fromYMD(focal_year, 1, 1)\n",
        "  end = ee.Date.fromYMD(focal_year, 12, 31)\n",
        "  date_range = ee.DateRange(start, end)\n",
        "  return chirps \\\n",
        "        .filterDate(date_range) \\\n",
        "        .sum() \\\n",
        "        .clip(aoi)\n",
        "\n",
        "rain_years = ee.ImageCollection.fromImages(years.map(yearly_rain).flatten())\n",
        "print(rain_years.getInfo())\n",
        "rain_bands = rain_years.toBands()\n",
        "print(rain_bands.getInfo())\n",
        "print(rain_bands.bandNames().getInfo())\n",
        "\n",
        "names_from = rain_bands.bandNames().getInfo()\n",
        "names_to = [\"{year}\".format(year=i) for i in range(start_year, end_year + 1)]\n",
        "\n",
        "rain_bands = rain_bands.select(names_from).rename(names_to)\n",
        "print(rain_bands.bandNames().getInfo())\n",
        "print(rain_bands.getInfo())"
      ],
      "metadata": {
        "id": "wyD1iLBsPa6N"
      },
      "execution_count": null,
      "outputs": []
    },
    {
      "cell_type": "markdown",
      "source": [
        "## Export data - annual sum"
      ],
      "metadata": {
        "id": "TN3VUkw_YuYr"
      }
    },
    {
      "cell_type": "code",
      "source": [
        "# Get the list of band names\n",
        "band_names = rain_bands.bandNames().getInfo()\n",
        "\n",
        "# Loop through the bands and export each one as a separate image\n",
        "for i in band_names:\n",
        "    # Select the band\n",
        "    band = rain_bands.select(i)\n",
        "    output_name = f\"{layer_name}_sum_{aoi_name}_{i}\"\n",
        "    # Define the export parameters\n",
        "    export_params = {\n",
        "        \"image\": band,\n",
        "        \"description\": \"EXPORT IMAGE TO DRIVE\",\n",
        "        \"folder\": \"GEE_exports\",\n",
        "        \"fileNamePrefix\": output_name,\n",
        "        \"scale\": 500,\n",
        "        \"maxPixels\": 1e13,\n",
        "        \"fileFormat\": \"GeoTIFF\",\n",
        "        \"region\": aoi.geometry().bounds(),\n",
        "        \"crs\": \"EPSG:4326\"\n",
        "    }\n",
        "\n",
        "    # Export the image to Google Drive\n",
        "    task = ee.batch.Export.image.toDrive(**export_params)\n",
        "    task.start()\n",
        "    print(\"STARTED TASK \", i)"
      ],
      "metadata": {
        "id": "fnAoC5ZXYx8_"
      },
      "execution_count": null,
      "outputs": []
    },
    {
      "cell_type": "markdown",
      "source": [
        "## Check task status\n",
        "\n",
        "[List](https://developers.google.com/earth-engine/guides/processing_environments#list-of-task-states) of task status messages (state field)\n"
      ],
      "metadata": {
        "id": "JTou0uwZf07f"
      }
    },
    {
      "cell_type": "code",
      "source": [
        "tasks = ee.batch.Task.list()\n",
        "for task in tasks[0:ee.List.length(year_list).getInfo()]:\n",
        "  task_id = task.status()['id']\n",
        "  task_state = task.status()['state']\n",
        "  print(task_id, task_state)"
      ],
      "metadata": {
        "id": "pW1XtRbvszlI"
      },
      "execution_count": null,
      "outputs": []
    }
  ]
}
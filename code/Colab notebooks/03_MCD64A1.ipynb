{
  "nbformat": 4,
  "nbformat_minor": 0,
  "metadata": {
    "colab": {
      "provenance": [],
      "toc_visible": true,
      "mount_file_id": "1JK2Bt52NRaE_oWYNyouZQQwZyniBWvpk",
      "authorship_tag": "ABX9TyMXfRH2X9oBp56rsg3Y25qt",
      "include_colab_link": true
    },
    "kernelspec": {
      "name": "python3",
      "display_name": "Python 3"
    },
    "language_info": {
      "name": "python"
    }
  },
  "cells": [
    {
      "cell_type": "markdown",
      "metadata": {
        "id": "view-in-github",
        "colab_type": "text"
      },
      "source": [
        "<a href=\"https://colab.research.google.com/github/Natural-State/agol-data-workflows/blob/master/code/Colab%20notebooks/03_MCD64A1.ipynb\" target=\"_parent\"><img src=\"https://colab.research.google.com/assets/colab-badge.svg\" alt=\"Open In Colab\"/></a>"
      ]
    },
    {
      "cell_type": "markdown",
      "source": [
        "# Extract date of fire burn per 500m pixel"
      ],
      "metadata": {
        "id": "dJXp2XHuX66D"
      }
    },
    {
      "cell_type": "markdown",
      "source": [
        "## Import gee and authenticate"
      ],
      "metadata": {
        "id": "7yUMLQBfYG9B"
      }
    },
    {
      "cell_type": "code",
      "source": [
        "import ee"
      ],
      "metadata": {
        "id": "sPyB17KKeLUM"
      },
      "execution_count": null,
      "outputs": []
    },
    {
      "cell_type": "code",
      "execution_count": null,
      "metadata": {
        "id": "sOoUxFdhSmti",
        "colab": {
          "base_uri": "https://localhost:8080/"
        },
        "outputId": "afc1581d-ab51-49f2-fa4f-015d00627b25"
      },
      "outputs": [
        {
          "output_type": "stream",
          "name": "stdout",
          "text": [
            "To authorize access needed by Earth Engine, open the following URL in a web browser and follow the instructions. If the web browser does not start automatically, please manually browse the URL below.\n",
            "\n",
            "    https://code.earthengine.google.com/client-auth?scopes=https%3A//www.googleapis.com/auth/earthengine%20https%3A//www.googleapis.com/auth/devstorage.full_control&request_id=1W1wrihTrfYrM82Om331n4IiYY3JDmQoX1XS156XzWk&tc=jpA5N8_mfJn_YKz-7mS0Gp965pnt7g9kiKuoJEYA2g4&cc=wY9lUAdc7al1l20yPE3pYfyFrx1ACOEMVZvNst9cZls\n",
            "\n",
            "The authorization workflow will generate a code, which you should paste in the box below.\n",
            "Enter verification code: 4/1AWtgzh4ZXIhh0ZtuKb-sJYswpszenUkV7iU0flIZUhaD7KoEndbXPDD6KFY\n",
            "\n",
            "Successfully saved authorization token.\n"
          ]
        }
      ],
      "source": [
        "# Trigger the authentication flow.\n",
        "ee.Authenticate()\n",
        "\n",
        "# Initialize the library.\n",
        "ee.Initialize()"
      ]
    },
    {
      "cell_type": "markdown",
      "source": [
        "## Input arguments for data extraction"
      ],
      "metadata": {
        "id": "0zGM4Zvf_Gal"
      }
    },
    {
      "cell_type": "code",
      "source": [
        "# Area of interest\n",
        "aoi = ee.FeatureCollection(\"projects/ns-agol-rs-data/assets/MKR_NS_buff_5km\")\n",
        "aoi_name = \"MKR_NS_buff_5km\"\n",
        "\n",
        "# Layer\n",
        "band_layer = \"BurnDate\"\n",
        "\n",
        "# GEE layer ID\n",
        "layer_name = \"RS_004\"\n",
        "\n",
        "# Doesn't make sense to have reducer (just need to extract the max value for each year)\n",
        "\n",
        "# Date parameters\n",
        "start_year = 2012\n",
        "end_year = 2022\n",
        "\n",
        "# Range doesn't include the stop value\n",
        "year_list = ee.List(list(range(start_year, end_year+1)))"
      ],
      "metadata": {
        "id": "HJpF8Lo0_PD1"
      },
      "execution_count": null,
      "outputs": []
    },
    {
      "cell_type": "markdown",
      "source": [
        "## Import MCD64A1.061 MODIS Burned Area Monthly Global 500m\n",
        "\n"
      ],
      "metadata": {
        "id": "k7gU47wyao17"
      }
    },
    {
      "cell_type": "code",
      "source": [
        "modis = ee.ImageCollection(\"MODIS/061/MCD64A1\")"
      ],
      "metadata": {
        "id": "moid-7byasZq"
      },
      "execution_count": null,
      "outputs": []
    },
    {
      "cell_type": "markdown",
      "source": [
        "## Burn date processing"
      ],
      "metadata": {
        "id": "MF4OJJGka6Kd"
      }
    },
    {
      "cell_type": "code",
      "source": [
        "reducer_list = ee.Reducer.max()\n",
        "\n",
        "def annualImage(year_date):\n",
        "  start = ee.Date.fromYMD(year_date, 1, 1)\n",
        "  end = ee.Date.fromYMD(year_date, 12, 31)\n",
        "  date_range = ee.DateRange(start, end)\n",
        "  name = start.format('YYYY_MM').cat('_to_').cat(end.format('YYYY_MM'))\n",
        "  return modis \\\n",
        "        .filterDate(date_range) \\\n",
        "        .select(band_layer) \\\n",
        "        .reduce(reducer = reducer_list) \\\n",
        "        .clip(aoi) \\\n",
        "        .set({'name': name})\n",
        "\n",
        "annual_image = year_list.map(annualImage)\n",
        "\n",
        "## Check an element of list\n",
        "year_mosaic  = ee.Image(annual_image.get(2))\n",
        "label = ee.String(year_mosaic.get('name')).getInfo()\n",
        "print(label)\n",
        "print(year_mosaic.getInfo())"
      ],
      "metadata": {
        "id": "ceDuT-aqRdWd",
        "colab": {
          "base_uri": "https://localhost:8080/"
        },
        "outputId": "0eb0dc1b-5aca-4d3d-b74b-3250d7f4a954"
      },
      "execution_count": null,
      "outputs": [
        {
          "output_type": "stream",
          "name": "stdout",
          "text": [
            "2014_01_to_2014_12\n",
            "{'type': 'Image', 'bands': [{'id': 'BurnDate_max', 'data_type': {'type': 'PixelType', 'precision': 'int', 'min': -32768, 'max': 32767}, 'crs': 'EPSG:4326', 'crs_transform': [1, 0, 0, 0, 1, 0]}], 'properties': {'name': '2014_01_to_2014_12'}}\n"
          ]
        }
      ]
    },
    {
      "cell_type": "markdown",
      "source": [
        "## Mapping images\n",
        "\n",
        "SEE \"GEE reducer tutorial\" to define map at the begining so that can map layers in line with minimal code "
      ],
      "metadata": {
        "id": "rjs-6uszlxX4"
      }
    },
    {
      "cell_type": "code",
      "source": [
        "# Import the Folium library.\n",
        "import folium\n",
        "\n",
        "# Define a method for displaying Earth Engine image tiles to folium map.\n",
        "def add_ee_layer(self, ee_image_object, vis_params, name):\n",
        "  map_id_dict = ee.Image(ee_image_object).getMapId(vis_params)\n",
        "  folium.raster_layers.TileLayer(\n",
        "    tiles = map_id_dict['tile_fetcher'].url_format,\n",
        "    attr = 'Map Data &copy; <a href=\"https://earthengine.google.com/\">Google Earth Engine</a>',\n",
        "    name = name,\n",
        "    overlay = True,\n",
        "    control = True\n",
        "  ).add_to(self)\n",
        "\n",
        " # Add EE drawing method to folium.\n",
        "folium.Map.add_ee_layer = add_ee_layer\n",
        "\n",
        "# Set visualization parameters.\n",
        "vis_params = {\n",
        "  'min': 10,\n",
        "  'max': 350,\n",
        "  'palette': ['4e0400', '951003', 'c61503', 'ff1901']\n",
        "  }\n",
        "\n",
        "# Create a folium map object.\n",
        "my_map = folium.Map(location=[0.1591, 37.3729], zoom_start=12)\n",
        "\n",
        "# Add layers\n",
        "for i in range(ee.List.length(annual_image).getInfo()):\n",
        "  print(i)\n",
        "  year_mosaic = ee.Image(annual_image.get(i))\n",
        "  label = ee.String(year_mosaic.get('name')).getInfo()\n",
        "  my_map.add_ee_layer(year_mosaic, vis_params, label)\n",
        "\n",
        "# Add a layer control panel to the map.\n",
        "my_map.add_child(folium.LayerControl())\n",
        "\n",
        "# Display the map.\n",
        "display(my_map)"
      ],
      "metadata": {
        "id": "R4j3Z14yl2bC",
        "colab": {
          "base_uri": "https://localhost:8080/",
          "height": 876
        },
        "outputId": "5f711f90-0826-43c4-812d-fb5b6151ae4b"
      },
      "execution_count": null,
      "outputs": [
        {
          "output_type": "stream",
          "name": "stdout",
          "text": [
            "0\n",
            "1\n",
            "2\n",
            "3\n",
            "4\n",
            "5\n",
            "6\n",
            "7\n",
            "8\n",
            "9\n",
            "10\n"
          ]
        },
        {
          "output_type": "display_data",
          "data": {
            "text/plain": [
              "<folium.folium.Map at 0x7fd9365b5fa0>"
            ],
            "text/html": [
              "<div style=\"width:100%;\"><div style=\"position:relative;width:100%;height:0;padding-bottom:60%;\"><span style=\"color:#565656\">Make this Notebook Trusted to load map: File -> Trust Notebook</span><iframe srcdoc=\"&lt;!DOCTYPE html&gt;\n",
              "&lt;html&gt;\n",
              "&lt;head&gt;\n",
              "    \n",
              "    &lt;meta http-equiv=&quot;content-type&quot; content=&quot;text/html; charset=UTF-8&quot; /&gt;\n",
              "    \n",
              "        &lt;script&gt;\n",
              "            L_NO_TOUCH = false;\n",
              "            L_DISABLE_3D = false;\n",
              "        &lt;/script&gt;\n",
              "    \n",
              "    &lt;style&gt;html, body {width: 100%;height: 100%;margin: 0;padding: 0;}&lt;/style&gt;\n",
              "    &lt;style&gt;#map {position:absolute;top:0;bottom:0;right:0;left:0;}&lt;/style&gt;\n",
              "    &lt;script src=&quot;https://cdn.jsdelivr.net/npm/leaflet@1.6.0/dist/leaflet.js&quot;&gt;&lt;/script&gt;\n",
              "    &lt;script src=&quot;https://code.jquery.com/jquery-1.12.4.min.js&quot;&gt;&lt;/script&gt;\n",
              "    &lt;script src=&quot;https://maxcdn.bootstrapcdn.com/bootstrap/3.2.0/js/bootstrap.min.js&quot;&gt;&lt;/script&gt;\n",
              "    &lt;script src=&quot;https://cdnjs.cloudflare.com/ajax/libs/Leaflet.awesome-markers/2.0.2/leaflet.awesome-markers.js&quot;&gt;&lt;/script&gt;\n",
              "    &lt;link rel=&quot;stylesheet&quot; href=&quot;https://cdn.jsdelivr.net/npm/leaflet@1.6.0/dist/leaflet.css&quot;/&gt;\n",
              "    &lt;link rel=&quot;stylesheet&quot; href=&quot;https://maxcdn.bootstrapcdn.com/bootstrap/3.2.0/css/bootstrap.min.css&quot;/&gt;\n",
              "    &lt;link rel=&quot;stylesheet&quot; href=&quot;https://maxcdn.bootstrapcdn.com/bootstrap/3.2.0/css/bootstrap-theme.min.css&quot;/&gt;\n",
              "    &lt;link rel=&quot;stylesheet&quot; href=&quot;https://maxcdn.bootstrapcdn.com/font-awesome/4.6.3/css/font-awesome.min.css&quot;/&gt;\n",
              "    &lt;link rel=&quot;stylesheet&quot; href=&quot;https://cdnjs.cloudflare.com/ajax/libs/Leaflet.awesome-markers/2.0.2/leaflet.awesome-markers.css&quot;/&gt;\n",
              "    &lt;link rel=&quot;stylesheet&quot; href=&quot;https://cdn.jsdelivr.net/gh/python-visualization/folium/folium/templates/leaflet.awesome.rotate.min.css&quot;/&gt;\n",
              "    \n",
              "            &lt;meta name=&quot;viewport&quot; content=&quot;width=device-width,\n",
              "                initial-scale=1.0, maximum-scale=1.0, user-scalable=no&quot; /&gt;\n",
              "            &lt;style&gt;\n",
              "                #map_aaceadb054be13f6f741234587da5518 {\n",
              "                    position: relative;\n",
              "                    width: 100.0%;\n",
              "                    height: 100.0%;\n",
              "                    left: 0.0%;\n",
              "                    top: 0.0%;\n",
              "                }\n",
              "            &lt;/style&gt;\n",
              "        \n",
              "&lt;/head&gt;\n",
              "&lt;body&gt;\n",
              "    \n",
              "    \n",
              "            &lt;div class=&quot;folium-map&quot; id=&quot;map_aaceadb054be13f6f741234587da5518&quot; &gt;&lt;/div&gt;\n",
              "        \n",
              "&lt;/body&gt;\n",
              "&lt;script&gt;\n",
              "    \n",
              "    \n",
              "            var map_aaceadb054be13f6f741234587da5518 = L.map(\n",
              "                &quot;map_aaceadb054be13f6f741234587da5518&quot;,\n",
              "                {\n",
              "                    center: [0.1591, 37.3729],\n",
              "                    crs: L.CRS.EPSG3857,\n",
              "                    zoom: 12,\n",
              "                    zoomControl: true,\n",
              "                    preferCanvas: false,\n",
              "                }\n",
              "            );\n",
              "\n",
              "            \n",
              "\n",
              "        \n",
              "    \n",
              "            var tile_layer_bfc34c6395cfdd535c2e9ea4ae9b75bb = L.tileLayer(\n",
              "                &quot;https://{s}.tile.openstreetmap.org/{z}/{x}/{y}.png&quot;,\n",
              "                {&quot;attribution&quot;: &quot;Data by \\u0026copy; \\u003ca href=\\&quot;http://openstreetmap.org\\&quot;\\u003eOpenStreetMap\\u003c/a\\u003e, under \\u003ca href=\\&quot;http://www.openstreetmap.org/copyright\\&quot;\\u003eODbL\\u003c/a\\u003e.&quot;, &quot;detectRetina&quot;: false, &quot;maxNativeZoom&quot;: 18, &quot;maxZoom&quot;: 18, &quot;minZoom&quot;: 0, &quot;noWrap&quot;: false, &quot;opacity&quot;: 1, &quot;subdomains&quot;: &quot;abc&quot;, &quot;tms&quot;: false}\n",
              "            ).addTo(map_aaceadb054be13f6f741234587da5518);\n",
              "        \n",
              "    \n",
              "            var tile_layer_cd96620845c719f1251ff5091c79952c = L.tileLayer(\n",
              "                &quot;https://earthengine.googleapis.com/v1alpha/projects/earthengine-legacy/maps/cfe751fb299b64ca6ea7d583b85bf10a-1983a7018fa8065f2dac7f9da43a57f3/tiles/{z}/{x}/{y}&quot;,\n",
              "                {&quot;attribution&quot;: &quot;Map Data \\u0026copy; \\u003ca href=\\&quot;https://earthengine.google.com/\\&quot;\\u003eGoogle Earth Engine\\u003c/a\\u003e&quot;, &quot;detectRetina&quot;: false, &quot;maxNativeZoom&quot;: 18, &quot;maxZoom&quot;: 18, &quot;minZoom&quot;: 0, &quot;noWrap&quot;: false, &quot;opacity&quot;: 1, &quot;subdomains&quot;: &quot;abc&quot;, &quot;tms&quot;: false}\n",
              "            ).addTo(map_aaceadb054be13f6f741234587da5518);\n",
              "        \n",
              "    \n",
              "            var tile_layer_b7607e4e4cecea9d5ba0220db4cc8aec = L.tileLayer(\n",
              "                &quot;https://earthengine.googleapis.com/v1alpha/projects/earthengine-legacy/maps/fd2b53e24eb2c1a28f9c2617aa46caa4-1c26313a00ffd98a5738d1f6fbf23faf/tiles/{z}/{x}/{y}&quot;,\n",
              "                {&quot;attribution&quot;: &quot;Map Data \\u0026copy; \\u003ca href=\\&quot;https://earthengine.google.com/\\&quot;\\u003eGoogle Earth Engine\\u003c/a\\u003e&quot;, &quot;detectRetina&quot;: false, &quot;maxNativeZoom&quot;: 18, &quot;maxZoom&quot;: 18, &quot;minZoom&quot;: 0, &quot;noWrap&quot;: false, &quot;opacity&quot;: 1, &quot;subdomains&quot;: &quot;abc&quot;, &quot;tms&quot;: false}\n",
              "            ).addTo(map_aaceadb054be13f6f741234587da5518);\n",
              "        \n",
              "    \n",
              "            var tile_layer_c89ac0a549bd7a4f65c7a3a6d263181a = L.tileLayer(\n",
              "                &quot;https://earthengine.googleapis.com/v1alpha/projects/earthengine-legacy/maps/c67a2ce34ff008c4117425eabfd978f2-0dac488bb06970dfdc987e774f1963df/tiles/{z}/{x}/{y}&quot;,\n",
              "                {&quot;attribution&quot;: &quot;Map Data \\u0026copy; \\u003ca href=\\&quot;https://earthengine.google.com/\\&quot;\\u003eGoogle Earth Engine\\u003c/a\\u003e&quot;, &quot;detectRetina&quot;: false, &quot;maxNativeZoom&quot;: 18, &quot;maxZoom&quot;: 18, &quot;minZoom&quot;: 0, &quot;noWrap&quot;: false, &quot;opacity&quot;: 1, &quot;subdomains&quot;: &quot;abc&quot;, &quot;tms&quot;: false}\n",
              "            ).addTo(map_aaceadb054be13f6f741234587da5518);\n",
              "        \n",
              "    \n",
              "            var tile_layer_99adc2ce6022e4e3c03f307263d85562 = L.tileLayer(\n",
              "                &quot;https://earthengine.googleapis.com/v1alpha/projects/earthengine-legacy/maps/200ea844fba1f6df4828443b8b5133fe-96163b2fe4ad8b019d661c4857ebdfb7/tiles/{z}/{x}/{y}&quot;,\n",
              "                {&quot;attribution&quot;: &quot;Map Data \\u0026copy; \\u003ca href=\\&quot;https://earthengine.google.com/\\&quot;\\u003eGoogle Earth Engine\\u003c/a\\u003e&quot;, &quot;detectRetina&quot;: false, &quot;maxNativeZoom&quot;: 18, &quot;maxZoom&quot;: 18, &quot;minZoom&quot;: 0, &quot;noWrap&quot;: false, &quot;opacity&quot;: 1, &quot;subdomains&quot;: &quot;abc&quot;, &quot;tms&quot;: false}\n",
              "            ).addTo(map_aaceadb054be13f6f741234587da5518);\n",
              "        \n",
              "    \n",
              "            var tile_layer_8ce0296a30f7c6e0c048f6f832179fa8 = L.tileLayer(\n",
              "                &quot;https://earthengine.googleapis.com/v1alpha/projects/earthengine-legacy/maps/62be1e76cc00a406c572dbe753e08f44-950ed41597e7dc6ea43a5125d327a6f2/tiles/{z}/{x}/{y}&quot;,\n",
              "                {&quot;attribution&quot;: &quot;Map Data \\u0026copy; \\u003ca href=\\&quot;https://earthengine.google.com/\\&quot;\\u003eGoogle Earth Engine\\u003c/a\\u003e&quot;, &quot;detectRetina&quot;: false, &quot;maxNativeZoom&quot;: 18, &quot;maxZoom&quot;: 18, &quot;minZoom&quot;: 0, &quot;noWrap&quot;: false, &quot;opacity&quot;: 1, &quot;subdomains&quot;: &quot;abc&quot;, &quot;tms&quot;: false}\n",
              "            ).addTo(map_aaceadb054be13f6f741234587da5518);\n",
              "        \n",
              "    \n",
              "            var tile_layer_b92d95c3877b726d9e3ece9befd19fd7 = L.tileLayer(\n",
              "                &quot;https://earthengine.googleapis.com/v1alpha/projects/earthengine-legacy/maps/84cd580b7299e606fa9b4ebe262425a6-d2220a0ee8402a3ab8302c137894f4a2/tiles/{z}/{x}/{y}&quot;,\n",
              "                {&quot;attribution&quot;: &quot;Map Data \\u0026copy; \\u003ca href=\\&quot;https://earthengine.google.com/\\&quot;\\u003eGoogle Earth Engine\\u003c/a\\u003e&quot;, &quot;detectRetina&quot;: false, &quot;maxNativeZoom&quot;: 18, &quot;maxZoom&quot;: 18, &quot;minZoom&quot;: 0, &quot;noWrap&quot;: false, &quot;opacity&quot;: 1, &quot;subdomains&quot;: &quot;abc&quot;, &quot;tms&quot;: false}\n",
              "            ).addTo(map_aaceadb054be13f6f741234587da5518);\n",
              "        \n",
              "    \n",
              "            var tile_layer_12e59e3f91b1cea9339e5d3d40445b04 = L.tileLayer(\n",
              "                &quot;https://earthengine.googleapis.com/v1alpha/projects/earthengine-legacy/maps/54936f9328f3c5eef519354c94ebb6c0-8a9208283cadcbe8bbdf07e3870f117c/tiles/{z}/{x}/{y}&quot;,\n",
              "                {&quot;attribution&quot;: &quot;Map Data \\u0026copy; \\u003ca href=\\&quot;https://earthengine.google.com/\\&quot;\\u003eGoogle Earth Engine\\u003c/a\\u003e&quot;, &quot;detectRetina&quot;: false, &quot;maxNativeZoom&quot;: 18, &quot;maxZoom&quot;: 18, &quot;minZoom&quot;: 0, &quot;noWrap&quot;: false, &quot;opacity&quot;: 1, &quot;subdomains&quot;: &quot;abc&quot;, &quot;tms&quot;: false}\n",
              "            ).addTo(map_aaceadb054be13f6f741234587da5518);\n",
              "        \n",
              "    \n",
              "            var tile_layer_c15656928b4464ecfb9e24b0cdb18521 = L.tileLayer(\n",
              "                &quot;https://earthengine.googleapis.com/v1alpha/projects/earthengine-legacy/maps/d872e2f220035987dcbf9b79665f2fe9-712f22f1630cc31266ab7bbd05fb8f19/tiles/{z}/{x}/{y}&quot;,\n",
              "                {&quot;attribution&quot;: &quot;Map Data \\u0026copy; \\u003ca href=\\&quot;https://earthengine.google.com/\\&quot;\\u003eGoogle Earth Engine\\u003c/a\\u003e&quot;, &quot;detectRetina&quot;: false, &quot;maxNativeZoom&quot;: 18, &quot;maxZoom&quot;: 18, &quot;minZoom&quot;: 0, &quot;noWrap&quot;: false, &quot;opacity&quot;: 1, &quot;subdomains&quot;: &quot;abc&quot;, &quot;tms&quot;: false}\n",
              "            ).addTo(map_aaceadb054be13f6f741234587da5518);\n",
              "        \n",
              "    \n",
              "            var tile_layer_34bf1a5922babd3a5c385fbe81c6e3e4 = L.tileLayer(\n",
              "                &quot;https://earthengine.googleapis.com/v1alpha/projects/earthengine-legacy/maps/fc9054d675109ab0925cb00aaf85e06a-b3a90259ce20cdac8c263e5c0a77d862/tiles/{z}/{x}/{y}&quot;,\n",
              "                {&quot;attribution&quot;: &quot;Map Data \\u0026copy; \\u003ca href=\\&quot;https://earthengine.google.com/\\&quot;\\u003eGoogle Earth Engine\\u003c/a\\u003e&quot;, &quot;detectRetina&quot;: false, &quot;maxNativeZoom&quot;: 18, &quot;maxZoom&quot;: 18, &quot;minZoom&quot;: 0, &quot;noWrap&quot;: false, &quot;opacity&quot;: 1, &quot;subdomains&quot;: &quot;abc&quot;, &quot;tms&quot;: false}\n",
              "            ).addTo(map_aaceadb054be13f6f741234587da5518);\n",
              "        \n",
              "    \n",
              "            var tile_layer_04efd1f698e76e19a98fa459f89be2df = L.tileLayer(\n",
              "                &quot;https://earthengine.googleapis.com/v1alpha/projects/earthengine-legacy/maps/080593d99ddd70d7b3414a1179c58035-ba6e07f3a947ed8f551f56ffb71e4134/tiles/{z}/{x}/{y}&quot;,\n",
              "                {&quot;attribution&quot;: &quot;Map Data \\u0026copy; \\u003ca href=\\&quot;https://earthengine.google.com/\\&quot;\\u003eGoogle Earth Engine\\u003c/a\\u003e&quot;, &quot;detectRetina&quot;: false, &quot;maxNativeZoom&quot;: 18, &quot;maxZoom&quot;: 18, &quot;minZoom&quot;: 0, &quot;noWrap&quot;: false, &quot;opacity&quot;: 1, &quot;subdomains&quot;: &quot;abc&quot;, &quot;tms&quot;: false}\n",
              "            ).addTo(map_aaceadb054be13f6f741234587da5518);\n",
              "        \n",
              "    \n",
              "            var tile_layer_5f2565050cadb8621744c997d8e124d9 = L.tileLayer(\n",
              "                &quot;https://earthengine.googleapis.com/v1alpha/projects/earthengine-legacy/maps/11a89f06c551b26b8e07441ac990074a-4b6c9f6f5079e9b3c7c0966a0f1dcc87/tiles/{z}/{x}/{y}&quot;,\n",
              "                {&quot;attribution&quot;: &quot;Map Data \\u0026copy; \\u003ca href=\\&quot;https://earthengine.google.com/\\&quot;\\u003eGoogle Earth Engine\\u003c/a\\u003e&quot;, &quot;detectRetina&quot;: false, &quot;maxNativeZoom&quot;: 18, &quot;maxZoom&quot;: 18, &quot;minZoom&quot;: 0, &quot;noWrap&quot;: false, &quot;opacity&quot;: 1, &quot;subdomains&quot;: &quot;abc&quot;, &quot;tms&quot;: false}\n",
              "            ).addTo(map_aaceadb054be13f6f741234587da5518);\n",
              "        \n",
              "    \n",
              "            var layer_control_1bcc22d61a21231219184f189dbcd0d7 = {\n",
              "                base_layers : {\n",
              "                    &quot;openstreetmap&quot; : tile_layer_bfc34c6395cfdd535c2e9ea4ae9b75bb,\n",
              "                },\n",
              "                overlays :  {\n",
              "                    &quot;2012_01_to_2012_12&quot; : tile_layer_cd96620845c719f1251ff5091c79952c,\n",
              "                    &quot;2013_01_to_2013_12&quot; : tile_layer_b7607e4e4cecea9d5ba0220db4cc8aec,\n",
              "                    &quot;2014_01_to_2014_12&quot; : tile_layer_c89ac0a549bd7a4f65c7a3a6d263181a,\n",
              "                    &quot;2015_01_to_2015_12&quot; : tile_layer_99adc2ce6022e4e3c03f307263d85562,\n",
              "                    &quot;2016_01_to_2016_12&quot; : tile_layer_8ce0296a30f7c6e0c048f6f832179fa8,\n",
              "                    &quot;2017_01_to_2017_12&quot; : tile_layer_b92d95c3877b726d9e3ece9befd19fd7,\n",
              "                    &quot;2018_01_to_2018_12&quot; : tile_layer_12e59e3f91b1cea9339e5d3d40445b04,\n",
              "                    &quot;2019_01_to_2019_12&quot; : tile_layer_c15656928b4464ecfb9e24b0cdb18521,\n",
              "                    &quot;2020_01_to_2020_12&quot; : tile_layer_34bf1a5922babd3a5c385fbe81c6e3e4,\n",
              "                    &quot;2021_01_to_2021_12&quot; : tile_layer_04efd1f698e76e19a98fa459f89be2df,\n",
              "                    &quot;2022_01_to_2022_12&quot; : tile_layer_5f2565050cadb8621744c997d8e124d9,\n",
              "                },\n",
              "            };\n",
              "            L.control.layers(\n",
              "                layer_control_1bcc22d61a21231219184f189dbcd0d7.base_layers,\n",
              "                layer_control_1bcc22d61a21231219184f189dbcd0d7.overlays,\n",
              "                {&quot;autoZIndex&quot;: true, &quot;collapsed&quot;: true, &quot;position&quot;: &quot;topright&quot;}\n",
              "            ).addTo(map_aaceadb054be13f6f741234587da5518);\n",
              "        \n",
              "&lt;/script&gt;\n",
              "&lt;/html&gt;\" style=\"position:absolute;width:100%;height:100%;left:0;top:0;border:none !important;\" allowfullscreen webkitallowfullscreen mozallowfullscreen></iframe></div></div>"
            ]
          },
          "metadata": {}
        }
      ]
    },
    {
      "cell_type": "markdown",
      "source": [
        "## Export data - create task\n",
        "\n",
        "`filenamePrefix` should be in format: place_layer_timeperiod"
      ],
      "metadata": {
        "id": "i5vQjmLxemR7"
      }
    },
    {
      "cell_type": "code",
      "source": [
        "for i in  range(ee.List.length(annual_image).getInfo()):\n",
        "  \n",
        "  output_img =  ee.Image(annual_image.get(i))\n",
        "  output_name = f\"{layer_name}_{aoi_name}_{ee.String(output_img.get('name')).getInfo()}\"\n",
        "\n",
        "  task = ee.batch.Export.image.toDrive(image = output_img,\n",
        "                                     region = aoi.geometry().bounds(),\n",
        "                                     description = \"EXPORT IMAGE TO DRIVE\",\n",
        "                                     folder = \"GEE_exports\",\n",
        "                                     fileNamePrefix = output_name,\n",
        "                                     scale = 30,\n",
        "                                     maxPixels = 10e12\n",
        "                                     )\n",
        "  task.start()\n",
        "  print(\"STARTED TASK \", i+1)"
      ],
      "metadata": {
        "id": "IGK70Xg1hdPh",
        "colab": {
          "base_uri": "https://localhost:8080/"
        },
        "outputId": "803f423b-c416-4700-a689-cb295ffb99df"
      },
      "execution_count": null,
      "outputs": [
        {
          "output_type": "stream",
          "name": "stdout",
          "text": [
            "STARTED TASK  1\n",
            "STARTED TASK  2\n",
            "STARTED TASK  3\n",
            "STARTED TASK  4\n",
            "STARTED TASK  5\n",
            "STARTED TASK  6\n",
            "STARTED TASK  7\n",
            "STARTED TASK  8\n",
            "STARTED TASK  9\n",
            "STARTED TASK  10\n",
            "STARTED TASK  11\n"
          ]
        }
      ]
    },
    {
      "cell_type": "markdown",
      "source": [
        "## Check task status\n",
        "\n",
        "[List](https://developers.google.com/earth-engine/guides/processing_environments#list-of-task-states) of task status messages (state field)\n"
      ],
      "metadata": {
        "id": "JTou0uwZf07f"
      }
    },
    {
      "cell_type": "code",
      "source": [
        "tasks = ee.batch.Task.list()\n",
        "for task in tasks[0:ee.List.length(year_list).getInfo()]:\n",
        "  task_id = task.status()['id']\n",
        "  task_state = task.status()['state']\n",
        "  print(task_id, task_state)"
      ],
      "metadata": {
        "id": "pW1XtRbvszlI",
        "colab": {
          "base_uri": "https://localhost:8080/"
        },
        "outputId": "d560c7ef-4a86-4eda-9ad1-f0c9b4fc1807"
      },
      "execution_count": null,
      "outputs": [
        {
          "output_type": "stream",
          "name": "stdout",
          "text": [
            "QSOCIEN7QFI33MVZIQEETCHJ READY\n",
            "PXF3N6PLQRBX6MINJA7D37IV READY\n",
            "QUSBFJW2NPFB7CSBNGV3VVJR READY\n",
            "KSLQ7X2LJLFQ5W46BJPOQA2W READY\n",
            "4MOE4ZBK53POELFKQ3EACICR READY\n",
            "DMP2UVWF6A7A5Z7PIID4IJ4L READY\n",
            "KUBMBC3XSSPJ5GE3I5NUPGSE RUNNING\n",
            "K3ZWHNPWIP566KZANKNTJKBM RUNNING\n",
            "RQWAH3VGVHS5B7MASYPIVQ52 RUNNING\n",
            "2XLASRDPAF5AGUPG6QU47EGK RUNNING\n",
            "AXW2MN6BIGAJUPTGJY4BPYNV RUNNING\n"
          ]
        }
      ]
    },
    {
      "cell_type": "markdown",
      "source": [
        "## Mount and unmount Google Drive\n"
      ],
      "metadata": {
        "id": "TEKiuAzDoxbj"
      }
    },
    {
      "cell_type": "code",
      "source": [
        "# Mount\n",
        "#from google.colab import drive\n",
        "\n",
        "#ROOT = '/content/drive' \n",
        "#drive.mount(ROOT, force_remount=True) \n"
      ],
      "metadata": {
        "id": "W-m1KHblpPLX"
      },
      "execution_count": null,
      "outputs": []
    },
    {
      "cell_type": "code",
      "source": [
        "# Unmount\n",
        "#drive.flush_and_unmount() "
      ],
      "metadata": {
        "id": "3XAfLgvHo5Oh"
      },
      "execution_count": null,
      "outputs": []
    }
  ]
}
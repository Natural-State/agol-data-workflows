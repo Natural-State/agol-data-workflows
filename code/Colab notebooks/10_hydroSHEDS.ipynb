{
  "nbformat": 4,
  "nbformat_minor": 0,
  "metadata": {
    "colab": {
      "provenance": [],
      "toc_visible": true,
      "mount_file_id": "1JK2Bt52NRaE_oWYNyouZQQwZyniBWvpk",
      "authorship_tag": "ABX9TyNtqWai/PzuYU4Ivw0RJU1b",
      "include_colab_link": true
    },
    "kernelspec": {
      "name": "python3",
      "display_name": "Python 3"
    },
    "language_info": {
      "name": "python"
    }
  },
  "cells": [
    {
      "cell_type": "markdown",
      "metadata": {
        "id": "view-in-github",
        "colab_type": "text"
      },
      "source": [
        "<a href=\"https://colab.research.google.com/github/Natural-State/agol-data-workflows/blob/master/code/Colab%20notebooks/10_hydroSHEDS.ipynb\" target=\"_parent\"><img src=\"https://colab.research.google.com/assets/colab-badge.svg\" alt=\"Open In Colab\"/></a>"
      ]
    },
    {
      "cell_type": "markdown",
      "source": [
        "# Extract hydroBASINS and hydroRIVERS from the hydroSHEDS product"
      ],
      "metadata": {
        "id": "dJXp2XHuX66D"
      }
    },
    {
      "cell_type": "markdown",
      "source": [
        "## Import gee and authenticate"
      ],
      "metadata": {
        "id": "7yUMLQBfYG9B"
      }
    },
    {
      "cell_type": "code",
      "source": [
        "import ee"
      ],
      "metadata": {
        "id": "sPyB17KKeLUM"
      },
      "execution_count": null,
      "outputs": []
    },
    {
      "cell_type": "code",
      "execution_count": null,
      "metadata": {
        "id": "sOoUxFdhSmti"
      },
      "outputs": [],
      "source": [
        "# Trigger the authentication flow.\n",
        "ee.Authenticate()\n",
        "\n",
        "# Initialize the library.\n",
        "ee.Initialize()"
      ]
    },
    {
      "cell_type": "markdown",
      "source": [
        "## Input arguments for data extraction"
      ],
      "metadata": {
        "id": "0zGM4Zvf_Gal"
      }
    },
    {
      "cell_type": "code",
      "source": [
        "# Area of interest\n",
        "aoi = ee.FeatureCollection(\"projects/ns-agol-rs-data/assets/LLBN\")\n",
        "aoi_name = \"LLBN\"\n",
        "\n",
        "# Basin level (3 to 12)\n",
        "basin_list = [\"03\", \"04\", \"05\", \"06\", \"07\", \"08\", \"09\", \"10\", \"11\", \"12\"]\n",
        "\n",
        "# GEE layer ID\n",
        "layer_dict = {\n",
        "  \"03\": \"RS_022\",\n",
        "  \"04\": \"RS_023\",\n",
        "  \"05\": \"RS_024\",\n",
        "  \"06\": \"RS_025\",\n",
        "  \"07\": \"RS_026\",\n",
        "  \"08\": \"RS_027\",\n",
        "  \"09\": \"RS_028\",\n",
        "  \"10\": \"RS_029\",\n",
        "  \"11\": \"RS_030\",\n",
        "  \"12\": \"RS_031\"\n",
        "}"
      ],
      "metadata": {
        "id": "HJpF8Lo0_PD1"
      },
      "execution_count": null,
      "outputs": []
    },
    {
      "cell_type": "markdown",
      "source": [
        "## Define functions and process hydroATLAS data"
      ],
      "metadata": {
        "id": "1NU94hEyiQG-"
      }
    },
    {
      "cell_type": "code",
      "source": [
        "# Function to extract basins for specific level\n",
        "def extract_basin(basin_id):\n",
        "  feat_coll_id = \"WWF/HydroATLAS/v1/Basins/level\" + basin_id\n",
        "  basin_atlas = ee.FeatureCollection(feat_coll_id).filterBounds(aoi)\n",
        "  field_list = basin_atlas.first().propertyNames().getInfo()\n",
        "  field_list = [element for element in field_list if not element.startswith(('snw', 'pnv', \"glc\"))]\n",
        "  basin_atlas = basin_atlas.select(field_list)\n",
        "  return(basin_atlas)\n"
      ],
      "metadata": {
        "id": "ocXnhNT2gDxo"
      },
      "execution_count": null,
      "outputs": []
    },
    {
      "cell_type": "code",
      "source": [
        "# Map over basin list\n",
        "basins = list(map(extract_basin, basin_list))\n",
        "\n",
        "# Check\n",
        "print(basins)\n",
        "field_names = basins[0].first().propertyNames()\n",
        "print(field_names.getInfo())"
      ],
      "metadata": {
        "id": "vsybxfnSgmiW"
      },
      "execution_count": null,
      "outputs": []
    },
    {
      "cell_type": "markdown",
      "source": [
        "## Export data"
      ],
      "metadata": {
        "id": "Y12jzY-4imvZ"
      }
    },
    {
      "cell_type": "code",
      "source": [
        "for i in range(len(basins)):\n",
        "  layer_name = layer_dict[basin_list[i]]\n",
        "  output_name = f\"{layer_name}_{aoi_name}\"\n",
        "  print(output_name)\n",
        "\n",
        "  task = ee.batch.Export.table.toDrive(\n",
        "    collection = basins[i],\n",
        "    description = \"EXPORT IMAGE TO DRIVE\",\n",
        "    fileFormat = \"SHP\",\n",
        "    fileNamePrefix = output_name,\n",
        "    folder = \"GEE_exports\"\n",
        "     )\n",
        "\n",
        "  task.start()\n",
        "  print(\"STARTED TASK \", i+1)"
      ],
      "metadata": {
        "id": "AAUnfm8Mk8rX"
      },
      "execution_count": null,
      "outputs": []
    },
    {
      "cell_type": "code",
      "source": [
        "tasks = ee.batch.Task.list()\n",
        "for task in tasks[0:len(basins)]:\n",
        "  task_id = task.status()['id']\n",
        "  task_state = task.status()['state']\n",
        "  print(task_id, task_state)"
      ],
      "metadata": {
        "id": "Gculv7Rjl9po"
      },
      "execution_count": null,
      "outputs": []
    }
  ]
}
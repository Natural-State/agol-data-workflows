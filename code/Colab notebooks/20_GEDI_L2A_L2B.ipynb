{
  "nbformat": 4,
  "nbformat_minor": 0,
  "metadata": {
    "colab": {
      "provenance": [],
      "toc_visible": true,
      "mount_file_id": "1JK2Bt52NRaE_oWYNyouZQQwZyniBWvpk",
      "authorship_tag": "ABX9TyPg8c9/5QG9AmV4cUBHqjNt",
      "include_colab_link": true
    },
    "kernelspec": {
      "name": "python3",
      "display_name": "Python 3"
    },
    "language_info": {
      "name": "python"
    }
  },
  "cells": [
    {
      "cell_type": "markdown",
      "metadata": {
        "id": "view-in-github",
        "colab_type": "text"
      },
      "source": [
        "<a href=\"https://colab.research.google.com/github/Natural-State/agol-data-workflows/blob/master/code/Colab%20notebooks/20_GEDI_L2A_L2B.ipynb\" target=\"_parent\"><img src=\"https://colab.research.google.com/assets/colab-badge.svg\" alt=\"Open In Colab\"/></a>"
      ]
    },
    {
      "cell_type": "markdown",
      "source": [
        "# Extract canopy metrics measure from GEDI Level 2A and 2B platform"
      ],
      "metadata": {
        "id": "dJXp2XHuX66D"
      }
    },
    {
      "cell_type": "markdown",
      "source": [
        "## Import gee and authenticate"
      ],
      "metadata": {
        "id": "7yUMLQBfYG9B"
      }
    },
    {
      "cell_type": "code",
      "source": [
        "import ee"
      ],
      "metadata": {
        "id": "sPyB17KKeLUM"
      },
      "execution_count": null,
      "outputs": []
    },
    {
      "cell_type": "code",
      "execution_count": null,
      "metadata": {
        "id": "sOoUxFdhSmti"
      },
      "outputs": [],
      "source": [
        "# Trigger the authentication flow.\n",
        "ee.Authenticate()\n",
        "\n",
        "# Initialize the library.\n",
        "ee.Initialize()"
      ]
    },
    {
      "cell_type": "markdown",
      "source": [
        "## Input arguments for data extraction"
      ],
      "metadata": {
        "id": "0zGM4Zvf_Gal"
      }
    },
    {
      "cell_type": "code",
      "source": [
        "# Area of interest\n",
        "aoi = ee.FeatureCollection(\"projects/ns-agol-rs-data/assets/MKR\")\n",
        "aoi_name = \"MKR\"\n",
        "\n",
        "\n",
        "# GEE layer ID - Level 2A\n",
        "layer_name = \"RS_063\" # rh100\n",
        "\n",
        "# GEE layer ID - Level 2B\n",
        "layer_dict = {\n",
        "    \"cover\": \"RS_064\",\n",
        "    \"pai\": \"RS_065\",\n",
        "    \"pavd_z25\": \"RS_066\"\n",
        "}\n",
        "\n"
      ],
      "metadata": {
        "id": "HJpF8Lo0_PD1"
      },
      "execution_count": null,
      "outputs": []
    },
    {
      "cell_type": "markdown",
      "source": [
        "## GEDI L2A\n",
        "\n"
      ],
      "metadata": {
        "id": "k7gU47wyao17"
      }
    },
    {
      "cell_type": "markdown",
      "source": [
        "### Process"
      ],
      "metadata": {
        "id": "Hog3FmUzUKWb"
      }
    },
    {
      "cell_type": "code",
      "source": [
        "gedi2A = ee.ImageCollection(\"LARSE/GEDI/GEDI02_A_002_MONTHLY\")\n",
        "\n",
        "def qualityMask(image):\n",
        "    return image.updateMask(image.select('quality_flag').eq(1)).updateMask(image.select('degrade_flag').eq(0))\n",
        "\n",
        "canopy_height = gedi2A \\\n",
        "             .map(qualityMask) \\\n",
        "             .select(\"rh100\") \\\n",
        "             .mean() \\\n",
        "             .clip(aoi)\n",
        "\n",
        "print(gedi2A.size().getInfo())\n",
        "print(canopy_height.getInfo())"
      ],
      "metadata": {
        "id": "moid-7byasZq"
      },
      "execution_count": null,
      "outputs": []
    },
    {
      "cell_type": "markdown",
      "source": [
        "### Export"
      ],
      "metadata": {
        "id": "RHTH02bfUPhJ"
      }
    },
    {
      "cell_type": "code",
      "source": [
        "task1 = ee.batch.Export.image.toDrive(image = canopy_height,\n",
        "                                     region = aoi.geometry(),\n",
        "                                     description = \"EXPORT IMAGE TO DRIVE\",\n",
        "                                     folder = \"GEE_exports\",\n",
        "                                     fileNamePrefix = layer_name + \"_\" + aoi_name,\n",
        "                                     scale = 25,\n",
        "                                     maxPixels = 10e12,\n",
        "                                     crs = \"EPSG:4326\"\n",
        "                                     )\n",
        "task1.start()"
      ],
      "metadata": {
        "id": "bjDThHtdURFr"
      },
      "execution_count": null,
      "outputs": []
    },
    {
      "cell_type": "code",
      "source": [
        "task_id = task1.status()['id']\n",
        "task_state = task1.status()['state']\n",
        "print(task_id, task_state)"
      ],
      "metadata": {
        "id": "nutW5bviVJS5"
      },
      "execution_count": null,
      "outputs": []
    },
    {
      "cell_type": "markdown",
      "source": [
        "## GEDI L2B"
      ],
      "metadata": {
        "id": "yE3follCVOv8"
      }
    },
    {
      "cell_type": "markdown",
      "source": [
        "### Process"
      ],
      "metadata": {
        "id": "XpnW1bctbSmt"
      }
    },
    {
      "cell_type": "code",
      "source": [
        "gedi2B = ee.ImageCollection('LARSE/GEDI/GEDI02_B_002_MONTHLY')\n",
        "\n",
        "def qualityMask(image):\n",
        "    return image.updateMask(image.select('l2b_quality_flag').eq(1)).updateMask(image.select('degrade_flag').eq(0))\n",
        "\n",
        "def gedi_image(metric):\n",
        "    return gedi2B \\\n",
        "         .map(qualityMask) \\\n",
        "         .select(metric) \\\n",
        "         .mean() \\\n",
        "         .clip(aoi) \\\n",
        "         .set({\"canopy_metric\": metric})\n",
        "\n",
        "cover = gedi_image(\"cover\")\n",
        "pai = gedi_image(\"pai\")\n",
        "pavd_z25 = gedi_image(\"pavd_z25\")\n",
        "\n",
        "print(cover.getInfo())\n",
        "print(cover.get(\"canopy_metric\").getInfo())\n",
        "\n",
        "print(pavd_z25.getInfo())\n",
        "print(pavd_z25.get(\"canopy_metric\").getInfo())"
      ],
      "metadata": {
        "id": "jG-plK_5VRZv"
      },
      "execution_count": null,
      "outputs": []
    },
    {
      "cell_type": "markdown",
      "source": [
        "### Export"
      ],
      "metadata": {
        "id": "QGd5bAfxbVa7"
      }
    },
    {
      "cell_type": "code",
      "source": [
        "output_name = f\"{layer_dict[cover.get('canopy_metric').getInfo()]}_{aoi_name}\"\n",
        "print(output_name)\n",
        "\n",
        "task2 = ee.batch.Export.image.toDrive(image = cover,\n",
        "                                     region = aoi.geometry(),\n",
        "                                     description = \"EXPORT IMAGE TO DRIVE\",\n",
        "                                     folder = \"GEE_exports\",\n",
        "                                     fileNamePrefix = output_name,\n",
        "                                     scale = 25,\n",
        "                                     maxPixels = 10e12,\n",
        "                                     crs = \"EPSG:4326\"\n",
        "                                     )\n",
        "task2.start()"
      ],
      "metadata": {
        "id": "V-7ne55LYjVF"
      },
      "execution_count": null,
      "outputs": []
    },
    {
      "cell_type": "code",
      "source": [
        "task_id = task2.status()['id']\n",
        "task_state = task2.status()['state']\n",
        "print(task_id, task_state)"
      ],
      "metadata": {
        "id": "XRHWUQMJcRQR"
      },
      "execution_count": null,
      "outputs": []
    },
    {
      "cell_type": "code",
      "source": [
        "output_name = f\"{layer_dict[pai.get('canopy_metric').getInfo()]}_{aoi_name}\"\n",
        "print(output_name)\n",
        "\n",
        "task3 = ee.batch.Export.image.toDrive(image = pai,\n",
        "                                     region = aoi.geometry(),\n",
        "                                     description = \"EXPORT IMAGE TO DRIVE\",\n",
        "                                     folder = \"GEE_exports\",\n",
        "                                     fileNamePrefix = output_name,\n",
        "                                     scale = 25,\n",
        "                                     maxPixels = 10e12,\n",
        "                                     crs = \"EPSG:4326\"\n",
        "                                     )\n",
        "task3.start()"
      ],
      "metadata": {
        "id": "d9HrbiXPZhY8"
      },
      "execution_count": null,
      "outputs": []
    },
    {
      "cell_type": "code",
      "source": [
        "output_name = f\"{layer_dict[pavd_z25.get('canopy_metric').getInfo()]}_{aoi_name}\"\n",
        "print(output_name)\n",
        "\n",
        "task4 = ee.batch.Export.image.toDrive(image = pavd_z25,\n",
        "                                     region = aoi.geometry(),\n",
        "                                     description = \"EXPORT IMAGE TO DRIVE\",\n",
        "                                     folder = \"GEE_exports\",\n",
        "                                     fileNamePrefix = output_name,\n",
        "                                     scale = 25,\n",
        "                                     maxPixels = 10e12,\n",
        "                                     crs = \"EPSG:4326\"\n",
        "                                     )\n",
        "task4.start()"
      ],
      "metadata": {
        "id": "hdo5UISsZmoX"
      },
      "execution_count": null,
      "outputs": []
    },
    {
      "cell_type": "code",
      "source": [
        "task_id = task4.status()['id']\n",
        "task_state = task4.status()['state']\n",
        "print(task_id, task_state)"
      ],
      "metadata": {
        "id": "IbLZNDvAcZZg"
      },
      "execution_count": null,
      "outputs": []
    }
  ]
}
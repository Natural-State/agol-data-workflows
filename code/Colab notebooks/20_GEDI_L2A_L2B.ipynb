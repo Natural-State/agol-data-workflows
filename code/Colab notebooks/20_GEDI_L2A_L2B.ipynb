{
  "nbformat": 4,
  "nbformat_minor": 0,
  "metadata": {
    "colab": {
      "provenance": [],
      "toc_visible": true,
      "mount_file_id": "1JK2Bt52NRaE_oWYNyouZQQwZyniBWvpk",
      "authorship_tag": "ABX9TyOW5tngo4i8N47Dxwq6ihH7",
      "include_colab_link": true
    },
    "kernelspec": {
      "name": "python3",
      "display_name": "Python 3"
    },
    "language_info": {
      "name": "python"
    }
  },
  "cells": [
    {
      "cell_type": "markdown",
      "metadata": {
        "id": "view-in-github",
        "colab_type": "text"
      },
      "source": [
        "<a href=\"https://colab.research.google.com/github/Natural-State/agol-data-workflows/blob/master/code/Colab%20notebooks/20_GEDI_L2A_L2B.ipynb\" target=\"_parent\"><img src=\"https://colab.research.google.com/assets/colab-badge.svg\" alt=\"Open In Colab\"/></a>"
      ]
    },
    {
      "cell_type": "markdown",
      "source": [
        "# Extract canopy metrics measure from GEDI Level 2A and 2B platform"
      ],
      "metadata": {
        "id": "dJXp2XHuX66D"
      }
    },
    {
      "cell_type": "markdown",
      "source": [
        "## Import gee and authenticate"
      ],
      "metadata": {
        "id": "7yUMLQBfYG9B"
      }
    },
    {
      "cell_type": "code",
      "source": [
        "import ee"
      ],
      "metadata": {
        "id": "sPyB17KKeLUM"
      },
      "execution_count": 4,
      "outputs": []
    },
    {
      "cell_type": "code",
      "execution_count": 5,
      "metadata": {
        "id": "sOoUxFdhSmti",
        "colab": {
          "base_uri": "https://localhost:8080/"
        },
        "outputId": "2a73ba18-9774-4cc5-f1f4-8130d56cf1cb"
      },
      "outputs": [
        {
          "output_type": "stream",
          "name": "stdout",
          "text": [
            "To authorize access needed by Earth Engine, open the following URL in a web browser and follow the instructions. If the web browser does not start automatically, please manually browse the URL below.\n",
            "\n",
            "    https://code.earthengine.google.com/client-auth?scopes=https%3A//www.googleapis.com/auth/earthengine%20https%3A//www.googleapis.com/auth/devstorage.full_control&request_id=eH4X_1wVt02Gp7FKR0h_vERoD0TogWy29rxaIE2Fm24&tc=Pej9bzYo-jGZD-vY3uxqnDpqpU0KU3Dbwl9l4G2iyF0&cc=ERGZBbX4KZTipUDhNtn3BeKSx_0srskdNKg9u7NzwuE\n",
            "\n",
            "The authorization workflow will generate a code, which you should paste in the box below.\n",
            "Enter verification code: 4/1AbUR2VOwAD7E_c3PoMht1jVgREbDebjgzNVF3JeWkNLj2DTiSq_odK7aejQ\n",
            "\n",
            "Successfully saved authorization token.\n"
          ]
        }
      ],
      "source": [
        "# Trigger the authentication flow.\n",
        "ee.Authenticate()\n",
        "\n",
        "# Initialize the library.\n",
        "ee.Initialize()"
      ]
    },
    {
      "cell_type": "markdown",
      "source": [
        "## Input arguments for data extraction"
      ],
      "metadata": {
        "id": "0zGM4Zvf_Gal"
      }
    },
    {
      "cell_type": "code",
      "source": [
        "# Area of interest\n",
        "aoi = ee.FeatureCollection(\"projects/ns-agol-rs-data/assets/MKR_PACE\")\n",
        "aoi_name = \"MKR_PACE\"\n",
        "\n",
        "\n",
        "# GEE layer ID - Level 2A\n",
        "layer_name = \"RS_063\" # rh100\n",
        "\n",
        "# GEE layer ID - Level 2B\n",
        "layer_dict = {\n",
        "    \"cover\": \"RS_064\",\n",
        "    \"pai\": \"RS_065\",\n",
        "    \"pavd_z25\": \"RS_066\"\n",
        "}\n",
        "\n"
      ],
      "metadata": {
        "id": "HJpF8Lo0_PD1"
      },
      "execution_count": 50,
      "outputs": []
    },
    {
      "cell_type": "markdown",
      "source": [
        "## GEDI L2A\n",
        "\n"
      ],
      "metadata": {
        "id": "k7gU47wyao17"
      }
    },
    {
      "cell_type": "markdown",
      "source": [
        "### Process"
      ],
      "metadata": {
        "id": "Hog3FmUzUKWb"
      }
    },
    {
      "cell_type": "code",
      "source": [
        "gedi2A = ee.ImageCollection(\"LARSE/GEDI/GEDI02_A_002_MONTHLY\")\n",
        "\n",
        "def qualityMask(image):\n",
        "    return image.updateMask(image.select('quality_flag').eq(1)).updateMask(image.select('degrade_flag').eq(0))\n",
        "\n",
        "canopy_height = gedi2A \\\n",
        "             .map(qualityMask) \\\n",
        "             .select(\"rh100\") \\\n",
        "             .mean() \\\n",
        "             .clip(aoi)\n",
        "\n",
        "print(gedi2A.size().getInfo())\n",
        "print(canopy_height.getInfo())"
      ],
      "metadata": {
        "id": "moid-7byasZq",
        "colab": {
          "base_uri": "https://localhost:8080/"
        },
        "outputId": "a037b795-81eb-4e77-d146-d0e0d382ede4"
      },
      "execution_count": 20,
      "outputs": [
        {
          "output_type": "stream",
          "name": "stdout",
          "text": [
            "47650\n",
            "{'type': 'Image', 'bands': [{'id': 'rh100', 'data_type': {'type': 'PixelType', 'precision': 'double'}, 'crs': 'EPSG:4326', 'crs_transform': [1, 0, 0, 0, 1, 0]}]}\n"
          ]
        }
      ]
    },
    {
      "cell_type": "markdown",
      "source": [
        "### Export"
      ],
      "metadata": {
        "id": "RHTH02bfUPhJ"
      }
    },
    {
      "cell_type": "code",
      "source": [
        "task1 = ee.batch.Export.image.toDrive(image = canopy_height,\n",
        "                                     region = aoi.geometry(),\n",
        "                                     description = \"EXPORT IMAGE TO DRIVE\",\n",
        "                                     folder = \"GEE_exports\",\n",
        "                                     fileNamePrefix = layer_name + \"_\" + aoi_name,\n",
        "                                     scale = 25,\n",
        "                                     maxPixels = 10e12\n",
        "                                     )\n",
        "task1.start()"
      ],
      "metadata": {
        "id": "bjDThHtdURFr"
      },
      "execution_count": 22,
      "outputs": []
    },
    {
      "cell_type": "code",
      "source": [
        "task_id = task1.status()['id']\n",
        "task_state = task1.status()['state']\n",
        "print(task_id, task_state)"
      ],
      "metadata": {
        "colab": {
          "base_uri": "https://localhost:8080/"
        },
        "id": "nutW5bviVJS5",
        "outputId": "fb64aa34-a5b1-4803-b1c9-164fac2c10e9"
      },
      "execution_count": 32,
      "outputs": [
        {
          "output_type": "stream",
          "name": "stdout",
          "text": [
            "DDMZTRWM4S4CII4PRICOPKY2 COMPLETED\n"
          ]
        }
      ]
    },
    {
      "cell_type": "markdown",
      "source": [
        "## GEDI L2B"
      ],
      "metadata": {
        "id": "yE3follCVOv8"
      }
    },
    {
      "cell_type": "markdown",
      "source": [
        "### Process"
      ],
      "metadata": {
        "id": "XpnW1bctbSmt"
      }
    },
    {
      "cell_type": "code",
      "source": [
        "gedi2B = ee.ImageCollection('LARSE/GEDI/GEDI02_B_002_MONTHLY')\n",
        "\n",
        "def qualityMask(image):\n",
        "    return image.updateMask(image.select('l2b_quality_flag').eq(1)).updateMask(image.select('degrade_flag').eq(0))\n",
        "\n",
        "def gedi_image(metric):\n",
        "    return gedi2B \\\n",
        "         .map(qualityMask) \\\n",
        "         .select(metric) \\\n",
        "         .mean() \\\n",
        "         .clip(aoi) \\\n",
        "         .set({\"canopy_metric\": metric})\n",
        "\n",
        "cover = gedi_image(\"cover\")\n",
        "pai = gedi_image(\"pai\")\n",
        "pavd_z25 = gedi_image(\"pavd_z25\")\n",
        "\n",
        "print(cover.getInfo())\n",
        "print(cover.get(\"canopy_metric\").getInfo())\n",
        "\n",
        "print(pavd_z25.getInfo())\n",
        "print(pavd_z25.get(\"canopy_metric\").getInfo())"
      ],
      "metadata": {
        "colab": {
          "base_uri": "https://localhost:8080/"
        },
        "id": "jG-plK_5VRZv",
        "outputId": "b6d115da-2ad1-452f-c5f2-5f5472913125"
      },
      "execution_count": 46,
      "outputs": [
        {
          "output_type": "stream",
          "name": "stdout",
          "text": [
            "{'type': 'Image', 'bands': [{'id': 'cover', 'data_type': {'type': 'PixelType', 'precision': 'double'}, 'crs': 'EPSG:4326', 'crs_transform': [1, 0, 0, 0, 1, 0]}], 'properties': {'canopy_metric': 'cover'}}\n",
            "cover\n",
            "{'type': 'Image', 'bands': [{'id': 'pavd_z25', 'data_type': {'type': 'PixelType', 'precision': 'double'}, 'crs': 'EPSG:4326', 'crs_transform': [1, 0, 0, 0, 1, 0]}], 'properties': {'canopy_metric': 'pavd_z25'}}\n",
            "pavd_z25\n"
          ]
        }
      ]
    },
    {
      "cell_type": "markdown",
      "source": [
        "### Export"
      ],
      "metadata": {
        "id": "QGd5bAfxbVa7"
      }
    },
    {
      "cell_type": "code",
      "source": [
        "output_name = f\"{layer_dict[cover.get('canopy_metric').getInfo()]}_{aoi_name}\"\n",
        "print(output_name)\n",
        "\n",
        "task2 = ee.batch.Export.image.toDrive(image = cover,\n",
        "                                     region = aoi.geometry(),\n",
        "                                     description = \"EXPORT IMAGE TO DRIVE\",\n",
        "                                     folder = \"GEE_exports\",\n",
        "                                     fileNamePrefix = output_name,\n",
        "                                     scale = 25,\n",
        "                                     maxPixels = 10e12\n",
        "                                     )\n",
        "task2.start()"
      ],
      "metadata": {
        "colab": {
          "base_uri": "https://localhost:8080/"
        },
        "id": "V-7ne55LYjVF",
        "outputId": "273bbabe-0407-423c-eba4-ec5bdb14dfea"
      },
      "execution_count": 33,
      "outputs": [
        {
          "output_type": "stream",
          "name": "stdout",
          "text": [
            "RS_064_MKR_PACE\n"
          ]
        }
      ]
    },
    {
      "cell_type": "code",
      "source": [
        "output_name = f\"{layer_dict[pai.get('canopy_metric').getInfo()]}_{aoi_name}\"\n",
        "print(output_name)\n",
        "\n",
        "task3 = ee.batch.Export.image.toDrive(image = pai,\n",
        "                                     region = aoi.geometry(),\n",
        "                                     description = \"EXPORT IMAGE TO DRIVE\",\n",
        "                                     folder = \"GEE_exports\",\n",
        "                                     fileNamePrefix = output_name,\n",
        "                                     scale = 25,\n",
        "                                     maxPixels = 10e12\n",
        "                                     )\n",
        "task3.start()"
      ],
      "metadata": {
        "colab": {
          "base_uri": "https://localhost:8080/"
        },
        "id": "d9HrbiXPZhY8",
        "outputId": "5b54b6d9-7bde-4075-f987-27826351de04"
      },
      "execution_count": 34,
      "outputs": [
        {
          "output_type": "stream",
          "name": "stdout",
          "text": [
            "RS_065_MKR_PACE\n"
          ]
        }
      ]
    },
    {
      "cell_type": "code",
      "source": [
        "output_name = f\"{layer_dict[pavd_z25.get('canopy_metric').getInfo()]}_{aoi_name}\"\n",
        "print(output_name)\n",
        "\n",
        "task4 = ee.batch.Export.image.toDrive(image = pavd_z25,\n",
        "                                     region = aoi.geometry(),\n",
        "                                     description = \"EXPORT IMAGE TO DRIVE\",\n",
        "                                     folder = \"GEE_exports\",\n",
        "                                     fileNamePrefix = output_name,\n",
        "                                     scale = 25,\n",
        "                                     maxPixels = 10e12\n",
        "                                     )\n",
        "task4.start()"
      ],
      "metadata": {
        "colab": {
          "base_uri": "https://localhost:8080/"
        },
        "id": "hdo5UISsZmoX",
        "outputId": "58bea736-7003-41ee-ce91-b2f61d41add4"
      },
      "execution_count": 51,
      "outputs": [
        {
          "output_type": "stream",
          "name": "stdout",
          "text": [
            "RS_066_MKR_PACE\n"
          ]
        }
      ]
    }
  ]
}
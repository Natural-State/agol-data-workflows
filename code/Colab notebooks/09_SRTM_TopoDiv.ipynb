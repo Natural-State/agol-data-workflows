{
  "nbformat": 4,
  "nbformat_minor": 0,
  "metadata": {
    "colab": {
      "provenance": [],
      "toc_visible": true,
      "mount_file_id": "1JK2Bt52NRaE_oWYNyouZQQwZyniBWvpk",
      "authorship_tag": "ABX9TyPXfep8peC4szy1eD+Fgh3i",
      "include_colab_link": true
    },
    "kernelspec": {
      "name": "python3",
      "display_name": "Python 3"
    },
    "language_info": {
      "name": "python"
    }
  },
  "cells": [
    {
      "cell_type": "markdown",
      "metadata": {
        "id": "view-in-github",
        "colab_type": "text"
      },
      "source": [
        "<a href=\"https://colab.research.google.com/github/Natural-State/agol-data-workflows/blob/master/code/Colab%20notebooks/09_SRTM_TopoDiv.ipynb\" target=\"_parent\"><img src=\"https://colab.research.google.com/assets/colab-badge.svg\" alt=\"Open In Colab\"/></a>"
      ]
    },
    {
      "cell_type": "markdown",
      "source": [
        "# Extract Topographic diversity from STRM platform\n",
        "\n",
        "Topographic diversity (D) is a surrogate variable that represents the variety of temperature and moisture conditions available to species as local habitats. It expresses the logic that a higher variety of topo-climate niches should support higher diversity (especially plant) and support species persistence given climatic change.\n",
        "\n",
        "The Conservation Science Partners (CSP) Ecologically Relevant Geomorphology (ERGo) Datasets, Landforms and Physiography contain detailed, multi-scale data on landforms and physiographic (aka land facet) patterns."
      ],
      "metadata": {
        "id": "dJXp2XHuX66D"
      }
    },
    {
      "cell_type": "markdown",
      "source": [
        "## Import gee and authenticate"
      ],
      "metadata": {
        "id": "7yUMLQBfYG9B"
      }
    },
    {
      "cell_type": "code",
      "source": [
        "import ee"
      ],
      "metadata": {
        "id": "sPyB17KKeLUM"
      },
      "execution_count": null,
      "outputs": []
    },
    {
      "cell_type": "code",
      "execution_count": null,
      "metadata": {
        "id": "sOoUxFdhSmti"
      },
      "outputs": [],
      "source": [
        "# Trigger the authentication flow.\n",
        "ee.Authenticate()\n",
        "\n",
        "# Initialize the library.\n",
        "ee.Initialize()"
      ]
    },
    {
      "cell_type": "markdown",
      "source": [
        "## Input arguments for data extraction"
      ],
      "metadata": {
        "id": "0zGM4Zvf_Gal"
      }
    },
    {
      "cell_type": "code",
      "source": [
        "# Area of interest\n",
        "aoi = ee.FeatureCollection(\"projects/ns-agol-rs-data/assets/LLBN\")\n",
        "aoi_name = \"LLBN\"\n",
        "\n",
        "# GEE layer ID\n",
        "layer_name = \"RS_020\""
      ],
      "metadata": {
        "id": "HJpF8Lo0_PD1"
      },
      "execution_count": null,
      "outputs": []
    },
    {
      "cell_type": "markdown",
      "source": [
        "## Extract TD\n",
        "\n"
      ],
      "metadata": {
        "id": "k7gU47wyao17"
      }
    },
    {
      "cell_type": "code",
      "source": [
        "srtm = ee.Image(\"CSP/ERGo/1_0/Global/SRTM_topoDiversity\")\n",
        "td = srtm.select(\"constant\").clip(aoi)"
      ],
      "metadata": {
        "id": "moid-7byasZq"
      },
      "execution_count": null,
      "outputs": []
    },
    {
      "cell_type": "markdown",
      "source": [
        "## Export data - create task\n",
        "\n",
        "`filenamePrefix` should be in format: place_layer_timeperiod"
      ],
      "metadata": {
        "id": "i5vQjmLxemR7"
      }
    },
    {
      "cell_type": "code",
      "source": [
        "task1 = ee.batch.Export.image.toDrive(image = td,\n",
        "                                     region = aoi.geometry(),\n",
        "                                     description = \"EXPORT IMAGE TO DRIVE\",\n",
        "                                     folder = \"GEE_exports\",\n",
        "                                     fileNamePrefix = layer_name + \"_\" + aoi_name,\n",
        "                                     scale = 270,\n",
        "                                     maxPixels = 10e12,\n",
        "                                     crs = \"EPSG:4326\"\n",
        "                                     )\n",
        "task1.start()"
      ],
      "metadata": {
        "id": "IGK70Xg1hdPh"
      },
      "execution_count": null,
      "outputs": []
    },
    {
      "cell_type": "markdown",
      "source": [
        "## Check task status\n",
        "\n",
        "[List](https://developers.google.com/earth-engine/guides/processing_environments#list-of-task-states) of task status messages (state field)\n"
      ],
      "metadata": {
        "id": "JTou0uwZf07f"
      }
    },
    {
      "cell_type": "code",
      "source": [
        "task_id = task1.status()['id']\n",
        "task_state = task1.status()['state']\n",
        "print(task_id, task_state)"
      ],
      "metadata": {
        "id": "pW1XtRbvszlI"
      },
      "execution_count": null,
      "outputs": []
    }
  ]
}
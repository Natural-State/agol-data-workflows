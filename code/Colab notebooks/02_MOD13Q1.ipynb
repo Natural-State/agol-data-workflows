{
  "nbformat": 4,
  "nbformat_minor": 0,
  "metadata": {
    "colab": {
      "provenance": [],
      "toc_visible": true,
      "mount_file_id": "1JK2Bt52NRaE_oWYNyouZQQwZyniBWvpk",
      "authorship_tag": "ABX9TyObsjHEEnO2/rBml+b8J0yC",
      "include_colab_link": true
    },
    "kernelspec": {
      "name": "python3",
      "display_name": "Python 3"
    },
    "language_info": {
      "name": "python"
    }
  },
  "cells": [
    {
      "cell_type": "markdown",
      "metadata": {
        "id": "view-in-github",
        "colab_type": "text"
      },
      "source": [
        "<a href=\"https://colab.research.google.com/github/Natural-State/agol-data-workflows/blob/master/code/Colab%20notebooks/02_MOD13Q1.ipynb\" target=\"_parent\"><img src=\"https://colab.research.google.com/assets/colab-badge.svg\" alt=\"Open In Colab\"/></a>"
      ]
    },
    {
      "cell_type": "markdown",
      "source": [
        "# Extract NDVI & EVI for an AOI and export to Google Drive"
      ],
      "metadata": {
        "id": "dJXp2XHuX66D"
      }
    },
    {
      "cell_type": "markdown",
      "source": [
        "## Import gee and authenticate"
      ],
      "metadata": {
        "id": "7yUMLQBfYG9B"
      }
    },
    {
      "cell_type": "code",
      "execution_count": null,
      "metadata": {
        "id": "sOoUxFdhSmti"
      },
      "outputs": [],
      "source": [
        "import os\n",
        "\n",
        "# If credentials file doesn't exist, authenticate and store credentials\n",
        "# Else if credentials file does exist, use stored credentials and initialise\n",
        "if not os.path.exists(os.path.expanduser(\"~/.config/earthengine/credentials\")):\n",
        "  import ee\n",
        "  ee.Authenticate()\n",
        "  ee.Initialize()\n",
        "else:\n",
        "  import ee\n",
        "  ee.Initialize()"
      ]
    },
    {
      "cell_type": "markdown",
      "source": [
        "## Input arguments for data extraction"
      ],
      "metadata": {
        "id": "0zGM4Zvf_Gal"
      }
    },
    {
      "cell_type": "code",
      "source": [
        "# Area of interest\n",
        "# aoi = ee.FeatureCollection(\"projects/ns-agol-rs-data/assets/MKR_NS_buff_5km\")\n",
        "# aoi_name = \"MKR_NS_buff_5km\"\n",
        "\n",
        "aoi = ee.FeatureCollection(\"projects/ns-agol-rs-data/assets/MKR_PACE\")\n",
        "aoi_name = \"MKR_PACE\"\n",
        "\n",
        "# GEE layer ID (options: NDVI, EVI)\n",
        "# band_layer = \"NDVI\"\n",
        "# layer_name = \"RS_002\"\n",
        "\n",
        "band_layer = \"EVI\"\n",
        "layer_name = \"RS_003\"\n",
        "\n",
        "# Image reducer (options: mean, median, min, max, stdDev, sum, product)\n",
        "img_col_reducer = \"mean\"\n",
        "\n",
        "# Date parameters\n",
        "start_year = 2012\n",
        "end_year = 2022\n",
        "\n",
        "# Range doesn't include the stop value\n",
        "year_list = ee.List(list(range(start_year, end_year+1)))\n",
        "\n",
        "# Season parameters (months)\n",
        "rain_start = 3\n",
        "rain_end = 5\n",
        "dry_start = 7\n",
        "dry_end = 10"
      ],
      "metadata": {
        "id": "HJpF8Lo0_PD1"
      },
      "execution_count": null,
      "outputs": []
    },
    {
      "cell_type": "markdown",
      "source": [
        "## Import MOD13Q1.061 Terra Vegetation Indices image collection\n",
        "\n"
      ],
      "metadata": {
        "id": "k7gU47wyao17"
      }
    },
    {
      "cell_type": "code",
      "source": [
        "modis = ee.ImageCollection(\"MODIS/061/MOD13Q1\")"
      ],
      "metadata": {
        "id": "moid-7byasZq"
      },
      "execution_count": null,
      "outputs": []
    },
    {
      "cell_type": "markdown",
      "source": [
        "## NDVI/EVI processing"
      ],
      "metadata": {
        "id": "MF4OJJGka6Kd"
      }
    },
    {
      "cell_type": "code",
      "source": [
        "reducer_list = ee.Reducer.mean() \\\n",
        ".combine(reducer2 = ee.Reducer.median(), sharedInputs=True) \\\n",
        ".combine(reducer2 = ee.Reducer.min(), sharedInputs=True) \\\n",
        ".combine(reducer2 = ee.Reducer.max(), sharedInputs=True) \\\n",
        ".combine(reducer2 = ee.Reducer.stdDev(), sharedInputs=True) \\\n",
        ".combine(reducer2 = ee.Reducer.sum(), sharedInputs=True) \\\n",
        ".combine(reducer2 = ee.Reducer.product(), sharedInputs=True)\n",
        "\n",
        "def annual_image(year_date):\n",
        "  start = ee.Date.fromYMD(year_date, 1, 1)\n",
        "  end = ee.Date.fromYMD(year_date, 12, 31)\n",
        "  date_range = ee.DateRange(start, end)\n",
        "  name = start.format('YYYY_MM').cat('_to_').cat(end.format('YYYY_MM'))\n",
        "  return modis \\\n",
        "        .filterDate(date_range) \\\n",
        "        .select(band_layer) \\\n",
        "        .reduce(reducer = reducer_list) \\\n",
        "        .multiply(0.0001) \\\n",
        "        .clip(aoi) \\\n",
        "        .set({'name': name})\n",
        "\n",
        "annual_image = year_list.map(annual_image)\n",
        "\n",
        "## Check an element of list\n",
        "year_mosaic  = ee.Image(annual_image.get(2))\n",
        "label = ee.String(year_mosaic.get('name')).getInfo()\n",
        "print(label)\n",
        "print(year_mosaic.getInfo())\n",
        "\n",
        "## Check a reducer band\n",
        "band_select = \".*\" + img_col_reducer\n",
        "print(band_select)\n",
        "print(year_mosaic.select(band_select).getInfo())"
      ],
      "metadata": {
        "id": "ceDuT-aqRdWd",
        "colab": {
          "base_uri": "https://localhost:8080/"
        },
        "outputId": "11ae065e-d1ba-4bb4-f9fa-f36ec65ae768"
      },
      "execution_count": null,
      "outputs": [
        {
          "output_type": "stream",
          "name": "stdout",
          "text": [
            "2014_01_to_2014_12\n",
            "{'type': 'Image', 'bands': [{'id': 'EVI_mean', 'data_type': {'type': 'PixelType', 'precision': 'double', 'min': -3.2768, 'max': 3.2767}, 'crs': 'EPSG:4326', 'crs_transform': [1, 0, 0, 0, 1, 0]}, {'id': 'EVI_median', 'data_type': {'type': 'PixelType', 'precision': 'double', 'min': -3.2768, 'max': 3.2767}, 'crs': 'EPSG:4326', 'crs_transform': [1, 0, 0, 0, 1, 0]}, {'id': 'EVI_min', 'data_type': {'type': 'PixelType', 'precision': 'double', 'min': -3.2768, 'max': 3.2767}, 'crs': 'EPSG:4326', 'crs_transform': [1, 0, 0, 0, 1, 0]}, {'id': 'EVI_max', 'data_type': {'type': 'PixelType', 'precision': 'double', 'min': -3.2768, 'max': 3.2767}, 'crs': 'EPSG:4326', 'crs_transform': [1, 0, 0, 0, 1, 0]}, {'id': 'EVI_stdDev', 'data_type': {'type': 'PixelType', 'precision': 'double'}, 'crs': 'EPSG:4326', 'crs_transform': [1, 0, 0, 0, 1, 0]}, {'id': 'EVI_sum', 'data_type': {'type': 'PixelType', 'precision': 'double', 'min': -922337203685477.6, 'max': 922337203685477.6}, 'crs': 'EPSG:4326', 'crs_transform': [1, 0, 0, 0, 1, 0]}, {'id': 'EVI_product', 'data_type': {'type': 'PixelType', 'precision': 'double', 'min': -922337203685477.6, 'max': 922337203685477.6}, 'crs': 'EPSG:4326', 'crs_transform': [1, 0, 0, 0, 1, 0]}], 'properties': {'name': '2014_01_to_2014_12'}}\n",
            ".*mean\n",
            "{'type': 'Image', 'bands': [{'id': 'EVI_mean', 'data_type': {'type': 'PixelType', 'precision': 'double', 'min': -3.2768, 'max': 3.2767}, 'crs': 'EPSG:4326', 'crs_transform': [1, 0, 0, 0, 1, 0]}], 'properties': {'name': '2014_01_to_2014_12'}}\n"
          ]
        }
      ]
    },
    {
      "cell_type": "code",
      "source": [
        "def annual_seasonal_image(year_date, season_start, season_end):\n",
        "  start = ee.Date.fromYMD(year_date, season_start, 1)\n",
        "  end = ee.Date.fromYMD(year_date, season_end, 30)\n",
        "  date_range = ee.DateRange(start, end)\n",
        "  season_label = \"dry\" if season_start == 7 else \"wet\"\n",
        "  return modis \\\n",
        "        .filterDate(date_range) \\\n",
        "        .select(band_layer) \\\n",
        "        .reduce(reducer = reducer_list) \\\n",
        "        .multiply(0.0001) \\\n",
        "        .clip(aoi) \\\n",
        "        .set({'season': season_label,\n",
        "              'year': year_date})\n",
        "\n",
        "def map_seasonal_dry(year):\n",
        "  return annual_seasonal_image(year, dry_start, dry_end)\n",
        "\n",
        "annual_dry = year_list.map(map_seasonal_dry)\n",
        "\n",
        "def map_seasonal_rain(year):\n",
        "  return annual_seasonal_image(year, rain_start, rain_end)\n",
        "\n",
        "annual_rain = year_list.map(map_seasonal_rain)"
      ],
      "metadata": {
        "id": "D3oojkqxK1i7"
      },
      "execution_count": null,
      "outputs": []
    },
    {
      "cell_type": "markdown",
      "source": [
        "## Export data - create task\n",
        "\n",
        "`filenamePrefix` should be in format: place_layer_timeperiod"
      ],
      "metadata": {
        "id": "i5vQjmLxemR7"
      }
    },
    {
      "cell_type": "code",
      "source": [
        "# Annual images\n",
        "for i in  range(ee.List.length(annual_image).getInfo()):\n",
        "\n",
        "  band_select = \".*\" + img_col_reducer\n",
        "  output_img =  ee.Image(annual_image.get(i))\n",
        "  output_img = output_img.select(band_select)\n",
        "  output_name = f\"{layer_name}_{img_col_reducer}_{aoi_name}_{ee.String(output_img.get('name')).getInfo()}\"\n",
        "\n",
        "  task = ee.batch.Export.image.toDrive(image = output_img,\n",
        "                                     region = aoi.geometry(),\n",
        "                                     description = \"EXPORT IMAGE TO DRIVE\",\n",
        "                                     folder = \"GEE_exports\",\n",
        "                                     fileNamePrefix = output_name,\n",
        "                                     scale = 250,\n",
        "                                     maxPixels = 10e12\n",
        "                                     )\n",
        "  task.start()\n",
        "  print(\"STARTED TASK \", i+1)"
      ],
      "metadata": {
        "id": "IGK70Xg1hdPh"
      },
      "execution_count": null,
      "outputs": []
    },
    {
      "cell_type": "code",
      "source": [
        "# Seasonal images - DRY\n",
        "for i in range(ee.List.length(annual_dry).getInfo()):\n",
        "  band_select = \".*\" + img_col_reducer\n",
        "  output_img =  ee.Image(annual_dry.get(i))\n",
        "  output_img = output_img.select(band_select)\n",
        "  output_name = f\"{layer_name}_{img_col_reducer}_{aoi_name}_{ee.String(output_img.get('year')).getInfo()}_{ee.String(output_img.get('season')).getInfo()}\"\n",
        "\n",
        "  task = ee.batch.Export.image.toDrive(image = output_img,\n",
        "                                     region = aoi.geometry(),\n",
        "                                     description = \"EXPORT IMAGE TO DRIVE\",\n",
        "                                     folder = \"GEE_exports\",\n",
        "                                     fileNamePrefix = output_name,\n",
        "                                     scale = 250,\n",
        "                                     maxPixels = 10e12\n",
        "                                     )\n",
        "  task.start()\n",
        "  print(\"STARTED TASK \", \"DRY \", i+1)"
      ],
      "metadata": {
        "id": "j0bU19lVU8QA"
      },
      "execution_count": null,
      "outputs": []
    },
    {
      "cell_type": "code",
      "source": [
        "# Seasonal images - RAIN\n",
        "for i in range(ee.List.length(annual_rain).getInfo()):\n",
        "  band_select = \".*\" + img_col_reducer\n",
        "  output_img =  ee.Image(annual_rain.get(i))\n",
        "  output_img = output_img.select(band_select)\n",
        "  output_name = f\"{layer_name}_{img_col_reducer}_{aoi_name}_{ee.String(output_img.get('year')).getInfo()}_{ee.String(output_img.get('season')).getInfo()}\"\n",
        "\n",
        "  task = ee.batch.Export.image.toDrive(image = output_img,\n",
        "                                     region = aoi.geometry(),\n",
        "                                     description = \"EXPORT IMAGE TO DRIVE\",\n",
        "                                     folder = \"GEE_exports\",\n",
        "                                     fileNamePrefix = output_name,\n",
        "                                     scale = 250,\n",
        "                                     maxPixels = 10e12\n",
        "                                     )\n",
        "  task.start()\n",
        "  print(\"STARTED TASK \", \"RAIN \", i+1)"
      ],
      "metadata": {
        "id": "MUGklfXkVtSn"
      },
      "execution_count": null,
      "outputs": []
    },
    {
      "cell_type": "markdown",
      "source": [
        "## Check task status\n",
        "\n",
        "[List](https://developers.google.com/earth-engine/guides/processing_environments#list-of-task-states) of task status messages (state field)\n"
      ],
      "metadata": {
        "id": "JTou0uwZf07f"
      }
    },
    {
      "cell_type": "code",
      "source": [
        "tasks = ee.batch.Task.list()\n",
        "for task in tasks[0:ee.List.length(year_list).getInfo()]:\n",
        "  task_id = task.status()['id']\n",
        "  task_state = task.status()['state']\n",
        "  print(task_id, task_state)"
      ],
      "metadata": {
        "id": "pW1XtRbvszlI",
        "colab": {
          "base_uri": "https://localhost:8080/"
        },
        "outputId": "b4b13113-2daf-4b14-ddd6-c061fdb9b76e"
      },
      "execution_count": null,
      "outputs": [
        {
          "output_type": "stream",
          "name": "stdout",
          "text": [
            "KOHM6JRQFM7ALVOCRB23HGQ4 RUNNING\n",
            "CHOKLDBCQU2IIB2RCTOTMBDT COMPLETED\n",
            "X7PSSMXEMGSXXZWBZ4JCYC66 COMPLETED\n",
            "2CG4ER2FEDHBUUS4WT23OOBT COMPLETED\n",
            "B6SJNSYIFRXKHR644TO5KCQB COMPLETED\n",
            "PAKFWGJGQANJ2GLTESVCQYC4 COMPLETED\n",
            "FMF5JA3IXWYWGB6URLHGGQZ7 COMPLETED\n"
          ]
        }
      ]
    },
    {
      "cell_type": "markdown",
      "source": [
        "## Mount and unmount Google Drive\n"
      ],
      "metadata": {
        "id": "TEKiuAzDoxbj"
      }
    },
    {
      "cell_type": "code",
      "source": [
        "# Mount\n",
        "#from google.colab import drive\n",
        "\n",
        "#ROOT = '/content/drive'\n",
        "#drive.mount(ROOT, force_remount=True)\n"
      ],
      "metadata": {
        "id": "W-m1KHblpPLX"
      },
      "execution_count": null,
      "outputs": []
    },
    {
      "cell_type": "code",
      "source": [
        "# Unmount\n",
        "#drive.flush_and_unmount()"
      ],
      "metadata": {
        "id": "3XAfLgvHo5Oh"
      },
      "execution_count": null,
      "outputs": []
    }
  ]
}
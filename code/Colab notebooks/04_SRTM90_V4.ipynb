{
  "nbformat": 4,
  "nbformat_minor": 0,
  "metadata": {
    "colab": {
      "provenance": [],
      "toc_visible": true,
      "authorship_tag": "ABX9TyMPSP3f+bdHpBZvBlmCPxGP",
      "include_colab_link": true
    },
    "kernelspec": {
      "name": "python3",
      "display_name": "Python 3"
    },
    "language_info": {
      "name": "python"
    }
  },
  "cells": [
    {
      "cell_type": "markdown",
      "metadata": {
        "id": "view-in-github",
        "colab_type": "text"
      },
      "source": [
        "<a href=\"https://colab.research.google.com/github/Natural-State/agol-data-workflows/blob/master/code/Colab%20notebooks/04_SRTM90_V4.ipynb\" target=\"_parent\"><img src=\"https://colab.research.google.com/assets/colab-badge.svg\" alt=\"Open In Colab\"/></a>"
      ]
    },
    {
      "cell_type": "markdown",
      "source": [
        "# Process DEM to derive topographical indices\n"
      ],
      "metadata": {
        "id": "CgnLeHW8_TJL"
      }
    },
    {
      "cell_type": "markdown",
      "source": [
        "## Import gee and authenticate\n",
        "\n",
        "Expiry period: the granted permissions will expire in a week, after which you'll need to call ee.Authenticate() again."
      ],
      "metadata": {
        "id": "7yUMLQBfYG9B"
      }
    },
    {
      "cell_type": "code",
      "source": [
        "# This doesn't really work, it's only valid for the current runtime...\n",
        "import os\n",
        "\n",
        "# If credentials file doesn't exist, authenticate and store credentials\n",
        "# Else if credentials file does exist, use stored credentials and initialise\n",
        "if not os.path.exists(os.path.expanduser(\"~/.config/earthengine/credentials\")):\n",
        "  import ee\n",
        "  ee.Authenticate()\n",
        "  ee.Initialize()\n",
        "else:\n",
        "  import ee\n",
        "  ee.Initialize()"
      ],
      "metadata": {
        "id": "B6_MBI9vfpdf"
      },
      "execution_count": null,
      "outputs": []
    },
    {
      "cell_type": "markdown",
      "source": [
        "## Import AOI and set variable names\n"
      ],
      "metadata": {
        "id": "_nnuyp2nw64G"
      }
    },
    {
      "cell_type": "code",
      "source": [
        "# Area of interest\n",
        "# aoi = ee.FeatureCollection(\"projects/ns-agol-rs-data/assets/MKR_NS_buff_5km\")\n",
        "# aoi_name = \"MKR_NS_buff_5km\"\n",
        "\n",
        "aoi = ee.FeatureCollection(\"projects/ns-agol-rs-data/assets/MKR\")\n",
        "aoi_name = \"MKR\"\n",
        "\n",
        "# aoi = ee.FeatureCollection(\"projects/ns-agol-rs-data/assets/carbon_rs_aoi\")\n",
        "# aoi_name = \"carbon_rs_aoi\"\n",
        "\n",
        "elev90m_layer_name = \"RS_005\"\n",
        "slope_layer_name = \"RS_006\"\n",
        "aspect_layer_name = \"RS_007\"\n",
        "elev30m_layer_name = \"RS_072\""
      ],
      "metadata": {
        "id": "5A3KMct1xF-g"
      },
      "execution_count": null,
      "outputs": []
    },
    {
      "cell_type": "markdown",
      "source": [
        "## Import image and calculate topography metrics\n"
      ],
      "metadata": {
        "id": "x3L2JfozxLhl"
      }
    },
    {
      "cell_type": "code",
      "source": [
        "elevation_90 = ee.Image(\"CGIAR/SRTM90_V4\").select(\"elevation\").clip(aoi)\n",
        "slope = ee.Terrain.slope(elevation_90)\n",
        "aspect = ee.Terrain.aspect(elevation_90)\n",
        "elevation_30 = ee.Image('USGS/SRTMGL1_003').select(\"elevation\").clip(aoi)"
      ],
      "metadata": {
        "id": "CEedOlHYHTze"
      },
      "execution_count": null,
      "outputs": []
    },
    {
      "cell_type": "markdown",
      "source": [
        "## Export data - create tasks"
      ],
      "metadata": {
        "id": "i5vQjmLxemR7"
      }
    },
    {
      "cell_type": "code",
      "source": [
        "task1 = ee.batch.Export.image.toDrive(image = elevation_90,\n",
        "                                     region = aoi.geometry().bounds(),\n",
        "                                     description = \"EXPORT IMAGE TO DRIVE\",\n",
        "                                     folder = \"GEE_exports\",\n",
        "                                     fileNamePrefix = elev90m_layer_name + \"_\" + aoi_name,\n",
        "                                     scale = 90,\n",
        "                                     maxPixels = 10e12,\n",
        "                                     crs = \"EPSG:4326\"\n",
        "                                     )\n",
        "task1.start()"
      ],
      "metadata": {
        "id": "0z4ROJMoZ1gM"
      },
      "execution_count": null,
      "outputs": []
    },
    {
      "cell_type": "code",
      "source": [
        "task2 = ee.batch.Export.image.toDrive(image = slope,\n",
        "                                     region = aoi.geometry().bounds(),\n",
        "                                     description = \"EXPORT IMAGE TO DRIVE\",\n",
        "                                     folder = \"GEE_exports\",\n",
        "                                     fileNamePrefix = slope_layer_name + \"_\" + aoi_name,\n",
        "                                     scale = 90,\n",
        "                                     maxPixels = 10e12,\n",
        "                                     crs = \"EPSG:4326\"\n",
        "                                     )\n",
        "task2.start()"
      ],
      "metadata": {
        "id": "0WtPQBN_enqN"
      },
      "execution_count": null,
      "outputs": []
    },
    {
      "cell_type": "code",
      "source": [
        "task3 = ee.batch.Export.image.toDrive(image = aspect,\n",
        "                                     region = aoi.geometry().bounds(),\n",
        "                                     description = \"EXPORT IMAGE TO DRIVE\",\n",
        "                                     folder = \"GEE_exports\",\n",
        "                                     fileNamePrefix = aspect_layer_name + \"_\" + aoi_name,\n",
        "                                     scale = 90,\n",
        "                                     maxPixels = 10e12,\n",
        "                                     crs = \"EPSG:4326\"\n",
        "                                     )\n",
        "\n",
        "task3.start()"
      ],
      "metadata": {
        "id": "oTJ3EScgZ3oJ"
      },
      "execution_count": null,
      "outputs": []
    },
    {
      "cell_type": "code",
      "source": [
        "task4 = ee.batch.Export.image.toDrive(image = elevation_30,\n",
        "                                     region = aoi.geometry().bounds(),\n",
        "                                     description = \"EXPORT IMAGE TO DRIVE\",\n",
        "                                     folder = \"GEE_exports\",\n",
        "                                     fileNamePrefix = elev30m_layer_name + \"_\" + aoi_name,\n",
        "                                     scale = 30,\n",
        "                                     maxPixels = 10e12,\n",
        "                                     crs = \"EPSG:4326\"\n",
        "                                     )\n",
        "task4.start()"
      ],
      "metadata": {
        "id": "LIHZQU6tBMWQ"
      },
      "execution_count": null,
      "outputs": []
    },
    {
      "cell_type": "markdown",
      "source": [
        "## Check task status\n",
        "\n",
        "[List](https://developers.google.com/earth-engine/guides/processing_environments#list-of-task-states) of task status messages (state field)\n"
      ],
      "metadata": {
        "id": "JTou0uwZf07f"
      }
    },
    {
      "cell_type": "code",
      "source": [
        "tasks = ee.batch.Task.list()\n",
        "for task in tasks[0:3]:\n",
        "  task_id = task.status()['id']\n",
        "  task_state = task.status()['state']\n",
        "  print(task_id, task_state)"
      ],
      "metadata": {
        "id": "zsJU-SmMf28n"
      },
      "execution_count": null,
      "outputs": []
    }
  ]
}
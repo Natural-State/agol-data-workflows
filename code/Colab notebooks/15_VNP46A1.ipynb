{
  "cells": [
    {
      "cell_type": "markdown",
      "metadata": {
        "id": "view-in-github",
        "colab_type": "text"
      },
      "source": [
        "<a href=\"https://colab.research.google.com/github/Natural-State/agol-data-workflows/blob/master/code/Colab%20notebooks/15_VNP46A1.ipynb\" target=\"_parent\"><img src=\"https://colab.research.google.com/assets/colab-badge.svg\" alt=\"Open In Colab\"/></a>"
      ]
    },
    {
      "cell_type": "markdown",
      "metadata": {
        "id": "dJXp2XHuX66D"
      },
      "source": [
        "# Extract night time lights from VIIRS"
      ]
    },
    {
      "cell_type": "markdown",
      "metadata": {
        "id": "7yUMLQBfYG9B"
      },
      "source": [
        "## Import gee and authenticate"
      ]
    },
    {
      "cell_type": "code",
      "execution_count": null,
      "metadata": {
        "id": "sPyB17KKeLUM"
      },
      "outputs": [],
      "source": [
        "import ee"
      ]
    },
    {
      "cell_type": "code",
      "execution_count": null,
      "metadata": {
        "id": "sOoUxFdhSmti"
      },
      "outputs": [],
      "source": [
        "# Trigger the authentication flow.\n",
        "ee.Authenticate()\n",
        "\n",
        "# Initialize the library.\n",
        "ee.Initialize()"
      ]
    },
    {
      "cell_type": "markdown",
      "metadata": {
        "id": "0zGM4Zvf_Gal"
      },
      "source": [
        "## Input arguments for data extraction"
      ]
    },
    {
      "cell_type": "code",
      "execution_count": null,
      "metadata": {
        "id": "HJpF8Lo0_PD1"
      },
      "outputs": [],
      "source": [
        "# Area of interest\n",
        "aoi = ee.FeatureCollection(\"projects/ns-agol-rs-data/assets/LLBN\")\n",
        "aoi_name = \"LLBN\"\n",
        "\n",
        "# GEE layer ID\n",
        "layer_name = \"RS_048\"\n",
        "\n",
        "# Image reducer (options: mean, median, min, max, stdDev, sum, product)\n",
        "img_col_reducer = \"mean\"\n",
        "\n",
        "# Date parameters\n",
        "start_year = 2018\n",
        "end_year = 2022\n",
        "\n",
        "# Range doesn't include the stop value\n",
        "year_list = ee.List(list(range(start_year, end_year+1)))"
      ]
    },
    {
      "cell_type": "markdown",
      "metadata": {
        "id": "k7gU47wyao17"
      },
      "source": [
        "## VNP46A1: VIIRS Daily Gridded Day Night Band 500m\n",
        "\n"
      ]
    },
    {
      "cell_type": "code",
      "execution_count": null,
      "metadata": {
        "id": "moid-7byasZq"
      },
      "outputs": [],
      "source": [
        "lights = ee.ImageCollection(\"NOAA/VIIRS/001/VNP46A1\") \\\n",
        "  .filterBounds(aoi)"
      ]
    },
    {
      "cell_type": "markdown",
      "metadata": {
        "id": "MF4OJJGka6Kd"
      },
      "source": [
        "## Night-time lights processing"
      ]
    },
    {
      "cell_type": "code",
      "execution_count": null,
      "metadata": {
        "id": "5ME5rPTOuOPn"
      },
      "outputs": [],
      "source": [
        "reducer_list = ee.Reducer.mean() \\\n",
        ".combine(reducer2 = ee.Reducer.median(), sharedInputs=True) \\\n",
        ".combine(reducer2 = ee.Reducer.min(), sharedInputs=True) \\\n",
        ".combine(reducer2 = ee.Reducer.max(), sharedInputs=True) \\\n",
        ".combine(reducer2 = ee.Reducer.stdDev(), sharedInputs=True) \\\n",
        ".combine(reducer2 = ee.Reducer.sum(), sharedInputs=True) \\\n",
        ".combine(reducer2 = ee.Reducer.product(), sharedInputs=True)\n",
        "\n",
        "def annual_image(year_date):\n",
        "  start = ee.Date.fromYMD(year_date, 1, 1)\n",
        "  end = ee.Date.fromYMD(year_date, 12, 31)\n",
        "  date_range = ee.DateRange(start, end)\n",
        "  # name = start.format('YYYY_MM').cat('_to_').cat(end.format('YYYY_MM'))\n",
        "  name = year_date\n",
        "  return lights \\\n",
        "        .filterDate(date_range) \\\n",
        "        .select('DNB_At_Sensor_Radiance_500m') \\\n",
        "        .reduce(reducer = reducer_list) \\\n",
        "        .clip(aoi) \\\n",
        "        .set({'name': name})\n",
        "\n",
        "annual_image = year_list.map(annual_image)\n",
        "\n",
        "## Check an element of list\n",
        "year_mosaic = ee.Image(annual_image.get(1))\n",
        "label = ee.String(year_mosaic.get('name')).getInfo()\n",
        "print(label)\n",
        "print(year_mosaic.getInfo())\n",
        "print(year_mosaic.bandNames().getInfo())\n",
        "\n",
        "## Check a reducer band\n",
        "band_select = \".*\" + img_col_reducer\n",
        "print(band_select)\n",
        "print(year_mosaic.select(band_select).getInfo())"
      ]
    },
    {
      "cell_type": "markdown",
      "metadata": {
        "id": "i5vQjmLxemR7"
      },
      "source": [
        "## Export data - create task\n",
        "\n",
        "`filenamePrefix` should be in format: place_layer_timeperiod"
      ]
    },
    {
      "cell_type": "code",
      "execution_count": null,
      "metadata": {
        "id": "IGK70Xg1hdPh"
      },
      "outputs": [],
      "source": [
        "for i in  range(ee.List.length(annual_image).getInfo()):\n",
        "  band_select = \".*\" + img_col_reducer\n",
        "  output_img =  ee.Image(annual_image.get(i))\n",
        "  output_img = output_img.select(band_select)\n",
        "  # output_name = f\"{layer_name}_{aoi_name}_{img_col_reducer}_{ee.String(output_img.get('name')).getInfo()}\"\n",
        "  output_name = f\"{layer_name}_{aoi_name}_{ee.String(output_img.get('name')).getInfo()}\"\n",
        "\n",
        "\n",
        "  task = ee.batch.Export.image.toDrive(image = output_img,\n",
        "                                      region = aoi.geometry(),\n",
        "                                      description = \"EXPORT IMAGE TO DRIVE\",\n",
        "                                      folder = \"GEE_exports\",\n",
        "                                      fileNamePrefix = output_name,\n",
        "                                      scale = 500,\n",
        "                                      maxPixels = 10e12,\n",
        "                                      crs = \"EPSG:4326\"\n",
        "                                      )\n",
        "  task.start()\n",
        "  print(\"STARTED TASK \", i+1)"
      ]
    },
    {
      "cell_type": "markdown",
      "metadata": {
        "id": "JTou0uwZf07f"
      },
      "source": [
        "## Check task status\n",
        "\n",
        "[List](https://developers.google.com/earth-engine/guides/processing_environments#list-of-task-states) of task status messages (state field)\n"
      ]
    },
    {
      "cell_type": "code",
      "execution_count": null,
      "metadata": {
        "id": "pW1XtRbvszlI"
      },
      "outputs": [],
      "source": [
        "tasks = ee.batch.Task.list()\n",
        "for task in tasks[0:ee.List.length(year_list).getInfo()]:\n",
        "  task_id = task.status()['id']\n",
        "  task_state = task.status()['state']\n",
        "  print(task_id, task_state)"
      ]
    }
  ],
  "metadata": {
    "colab": {
      "provenance": [],
      "toc_visible": true,
      "mount_file_id": "1JK2Bt52NRaE_oWYNyouZQQwZyniBWvpk",
      "authorship_tag": "ABX9TyM6j46M07sW2+Q3p5pD65Pi",
      "include_colab_link": true
    },
    "kernelspec": {
      "display_name": "Python 3",
      "name": "python3"
    },
    "language_info": {
      "name": "python"
    }
  },
  "nbformat": 4,
  "nbformat_minor": 0
}